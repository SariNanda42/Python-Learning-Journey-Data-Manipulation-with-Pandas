{
  "nbformat": 4,
  "nbformat_minor": 0,
  "metadata": {
    "colab": {
      "name": "Data Manipulation With Pandas.ipynb",
      "provenance": [],
      "collapsed_sections": [],
      "authorship_tag": "ABX9TyOQNzZHWDixdfTw8Z0zib8n",
      "include_colab_link": true
    },
    "kernelspec": {
      "name": "python3",
      "display_name": "Python 3"
    },
    "language_info": {
      "name": "python"
    }
  },
  "cells": [
    {
      "cell_type": "markdown",
      "metadata": {
        "id": "view-in-github",
        "colab_type": "text"
      },
      "source": [
        "<a href=\"https://colab.research.google.com/github/SariNanda42/Python-Learning-Journey-Python-for-Biggener/blob/main/Data_Manipulation_With_Pandas.ipynb\" target=\"_parent\"><img src=\"https://colab.research.google.com/assets/colab-badge.svg\" alt=\"Open In Colab\"/></a>"
      ]
    },
    {
      "cell_type": "code",
      "execution_count": null,
      "metadata": {
        "id": "a8eoblcznsqq"
      },
      "outputs": [],
      "source": [
        "import pandas as pd\n",
        "import numpy as np"
      ]
    },
    {
      "cell_type": "code",
      "source": [
        "# series\n",
        "number_list = pd.Series([5,6,7,8,9,0])\n",
        "print(\"Series:\")\n",
        "print(number_list)"
      ],
      "metadata": {
        "colab": {
          "base_uri": "https://localhost:8080/"
        },
        "id": "xZekAEcapfie",
        "outputId": "1289dad2-61e3-4242-ec0d-4aac12d8a46c"
      },
      "execution_count": null,
      "outputs": [
        {
          "output_type": "stream",
          "name": "stdout",
          "text": [
            "Series:\n",
            "0    5\n",
            "1    6\n",
            "2    7\n",
            "3    8\n",
            "4    9\n",
            "5    0\n",
            "dtype: int64\n"
          ]
        }
      ]
    },
    {
      "cell_type": "code",
      "source": [
        "# Data Frame \n",
        "matrix = [[7, 8, 9, 0],\n",
        "          ['a','b','c','d','e'],\n",
        "          [6, 7, 8],\n",
        "          ['d', 6,7,8]]\n",
        "matrix_list= pd.DataFrame(matrix)\n",
        "print(\"DataFrame\")\n",
        "print(matrix_list)"
      ],
      "metadata": {
        "colab": {
          "base_uri": "https://localhost:8080/"
        },
        "id": "243jjWjWpmGA",
        "outputId": "fcf11fab-41c5-491d-9c02-5268ddd10216"
      },
      "execution_count": null,
      "outputs": [
        {
          "output_type": "stream",
          "name": "stdout",
          "text": [
            "DataFrame\n",
            "   0  1  2     3     4\n",
            "0  7  8  9     0  None\n",
            "1  a  b  c     d     e\n",
            "2  6  7  8  None  None\n",
            "3  d  6  7     8  None\n"
          ]
        }
      ]
    },
    {
      "cell_type": "markdown",
      "source": [
        "Atribut Data Frame dan Series Part I"
      ],
      "metadata": {
        "id": "BF6nfdfGpvXE"
      }
    },
    {
      "cell_type": "code",
      "source": [
        "import pandas as pd\n",
        "# Series\n",
        "number_list = pd.Series([5,6,7,8,9])\n",
        "matrix_list = pd.DataFrame([[7, 8, 9, 0],\n",
        "          ['a','b','c','d','e'],\n",
        "          [6, 7, 8],\n",
        "          ['d', 6,7,8]])"
      ],
      "metadata": {
        "id": "B4BRuk6ppwJQ"
      },
      "execution_count": null,
      "outputs": []
    },
    {
      "cell_type": "code",
      "source": [
        "# method.info\n",
        "print(\"[1] method.info()\")\n",
        "print(matrix_list.info())"
      ],
      "metadata": {
        "colab": {
          "base_uri": "https://localhost:8080/"
        },
        "id": "k64Er1Ffpz9a",
        "outputId": "4d636050-8179-4c3d-c715-5476e0688eb3"
      },
      "execution_count": null,
      "outputs": [
        {
          "output_type": "stream",
          "name": "stdout",
          "text": [
            "[1] method.info()\n",
            "<class 'pandas.core.frame.DataFrame'>\n",
            "RangeIndex: 4 entries, 0 to 3\n",
            "Data columns (total 5 columns):\n",
            " #   Column  Non-Null Count  Dtype \n",
            "---  ------  --------------  ----- \n",
            " 0   0       4 non-null      object\n",
            " 1   1       4 non-null      object\n",
            " 2   2       4 non-null      object\n",
            " 3   3       3 non-null      object\n",
            " 4   4       1 non-null      object\n",
            "dtypes: object(5)\n",
            "memory usage: 288.0+ bytes\n",
            "None\n"
          ]
        }
      ]
    },
    {
      "cell_type": "code",
      "source": [
        "# atribut .shape\n",
        "print(\"\\n[2] attribute.shape\")\n",
        "print(\"   Shape dari number_list :\", number_list.shape)\n",
        "print(\"   Shape dari matrix_list :\",matrix_list.shape)"
      ],
      "metadata": {
        "colab": {
          "base_uri": "https://localhost:8080/"
        },
        "id": "Aokh0uPCp5Re",
        "outputId": "535f7991-e4f6-4a2a-f750-ca4a953571f2"
      },
      "execution_count": null,
      "outputs": [
        {
          "output_type": "stream",
          "name": "stdout",
          "text": [
            "\n",
            "[2] attribute.shape\n",
            "   Shape dari number_list : (5,)\n",
            "   Shape dari matrix_list : (4, 5)\n"
          ]
        }
      ]
    },
    {
      "cell_type": "code",
      "source": [
        "# attribute .dtypes\n",
        "print(\"\\n[2] attribute.dtypes\")\n",
        "print(\"   dtypes dari number_list :\", number_list.dtypes)\n",
        "print(\"   dtypes dari matrix_list :\", matrix_list.dtypes)"
      ],
      "metadata": {
        "colab": {
          "base_uri": "https://localhost:8080/"
        },
        "id": "8FVdT-nYqHEc",
        "outputId": "2d873365-78d3-4c2d-e8dd-7909b6993148"
      },
      "execution_count": null,
      "outputs": [
        {
          "output_type": "stream",
          "name": "stdout",
          "text": [
            "\n",
            "[2] attribute.dtypes\n",
            "   dtypes dari number_list : int64\n",
            "   dtypes dari matrix_list : 0    object\n",
            "1    object\n",
            "2    object\n",
            "3    object\n",
            "4    object\n",
            "dtype: object\n"
          ]
        }
      ]
    },
    {
      "cell_type": "code",
      "source": [
        "# method .astype()\n",
        "print(\"\\n[2] attribute.astype()\")\n",
        "print(\"   astype dari number_list :\", number_list.astype(\"str\"))\n",
        "print(\"   astype dari matrix_list :\", matrix_list.astype(\"str\"))"
      ],
      "metadata": {
        "colab": {
          "base_uri": "https://localhost:8080/"
        },
        "id": "cVNGYxGOsugD",
        "outputId": "fa3fc5d0-b584-43b5-e9da-2af4fa483ec8"
      },
      "execution_count": null,
      "outputs": [
        {
          "output_type": "stream",
          "name": "stdout",
          "text": [
            "\n",
            "[2] attribute.astype()\n",
            "   astype dari number_list : 0    5\n",
            "1    6\n",
            "2    7\n",
            "3    8\n",
            "4    9\n",
            "dtype: object\n",
            "   astype dari matrix_list :    0  1  2     3     4\n",
            "0  7  8  9     0  None\n",
            "1  a  b  c     d     e\n",
            "2  6  7  8  None  None\n",
            "3  d  6  7     8  None\n"
          ]
        }
      ]
    },
    {
      "cell_type": "markdown",
      "source": [
        "Attribute DataFrame dan Series Part II"
      ],
      "metadata": {
        "id": "CYuY1h4ts8U3"
      }
    },
    {
      "cell_type": "code",
      "source": [
        "import pandas as pd\n",
        "# Series\n",
        "number_list = pd.Series([5,6,7,8,9])\n",
        "matrix_list = pd.DataFrame([[7, 8, 9, 0],\n",
        "          ['a','b','c','d','e'],\n",
        "          [6, 7, 8],\n",
        "          ['d', 6,7,8]])"
      ],
      "metadata": {
        "id": "A8bnTsLQs9O4"
      },
      "execution_count": null,
      "outputs": []
    },
    {
      "cell_type": "code",
      "source": [
        "# Attribute .copy()\n",
        "print(\"[5] attribute.copy()\")\n",
        "num_list = number_list.copy()\n",
        "print(\"Copy number_list ke num_list :\", num_list)\n",
        "mtr_list = matrix_list.copy()\n",
        "print(\"Copy matrix_list ke mtr_list :\", mtr_list)"
      ],
      "metadata": {
        "colab": {
          "base_uri": "https://localhost:8080/"
        },
        "id": "4PJ5XrkntBHo",
        "outputId": "b08a13c1-3108-48f0-c542-c6e0b3c32265"
      },
      "execution_count": null,
      "outputs": [
        {
          "output_type": "stream",
          "name": "stdout",
          "text": [
            "[5] attribute.copy()\n",
            "Copy number_list ke num_list : 0    5\n",
            "1    6\n",
            "2    7\n",
            "3    8\n",
            "4    9\n",
            "dtype: int64\n",
            "Copy matrix_list ke mtr_list :    0  1  2     3     4\n",
            "0  7  8  9     0  None\n",
            "1  a  b  c     d     e\n",
            "2  6  7  8  None  None\n",
            "3  d  6  7     8  None\n"
          ]
        }
      ]
    },
    {
      "cell_type": "code",
      "source": [
        "# Attribute.to_list()\n",
        "print(number_list)\n",
        "print(number_list.to_list())"
      ],
      "metadata": {
        "colab": {
          "base_uri": "https://localhost:8080/"
        },
        "id": "1bJAr6w9tUFd",
        "outputId": "55b10dde-7df3-4139-8f12-b87accfc388d"
      },
      "execution_count": null,
      "outputs": [
        {
          "output_type": "stream",
          "name": "stdout",
          "text": [
            "0    5\n",
            "1    6\n",
            "2    7\n",
            "3    8\n",
            "4    9\n",
            "dtype: int64\n",
            "[5, 6, 7, 8, 9]\n"
          ]
        }
      ]
    },
    {
      "cell_type": "code",
      "source": [
        "# Attribute .unique()\n",
        "print(number_list.unique())"
      ],
      "metadata": {
        "colab": {
          "base_uri": "https://localhost:8080/"
        },
        "id": "nqQanItTuG7U",
        "outputId": "d1f97526-c976-41bc-b2e1-b8a125ecd372"
      },
      "execution_count": null,
      "outputs": [
        {
          "output_type": "stream",
          "name": "stdout",
          "text": [
            "[5 6 7 8 9]\n"
          ]
        }
      ]
    },
    {
      "cell_type": "markdown",
      "source": [
        "Attribute DataFrame Part III"
      ],
      "metadata": {
        "id": "iAWb9_rvyAXV"
      }
    },
    {
      "cell_type": "code",
      "source": [
        "import pandas as pd\n",
        "number_list = pd.Series([5,6,7,8,9])\n",
        "matrix_list = pd.DataFrame([[7, 8, 9, 0],\n",
        "          ['a','b','c','d','e'],\n",
        "          [6, 7, 8],\n",
        "          ['d', 6,7,8]])"
      ],
      "metadata": {
        "id": "GCkBPY_SyBkd"
      },
      "execution_count": null,
      "outputs": []
    },
    {
      "cell_type": "code",
      "source": [
        "# Attribute .index\n",
        "print(\"[8] Attribute .index\")\n",
        "print(\"   Index number_list :\", number_list.index)\n",
        "print(\"   Index matrix_list :\", matrix_list.index)"
      ],
      "metadata": {
        "colab": {
          "base_uri": "https://localhost:8080/"
        },
        "id": "HKAY4jvkyE2F",
        "outputId": "0185d2b8-d2b0-4722-ae80-79ca5672338e"
      },
      "execution_count": null,
      "outputs": [
        {
          "output_type": "stream",
          "name": "stdout",
          "text": [
            "[8] Attribute .index\n",
            "   Index number_list : RangeIndex(start=0, stop=5, step=1)\n",
            "   Index matrix_list : RangeIndex(start=0, stop=4, step=1)\n"
          ]
        }
      ]
    },
    {
      "cell_type": "code",
      "source": [
        "# Attribue .columns \n",
        "print(\"[9] Attribute .columns\")\n",
        "print(\"   columns number_list :\", number_list)\n",
        "print(\"   columns matrix_list :\", matrix_list)"
      ],
      "metadata": {
        "colab": {
          "base_uri": "https://localhost:8080/"
        },
        "id": "-2WNzFC4yOIw",
        "outputId": "f1008224-e73f-4c7d-c7aa-741644633d60"
      },
      "execution_count": null,
      "outputs": [
        {
          "output_type": "stream",
          "name": "stdout",
          "text": [
            "[9] Attribute .columns\n",
            "   columns number_list : 0    5\n",
            "1    6\n",
            "2    7\n",
            "3    8\n",
            "4    9\n",
            "dtype: int64\n",
            "   columns matrix_list :    0  1  2     3     4\n",
            "0  7  8  9     0  None\n",
            "1  a  b  c     d     e\n",
            "2  6  7  8  None  None\n",
            "3  d  6  7     8  None\n"
          ]
        }
      ]
    },
    {
      "cell_type": "code",
      "source": [
        "# Attribute .loc\n",
        "print(\"[10] Attribute .loc\")\n",
        "print(\"   loc number_list :\", number_list.loc[0:1])\n",
        "print(\"   loc matrix_list :\", matrix_list.loc[0:1])"
      ],
      "metadata": {
        "colab": {
          "base_uri": "https://localhost:8080/"
        },
        "id": "ncIwv-bTym9Z",
        "outputId": "34856161-3b13-411b-a6e6-6adf75210c67"
      },
      "execution_count": null,
      "outputs": [
        {
          "output_type": "stream",
          "name": "stdout",
          "text": [
            "[10] Attribute .loc\n",
            "   loc number_list : 0    5\n",
            "1    6\n",
            "dtype: int64\n",
            "   loc matrix_list :    0  1  2  3     4\n",
            "0  7  8  9  0  None\n",
            "1  a  b  c  d     e\n"
          ]
        }
      ]
    },
    {
      "cell_type": "code",
      "source": [
        "# Attribute .iloc\n",
        "print(\"[11] Attribut .iloc\")\n",
        "print(\"   iloc number_list :\", number_list.iloc[0:1])\n",
        "print(\"   iloc matrix_list :\", matrix_list.iloc[0:1])"
      ],
      "metadata": {
        "colab": {
          "base_uri": "https://localhost:8080/"
        },
        "id": "oqsMSCZTy5ST",
        "outputId": "23281974-c3f3-4fe9-c36d-b2810540d839"
      },
      "execution_count": null,
      "outputs": [
        {
          "output_type": "stream",
          "name": "stdout",
          "text": [
            "[11] Attribut .iloc\n",
            "   iloc number_list : 0    5\n",
            "dtype: int64\n",
            "   iloc matrix_list :    0  1  2  3     4\n",
            "0  7  8  9  0  None\n"
          ]
        }
      ]
    },
    {
      "cell_type": "markdown",
      "source": [
        "Creating Series & Data Frame from list"
      ],
      "metadata": {
        "id": "blit3La30gzQ"
      }
    },
    {
      "cell_type": "code",
      "source": [
        "import pandas as pd\n",
        "# Creating series from list\n",
        "ex_list = ['a', 1, 5, 6, 'e', 'c']\n",
        "ex_series = pd.Series(ex_list)\n",
        "print(ex_series)"
      ],
      "metadata": {
        "colab": {
          "base_uri": "https://localhost:8080/"
        },
        "id": "kuqrd_YX0jrH",
        "outputId": "a0aa0308-6fb6-4260-8c07-a831693d88de"
      },
      "execution_count": null,
      "outputs": [
        {
          "output_type": "stream",
          "name": "stdout",
          "text": [
            "0    a\n",
            "1    1\n",
            "2    5\n",
            "3    6\n",
            "4    e\n",
            "5    c\n",
            "dtype: object\n"
          ]
        }
      ]
    },
    {
      "cell_type": "code",
      "source": [
        "# Creating series from DataFrame\n",
        "ex_list_of_list =  [[1, 'a', 'b', 'c'],\n",
        "                   [2.5 , 'd', 'e', 'f'],\n",
        "\t\t           [5, 'g', 'h', 'i'],\n",
        "\t\t           [7.5, 'j', 10.5, 'l']]\n",
        "index = ['dq', 'lab', 'kar', 'lan']\n",
        "cols = ['float', 'char', 'obj', 'char']\n",
        "ex_df = pd.DataFrame(ex_list_of_list, index=index, columns=cols)\n",
        "print(ex_df)"
      ],
      "metadata": {
        "colab": {
          "base_uri": "https://localhost:8080/"
        },
        "id": "MkiUD4EW0uyK",
        "outputId": "b3cd7053-e5e1-4afa-e402-aa427c1324c5"
      },
      "execution_count": null,
      "outputs": [
        {
          "output_type": "stream",
          "name": "stdout",
          "text": [
            "     float char   obj char\n",
            "dq     1.0    a     b    c\n",
            "lab    2.5    d     e    f\n",
            "kar    5.0    g     h    i\n",
            "lan    7.5    j  10.5    l\n"
          ]
        }
      ]
    },
    {
      "cell_type": "markdown",
      "source": [
        "Creating Series & DataFrame from Dictionary"
      ],
      "metadata": {
        "id": "8N7HHQZs1AKD"
      }
    },
    {
      "cell_type": "code",
      "source": [
        "import pandas as pd \n",
        "# Creating Series from Dictionary \n",
        "dict_series = {'1' : 'a', \n",
        "               '2' : 'b',\n",
        "               '5' : 'c'}\n",
        "ex_series = pd.Series(dict_series)\n",
        "print(ex_series) "
      ],
      "metadata": {
        "colab": {
          "base_uri": "https://localhost:8080/"
        },
        "id": "I90Sw-5C1Bm4",
        "outputId": "944dc196-1c68-4b67-d611-6a8056c68eea"
      },
      "execution_count": null,
      "outputs": [
        {
          "output_type": "stream",
          "name": "stdout",
          "text": [
            "1    a\n",
            "2    b\n",
            "5    c\n",
            "dtype: object\n"
          ]
        }
      ]
    },
    {
      "cell_type": "code",
      "source": [
        "# Creating DataFrame from Dictionary\n",
        "df_series = {'1' : ['a', 'b', 'c'], \n",
        "             '2' : ['d', 'e', 'f'],\n",
        "             '5' : [2,5, 'z']}\n",
        "ex_df = pd.DataFrame(df_series)\n",
        "print(ex_df)"
      ],
      "metadata": {
        "colab": {
          "base_uri": "https://localhost:8080/"
        },
        "id": "limp3ogl1IMv",
        "outputId": "f2cad1b3-fcbd-45b9-fe11-0eff03e45bdc"
      },
      "execution_count": null,
      "outputs": [
        {
          "output_type": "stream",
          "name": "stdout",
          "text": [
            "   1  2  5\n",
            "0  a  d  2\n",
            "1  b  e  5\n",
            "2  c  f  z\n"
          ]
        }
      ]
    },
    {
      "cell_type": "markdown",
      "source": [
        "Creating Series & DataFrame from Numpy array"
      ],
      "metadata": {
        "id": "VkLox-0P19D2"
      }
    },
    {
      "cell_type": "code",
      "source": [
        "import pandas as pd\n",
        "import numpy as np\n",
        "# Creating series from numpy array(1D)\n",
        "arr_series = np.array([1,2,5,6,7,8,9,10])\n",
        "ex_series = pd.Series(arr_series)\n",
        "print(ex_series)"
      ],
      "metadata": {
        "colab": {
          "base_uri": "https://localhost:8080/"
        },
        "id": "KPvHHXHi2Ahh",
        "outputId": "54af5d36-9b95-4de5-872a-1ff49cda079e"
      },
      "execution_count": null,
      "outputs": [
        {
          "output_type": "stream",
          "name": "stdout",
          "text": [
            "0     1\n",
            "1     2\n",
            "2     5\n",
            "3     6\n",
            "4     7\n",
            "5     8\n",
            "6     9\n",
            "7    10\n",
            "dtype: int64\n"
          ]
        }
      ]
    },
    {
      "cell_type": "code",
      "source": [
        "# Creating series from numpy array (2D)\n",
        "arr_df = np.array([[1  ,2  ,3  ,5],\n",
        "                   [5  ,6  ,7  ,8],\n",
        "                   ['a','b','c',10]])\n",
        "ex_df = pd.DataFrame(arr_df)\n",
        "print(ex_df)"
      ],
      "metadata": {
        "colab": {
          "base_uri": "https://localhost:8080/"
        },
        "id": "Jfnz_lyf2IhA",
        "outputId": "bd316acd-9dc4-4864-d4c0-6fa503cf0c38"
      },
      "execution_count": null,
      "outputs": [
        {
          "output_type": "stream",
          "name": "stdout",
          "text": [
            "   0  1  2   3\n",
            "0  1  2  3   5\n",
            "1  5  6  7   8\n",
            "2  a  b  c  10\n"
          ]
        }
      ]
    },
    {
      "cell_type": "markdown",
      "source": [
        "Indexing "
      ],
      "metadata": {
        "id": "XK5zQixhLBvT"
      }
    },
    {
      "cell_type": "code",
      "source": [
        "import pandas as pd\n",
        "df = pd.read_csv(\"https://storage.googleapis.com/dqlab-dataset/sample_tsv.tsv\")\n",
        "print(df.index)\n",
        "print(df.columns)"
      ],
      "metadata": {
        "colab": {
          "base_uri": "https://localhost:8080/"
        },
        "id": "OOP423jWLDNM",
        "outputId": "7cc74391-4e6e-47d4-d8a5-50e04518a5bf"
      },
      "execution_count": null,
      "outputs": [
        {
          "output_type": "stream",
          "name": "stdout",
          "text": [
            "RangeIndex(start=0, stop=101, step=1)\n",
            "Index(['order_id\\torder_date\\tcustomer_id\\tcity\\tprovince\\tproduct_id\\tbrand\\tquantity\\titem_price'], dtype='object')\n"
          ]
        }
      ]
    },
    {
      "cell_type": "markdown",
      "source": [
        "Indexing Part II"
      ],
      "metadata": {
        "id": "MRTAGgXqL16M"
      }
    },
    {
      "cell_type": "code",
      "source": [
        "import pandas as pd\n",
        "df= pd.read_csv(\"https://storage.googleapis.com/dqlab-dataset/sample_tsv.tsv\", sep=\"\\t\")\n",
        "df_x = df.set_index(['order_date','city','customer_id' ])\n",
        "for name, level in zip(df_x.index.names, df_x.index.levels):\n",
        "    print(name, ':' , level)"
      ],
      "metadata": {
        "colab": {
          "base_uri": "https://localhost:8080/"
        },
        "id": "nx8jlG04L36w",
        "outputId": "363dba19-5bf6-4e7d-bca5-994c22acc4c4"
      },
      "execution_count": null,
      "outputs": [
        {
          "output_type": "stream",
          "name": "stdout",
          "text": [
            "order_date : Index(['2019-01-01'], dtype='object', name='order_date')\n",
            "city : Index(['Bogor', 'Jakarta Pusat', 'Jakarta Selatan', 'Jakarta Utara',\n",
            "       'Makassar', 'Malang', 'Surabaya', 'Tangerang'],\n",
            "      dtype='object', name='city')\n",
            "customer_id : Int64Index([12681, 13963, 15649, 17091, 17228, 17450, 17470, 17511, 17616,\n",
            "            18055],\n",
            "           dtype='int64', name='customer_id')\n"
          ]
        }
      ]
    },
    {
      "cell_type": "markdown",
      "source": [
        "Indexing Part III"
      ],
      "metadata": {
        "id": "7n15_X_uL9bw"
      }
    },
    {
      "cell_type": "code",
      "source": [
        "import pandas as pd\n",
        "df = pd.read_csv(\"https://storage.googleapis.com/dqlab-dataset/sample_tsv.tsv\", sep=\"\\t\", nrows=10)\n",
        "print(\"Dataframe awal:\\n\", df)\n",
        "df.index = [\"pesanan ke-\" + str(i) for i in range (1,11)]\n",
        "print(\"Dataframe dengan index baru :\\n\", df.index)"
      ],
      "metadata": {
        "colab": {
          "base_uri": "https://localhost:8080/"
        },
        "id": "rjH9SQDgMBGH",
        "outputId": "6153526a-9057-4bf5-a9d7-87ff0f0c8f6a"
      },
      "execution_count": null,
      "outputs": [
        {
          "output_type": "stream",
          "name": "stdout",
          "text": [
            "Dataframe awal:\n",
            "    order_id  order_date  customer_id             city     province product_id  \\\n",
            "0   1612339  2019-01-01        18055  Jakarta Selatan  DKI Jakarta      P0648   \n",
            "1   1612339  2019-01-01        18055  Jakarta Selatan  DKI Jakarta      P3826   \n",
            "2   1612339  2019-01-01        18055  Jakarta Selatan  DKI Jakarta      P1508   \n",
            "3   1612339  2019-01-01        18055  Jakarta Selatan  DKI Jakarta      P0520   \n",
            "4   1612339  2019-01-01        18055  Jakarta Selatan  DKI Jakarta      P1513   \n",
            "5   1612339  2019-01-01        18055  Jakarta Selatan  DKI Jakarta      P3911   \n",
            "6   1612339  2019-01-01        18055  Jakarta Selatan  DKI Jakarta      P1780   \n",
            "7   1612339  2019-01-01        18055  Jakarta Selatan  DKI Jakarta      P3132   \n",
            "8   1612339  2019-01-01        18055  Jakarta Selatan  DKI Jakarta      P1342   \n",
            "9   1612339  2019-01-01        18055  Jakarta Selatan  DKI Jakarta      P2556   \n",
            "\n",
            "     brand  quantity  item_price  \n",
            "0  BRAND_C         4     1934000  \n",
            "1  BRAND_V         8      604000  \n",
            "2  BRAND_G        12      747000  \n",
            "3  BRAND_B        12      450000  \n",
            "4  BRAND_G         3     1500000  \n",
            "5  BRAND_V         3     2095000  \n",
            "6  BRAND_H         3     2095000  \n",
            "7  BRAND_S         3     1745000  \n",
            "8  BRAND_F         6     1045000  \n",
            "9  BRAND_P         6     1045000  \n",
            "Dataframe dengan index baru :\n",
            " Index(['pesanan ke-1', 'pesanan ke-2', 'pesanan ke-3', 'pesanan ke-4',\n",
            "       'pesanan ke-5', 'pesanan ke-6', 'pesanan ke-7', 'pesanan ke-8',\n",
            "       'pesanan ke-9', 'pesanan ke-10'],\n",
            "      dtype='object')\n"
          ]
        }
      ]
    },
    {
      "cell_type": "markdown",
      "source": [
        "Indexing Part IV"
      ],
      "metadata": {
        "id": "9swt8lRGMMlK"
      }
    },
    {
      "cell_type": "code",
      "source": [
        "import pandas as pd\n",
        "df = pd.read_csv(\"https://storage.googleapis.com/dqlab-dataset/sample_tsv.tsv\", sep=\"\\t\", index_col =[\"order_date\",\"order_id\"])\n",
        "print(df.head())"
      ],
      "metadata": {
        "colab": {
          "base_uri": "https://localhost:8080/"
        },
        "id": "naPOiWggMUQy",
        "outputId": "4c9225eb-ca13-4843-93bf-746de245e85c"
      },
      "execution_count": null,
      "outputs": [
        {
          "output_type": "stream",
          "name": "stdout",
          "text": [
            "                     customer_id             city     province product_id  \\\n",
            "order_date order_id                                                         \n",
            "2019-01-01 1612339         18055  Jakarta Selatan  DKI Jakarta      P0648   \n",
            "           1612339         18055  Jakarta Selatan  DKI Jakarta      P3826   \n",
            "           1612339         18055  Jakarta Selatan  DKI Jakarta      P1508   \n",
            "           1612339         18055  Jakarta Selatan  DKI Jakarta      P0520   \n",
            "           1612339         18055  Jakarta Selatan  DKI Jakarta      P1513   \n",
            "\n",
            "                       brand  quantity  item_price  \n",
            "order_date order_id                                 \n",
            "2019-01-01 1612339   BRAND_C         4     1934000  \n",
            "           1612339   BRAND_V         8      604000  \n",
            "           1612339   BRAND_G        12      747000  \n",
            "           1612339   BRAND_B        12      450000  \n",
            "           1612339   BRAND_G         3     1500000  \n"
          ]
        }
      ]
    },
    {
      "cell_type": "markdown",
      "source": [
        "Slicing Part I (method.loc)"
      ],
      "metadata": {
        "id": "t-XFlkNdM3bR"
      }
    },
    {
      "cell_type": "code",
      "source": [
        "import pandas as pd\n",
        "df = pd.read_csv(\"https://storage.googleapis.com/dqlab-dataset/sample_csv.csv\")\n",
        "df_slice = df.loc[([\"customer_id\"] == 18055) & (df[\"product_id\"].isin([\"P0029\", \"P0040\", \"P0041\", \"P0116\", \"P0117\"]))]\n",
        "print(df_slice)"
      ],
      "metadata": {
        "colab": {
          "base_uri": "https://localhost:8080/"
        },
        "id": "ygflYL8GM4mv",
        "outputId": "35e4bd7c-f863-4b7b-c295-b2f2c84a3672"
      },
      "execution_count": null,
      "outputs": [
        {
          "output_type": "stream",
          "name": "stdout",
          "text": [
            "Empty DataFrame\n",
            "Columns: [order_id, order_date, customer_id, city, province, product_id, brand, quantity, item_price]\n",
            "Index: []\n"
          ]
        }
      ]
    },
    {
      "cell_type": "markdown",
      "source": [
        "Slicing Part II based on index (method.set_index)"
      ],
      "metadata": {
        "id": "BaahLcJwM8Lw"
      }
    },
    {
      "cell_type": "code",
      "source": [
        "import pandas as pd\n",
        "df = pd.read_csv(\"https://storage.googleapis.com/dqlab-dataset/sample_csv.csv\")\n",
        "# Set Index\n",
        "df = df.set_index([\"order_date\",\"order_id\", \"product_id\"])\n",
        "# Slice\n",
        "df_slice = df.loc[(\"2019-01-01\", 1612339, [\"P2154\",\"P2159\"]),:]\n",
        "print(df_slice)"
      ],
      "metadata": {
        "colab": {
          "base_uri": "https://localhost:8080/"
        },
        "id": "SiXuvtTpM_c6",
        "outputId": "e9b73304-4fe6-4298-f62a-a8c8aa4e94a5"
      },
      "execution_count": null,
      "outputs": [
        {
          "output_type": "stream",
          "name": "stdout",
          "text": [
            "                                customer_id             city     province  \\\n",
            "order_date order_id product_id                                              \n",
            "2019-01-01 1612339  P2154             18055  Jakarta Selatan  DKI Jakarta   \n",
            "                    P2159             18055  Jakarta Selatan  DKI Jakarta   \n",
            "\n",
            "                                  brand  quantity  item_price  \n",
            "order_date order_id product_id                                 \n",
            "2019-01-01 1612339  P2154       BRAND_M         4     1745000  \n",
            "                    P2159       BRAND_M        24      310000  \n"
          ]
        }
      ]
    },
    {
      "cell_type": "markdown",
      "source": [
        "Transforming Part I"
      ],
      "metadata": {
        "id": "BZUp2AeKNRs4"
      }
    },
    {
      "cell_type": "code",
      "source": [
        "import pandas as pd\n",
        "df = pd.read_csv(\"https://storage.googleapis.com/dqlab-dataset/sample_csv.csv\")\n",
        "print(\"Tipe data df:\\n\", df.dtypes)\n",
        "df[\"order_date\"] = pd.to_datetime(df[\"order_date\"])\n",
        "print(df[\"order_date\"].head())"
      ],
      "metadata": {
        "colab": {
          "base_uri": "https://localhost:8080/"
        },
        "id": "2gip167KOU4V",
        "outputId": "3df21575-576d-4e41-d005-e92fa8e0b1f2"
      },
      "execution_count": null,
      "outputs": [
        {
          "output_type": "stream",
          "name": "stdout",
          "text": [
            "Tipe data df:\n",
            " order_id        int64\n",
            "order_date     object\n",
            "customer_id     int64\n",
            "city           object\n",
            "province       object\n",
            "product_id     object\n",
            "brand          object\n",
            "quantity        int64\n",
            "item_price      int64\n",
            "dtype: object\n",
            "0   2019-01-01\n",
            "1   2019-01-01\n",
            "2   2019-01-01\n",
            "3   2019-01-01\n",
            "4   2019-01-01\n",
            "Name: order_date, dtype: datetime64[ns]\n"
          ]
        }
      ]
    },
    {
      "cell_type": "markdown",
      "source": [
        "Transforming Part II"
      ],
      "metadata": {
        "id": "3wIO7PdKOh3Q"
      }
    },
    {
      "cell_type": "code",
      "source": [
        "import pandas as pd\n",
        "df = pd.read_csv(\"https://storage.googleapis.com/dqlab-dataset/sample_csv.csv\")\n",
        "print(df.dtypes)\n",
        "print(df[\"quantity\"].head())\n",
        "df[\"quantity\"] = pd.to_numeric(df[\"quantity\"], downcast = \"float\")\n",
        "print(df[\"quantity\"].head())\n",
        "print(df[\"city\"].head())\n",
        "df[\"city\"] = df[\"city\"].astype(\"category\")\n",
        "print(df[\"city\"].head())"
      ],
      "metadata": {
        "colab": {
          "base_uri": "https://localhost:8080/"
        },
        "id": "EtprAKRuOpcg",
        "outputId": "aa646ca6-8487-4089-ce61-100cc54ee88b"
      },
      "execution_count": null,
      "outputs": [
        {
          "output_type": "stream",
          "name": "stdout",
          "text": [
            "order_id        int64\n",
            "order_date     object\n",
            "customer_id     int64\n",
            "city           object\n",
            "province       object\n",
            "product_id     object\n",
            "brand          object\n",
            "quantity        int64\n",
            "item_price      int64\n",
            "dtype: object\n",
            "0     4\n",
            "1     8\n",
            "2    12\n",
            "3    12\n",
            "4     3\n",
            "Name: quantity, dtype: int64\n",
            "0     4.0\n",
            "1     8.0\n",
            "2    12.0\n",
            "3    12.0\n",
            "4     3.0\n",
            "Name: quantity, dtype: float32\n",
            "0    Jakarta Selatan\n",
            "1    Jakarta Selatan\n",
            "2    Jakarta Selatan\n",
            "3    Jakarta Selatan\n",
            "4    Jakarta Selatan\n",
            "Name: city, dtype: object\n",
            "0    Jakarta Selatan\n",
            "1    Jakarta Selatan\n",
            "2    Jakarta Selatan\n",
            "3    Jakarta Selatan\n",
            "4    Jakarta Selatan\n",
            "Name: city, dtype: category\n",
            "Categories (8, object): ['Bogor', 'Jakarta Pusat', 'Jakarta Selatan', 'Jakarta Utara',\n",
            "                         'Makassar', 'Malang', 'Surabaya', 'Tangerang']\n"
          ]
        }
      ]
    },
    {
      "cell_type": "markdown",
      "source": [
        "Transforming Part III (method.apply) & (method.map()"
      ],
      "metadata": {
        "id": "5551bGxJO3Iy"
      }
    },
    {
      "cell_type": "code",
      "source": [
        "import pandas as pd\n",
        "df = pd.read_csv(\"https://storage.googleapis.com/dqlab-dataset/sample_csv.csv\")\n",
        "# Cetak 5 baris teratas dari kolom brand\n",
        "print(\"Kolom brand awal:\\n\", df[\"brand\"].head())\n",
        "# Ubah kolom brand menjadi lower case\n",
        "df[\"brand\"] = df[\"brand\"].apply(lambda x : x.lower())\n",
        "print(\"Kolom brand setelah di lower case :\\n\", df[\"brand\"].head())\n",
        "# Mengambil kode brand(karakter terakhir)\n",
        "df[\"brand\"] = df[\"brand\"].map(lambda x : x[-1])\n",
        "print(\"Kolom brand setelah dimap :\\n\", df[\"brand\"].head())"
      ],
      "metadata": {
        "colab": {
          "base_uri": "https://localhost:8080/"
        },
        "id": "IACAJOigPBWs",
        "outputId": "8c1417ba-a2c0-4ce7-84a7-6cd9edd58d74"
      },
      "execution_count": null,
      "outputs": [
        {
          "output_type": "stream",
          "name": "stdout",
          "text": [
            "Kolom brand awal:\n",
            " 0    BRAND_C\n",
            "1    BRAND_V\n",
            "2    BRAND_G\n",
            "3    BRAND_B\n",
            "4    BRAND_G\n",
            "Name: brand, dtype: object\n",
            "Kolom brand setelah di lower case :\n",
            " 0    brand_c\n",
            "1    brand_v\n",
            "2    brand_g\n",
            "3    brand_b\n",
            "4    brand_g\n",
            "Name: brand, dtype: object\n",
            "Kolom brand setelah dimap :\n",
            " 0    c\n",
            "1    v\n",
            "2    g\n",
            "3    b\n",
            "4    g\n",
            "Name: brand, dtype: object\n"
          ]
        }
      ]
    },
    {
      "cell_type": "markdown",
      "source": [
        "\n",
        "Penggabungan Series Data Frame Beberapa Cara menggabungkan Series/Data Frame\n",
        "\n",
        "\n",
        "1.   method.append()\n",
        "\n",
        "\n",
        "\n"
      ],
      "metadata": {
        "id": "WgJXY2cgS1wl"
      }
    },
    {
      "cell_type": "code",
      "source": [
        "import pandas as pd\n",
        "# Buat Series int dan string\n",
        "s1 = pd.Series([5,6,7,8,9,10])\n",
        "s2 = pd.Series(['a','b','c','d','d','f'])\n",
        "append_s1_s2 = s1.append(s2)\n",
        "print(\"hasil append \\n \", append_s1_s2)\n"
      ],
      "metadata": {
        "colab": {
          "base_uri": "https://localhost:8080/"
        },
        "id": "i01gClCVS9YG",
        "outputId": "96ce0db1-a2ab-42f0-b24a-7a5be0ea54ec"
      },
      "execution_count": null,
      "outputs": [
        {
          "output_type": "stream",
          "name": "stdout",
          "text": [
            "hasil append \n",
            "  0     5\n",
            "1     6\n",
            "2     7\n",
            "3     8\n",
            "4     9\n",
            "5    10\n",
            "0     a\n",
            "1     b\n",
            "2     c\n",
            "3     d\n",
            "4     d\n",
            "5     f\n",
            "dtype: object\n"
          ]
        }
      ]
    },
    {
      "cell_type": "code",
      "source": [
        "# Buat Series Data Frame \n",
        "df1 = pd.DataFrame({'a' : [1,2], 'b' : [5,6]})\n",
        "df2 = pd.DataFrame({'b' : [1,2], 'a' : [5,6]})\n",
        "append_df1_df2 = df1.append(df2)\n",
        "print(df1)\n",
        "print(df2)\n",
        "print(\"Hasil append \\n\", append_df1_df2)"
      ],
      "metadata": {
        "colab": {
          "base_uri": "https://localhost:8080/"
        },
        "id": "yCmOYsuETGYT",
        "outputId": "173cc65d-c8b3-4d03-ae9d-5748dfeed20c"
      },
      "execution_count": null,
      "outputs": [
        {
          "output_type": "stream",
          "name": "stdout",
          "text": [
            "   a  b\n",
            "0  1  5\n",
            "1  2  6\n",
            "   b  a\n",
            "0  1  5\n",
            "1  2  6\n",
            "Hasil append \n",
            "    a  b\n",
            "0  1  5\n",
            "1  2  6\n",
            "0  5  1\n",
            "1  6  2\n"
          ]
        }
      ]
    },
    {
      "cell_type": "markdown",
      "source": [
        "Method .concat()"
      ],
      "metadata": {
        "id": "-haOAeGzTTyg"
      }
    },
    {
      "cell_type": "code",
      "source": [
        "import pandas as pd\n",
        "df1 = pd.DataFrame({'a' : [1,2], 'b' : [5,6]})\n",
        "df2 = pd.DataFrame({'b' : [1,2], 'a' : [5,6]})\n",
        "\n",
        "# Terapkan method concat row-wise\n",
        "row_wise_concat = pd.concat([df1,df2])\n",
        "print(\"Row wise - concat :\\n\", row_wise_concat)"
      ],
      "metadata": {
        "colab": {
          "base_uri": "https://localhost:8080/"
        },
        "id": "rQKcfDIcTVkD",
        "outputId": "8197b494-f536-45cd-c289-86773e1e85b0"
      },
      "execution_count": null,
      "outputs": [
        {
          "output_type": "stream",
          "name": "stdout",
          "text": [
            "Row wise - concat :\n",
            "    a  b\n",
            "0  1  5\n",
            "1  2  6\n",
            "0  5  1\n",
            "1  6  2\n"
          ]
        }
      ]
    },
    {
      "cell_type": "code",
      "source": [
        "# Terapkan method concat column-wise\n",
        "col_wise_concat = pd.concat([df1,df2], axis =1)\n",
        "print(\"column_wise_concat :\\n\", col_wise_concat)"
      ],
      "metadata": {
        "colab": {
          "base_uri": "https://localhost:8080/"
        },
        "id": "HbiQEA-XTZVI",
        "outputId": "dc394767-fed2-422c-f550-a1c3ab4cb2c0"
      },
      "execution_count": null,
      "outputs": [
        {
          "output_type": "stream",
          "name": "stdout",
          "text": [
            "column_wise_concat :\n",
            "    a  b  b  a\n",
            "0  1  5  1  5\n",
            "1  2  6  2  6\n"
          ]
        }
      ]
    },
    {
      "cell_type": "code",
      "source": [
        "# Penambahan Identifier --> untuk membentuk hasil penggabungan multi index\n",
        "multiindex_concat = pd.concat([df1,df2], axis=0, keys= [\"df1\",\"df2\"])\n",
        "print(\"multi index concat :\\n\", multiindex_concat)"
      ],
      "metadata": {
        "colab": {
          "base_uri": "https://localhost:8080/"
        },
        "id": "0Ogm150PTcPf",
        "outputId": "af9e0545-1890-400a-ef5b-a32d160e34d5"
      },
      "execution_count": null,
      "outputs": [
        {
          "output_type": "stream",
          "name": "stdout",
          "text": [
            "multi index concat :\n",
            "        a  b\n",
            "df1 0  1  5\n",
            "    1  2  6\n",
            "df2 0  5  1\n",
            "    1  6  2\n"
          ]
        }
      ]
    },
    {
      "cell_type": "markdown",
      "source": [
        "Method .merge() part I (left,right,inner,outer)italicized text"
      ],
      "metadata": {
        "id": "fuqPSiPST3nQ"
      }
    },
    {
      "cell_type": "code",
      "source": [
        "import pandas as pd\n",
        "# Data frame df1 df2 \n",
        "df1 = pd.DataFrame({'key': ['k5','k6','k7','k8','k9'], \n",
        "                    'val1': [200, 500, 0, 500, 100], \n",
        "                    'val2' : [20,50,100, 20, 10]})\n",
        "df2 = pd.DataFrame({'key': ['k1','k4','k5','k7','k10'], \n",
        "                    'val3' :[5, 6, 7, 8, 9], \n",
        "                    'val4' : [10,11,12,15,16]})\n",
        "print('hasil df1 dan df2  :\\n', df1,df2)"
      ],
      "metadata": {
        "colab": {
          "base_uri": "https://localhost:8080/"
        },
        "id": "Xk09F-ZvT52A",
        "outputId": "84ecabf6-e825-4e84-fcd4-ef93f7e47f21"
      },
      "execution_count": null,
      "outputs": [
        {
          "output_type": "stream",
          "name": "stdout",
          "text": [
            "hasil df1 dan df2  :\n",
            "   key  val1  val2\n",
            "0  k5   200    20\n",
            "1  k6   500    50\n",
            "2  k7     0   100\n",
            "3  k8   500    20\n",
            "4  k9   100    10    key  val3  val4\n",
            "0   k1     5    10\n",
            "1   k4     6    11\n",
            "2   k5     7    12\n",
            "3   k7     8    15\n",
            "4  k10     9    16\n"
          ]
        }
      ]
    },
    {
      "cell_type": "code",
      "source": [
        "# Merge yang eqivalen dgn sql left join\n",
        "merge_df_left = pd.merge(left=df1, right=df2, how = 'left', left_on = 'key', right_on ='key')\n",
        "print('Merge - Left \\n :', merge_df_left)"
      ],
      "metadata": {
        "colab": {
          "base_uri": "https://localhost:8080/"
        },
        "id": "EGqV43xtT-AC",
        "outputId": "6af84d1e-57a1-4194-e231-3b3b3461b747"
      },
      "execution_count": null,
      "outputs": [
        {
          "output_type": "stream",
          "name": "stdout",
          "text": [
            "Merge - Left \n",
            " :   key  val1  val2  val3  val4\n",
            "0  k5   200    20   7.0  12.0\n",
            "1  k6   500    50   NaN   NaN\n",
            "2  k7     0   100   8.0  15.0\n",
            "3  k8   500    20   NaN   NaN\n",
            "4  k9   100    10   NaN   NaN\n"
          ]
        }
      ]
    },
    {
      "cell_type": "code",
      "source": [
        "# Merge yang eqivalen dengan sql right join\n",
        "merge_df_right = pd.merge(left=df1, right=df2, how='right', left_on='key', right_on='key')\n",
        "print('Merge -right \\n :', merge_df_right)"
      ],
      "metadata": {
        "colab": {
          "base_uri": "https://localhost:8080/"
        },
        "id": "QbvkreQ7UPvz",
        "outputId": "85df5a88-cdb6-4b7b-b14c-d06c43d09666"
      },
      "execution_count": null,
      "outputs": [
        {
          "output_type": "stream",
          "name": "stdout",
          "text": [
            "Merge -right \n",
            " :    key   val1   val2  val3  val4\n",
            "0   k1    NaN    NaN     5    10\n",
            "1   k4    NaN    NaN     6    11\n",
            "2   k5  200.0   20.0     7    12\n",
            "3   k7    0.0  100.0     8    15\n",
            "4  k10    NaN    NaN     9    16\n"
          ]
        }
      ]
    },
    {
      "cell_type": "code",
      "source": [
        "# Merge yang eqivalen dengan sql inner join\n",
        "merge_df_inner = pd.merge(left=df1, right=df2, how='inner', left_on ='key', right_on='key')\n",
        "print('Merge - inner \\n :', merge_df_inner)"
      ],
      "metadata": {
        "colab": {
          "base_uri": "https://localhost:8080/"
        },
        "id": "KZ9M9BQvUXOR",
        "outputId": "edff67f4-54b2-4010-f715-ddb343c66b70"
      },
      "execution_count": null,
      "outputs": [
        {
          "output_type": "stream",
          "name": "stdout",
          "text": [
            "Merge - inner \n",
            " :   key  val1  val2  val3  val4\n",
            "0  k5   200    20     7    12\n",
            "1  k7     0   100     8    15\n"
          ]
        }
      ]
    },
    {
      "cell_type": "code",
      "source": [
        "# Merge yang eqivalen dengan sql outer join \n",
        "merge_df_outer = pd.merge(left=df1, right=df2, how='outer', left_on = 'key', right_on ='key')\n",
        "print('Merge - Outer \\n :', merge_df_outer )"
      ],
      "metadata": {
        "colab": {
          "base_uri": "https://localhost:8080/"
        },
        "id": "IffG9f5CUaoi",
        "outputId": "4ae734d1-8c3f-416e-f1ad-7c562d2a5e75"
      },
      "execution_count": null,
      "outputs": [
        {
          "output_type": "stream",
          "name": "stdout",
          "text": [
            "Merge - Outer \n",
            " :    key   val1   val2  val3  val4\n",
            "0   k5  200.0   20.0   7.0  12.0\n",
            "1   k6  500.0   50.0   NaN   NaN\n",
            "2   k7    0.0  100.0   8.0  15.0\n",
            "3   k8  500.0   20.0   NaN   NaN\n",
            "4   k9  100.0   10.0   NaN   NaN\n",
            "5   k1    NaN    NaN   5.0  10.0\n",
            "6   k4    NaN    NaN   6.0  11.0\n",
            "7  k10    NaN    NaN   9.0  16.0\n"
          ]
        }
      ]
    },
    {
      "cell_type": "markdown",
      "source": [
        "Marge Part II (digunakan untuk multi index) dengan cara reset index"
      ],
      "metadata": {
        "id": "oZ2lOsEJWviq"
      }
    },
    {
      "cell_type": "code",
      "source": [
        "import pandas as pd\n",
        "# Buat df1 dan df2\n",
        "df1 = pd.DataFrame ({'key'  : ['k1','k2','k3','k4','k5'],\n",
        "                     'val1' : [200, 500, 0, 500, 100],\n",
        "                     'val2' : [30, 50, 100, 20, 10]}).set_index(['key','val2'])\n",
        "print(\"Data Frame 1 \\n :\", df1)\n",
        "df2 = pd.DataFrame ({'key' : ['k1','k3','k5','k7','k10'],\n",
        "                     'val3':[1,2,3,4,5],\n",
        "                     'val4':[6,7,8,8,10]}).set_index(['key','val3'])\n",
        "print(\"Data Frame 2 \\n :\", df2)     \n",
        "\n",
        "# Merge data frame dengan multi index\n",
        "print(pd.merge(df1.reset_index(), df2.reset_index()))"
      ],
      "metadata": {
        "colab": {
          "base_uri": "https://localhost:8080/"
        },
        "id": "NO8Hczz3Wwmx",
        "outputId": "8c80d354-51aa-48e0-a9ec-926042e0f03b"
      },
      "execution_count": null,
      "outputs": [
        {
          "output_type": "stream",
          "name": "stdout",
          "text": [
            "Data Frame 1 \n",
            " :           val1\n",
            "key val2      \n",
            "k1  30     200\n",
            "k2  50     500\n",
            "k3  100      0\n",
            "k4  20     500\n",
            "k5  10     100\n",
            "Data Frame 2 \n",
            " :           val4\n",
            "key val3      \n",
            "k1  1        6\n",
            "k3  2        7\n",
            "k5  3        8\n",
            "k7  4        8\n",
            "k10 5       10\n",
            "  key  val2  val1  val3  val4\n",
            "0  k1    30   200     1     6\n",
            "1  k3   100     0     2     7\n",
            "2  k5    10   100     3     8\n"
          ]
        }
      ]
    },
    {
      "cell_type": "markdown",
      "source": [
        "Method .join()"
      ],
      "metadata": {
        "id": "sQLbBkLxW9wu"
      }
    },
    {
      "cell_type": "code",
      "source": [
        "import pandas as pd\n",
        "# Buat DataFrame d1 dan d2\n",
        "df1 = pd.DataFrame({'key' : ['k1','k2','k3','k4','k5'],\n",
        "                    'val1' : [200, 500, 0, 500, 100],\n",
        "                    'val2' : [30, 50, 100, 20, 10]})\n",
        "df2 = pd.DataFrame({'key' : ['k1','k3','k5','k7','k10'],\n",
        "                    'val3' : [1,2,3,4,5], \n",
        "                    'val4' : [6,7,8,8,10]})\n",
        "\n",
        "# Penerapan join dengan menggunakan set_index dan keyword how\n",
        "join_df = df1.set_index('key').join(df2.set_index('key'), how='inner')\n",
        "print(join_df)"
      ],
      "metadata": {
        "colab": {
          "base_uri": "https://localhost:8080/"
        },
        "id": "VRP-LOdzW-pY",
        "outputId": "0a1798e8-e1c1-4a2f-ac23-f4b597948c8e"
      },
      "execution_count": null,
      "outputs": [
        {
          "output_type": "stream",
          "name": "stdout",
          "text": [
            "     val1  val2  val3  val4\n",
            "key                        \n",
            "k1    200    30     1     6\n",
            "k3      0   100     2     7\n",
            "k5    100    10     3     8\n"
          ]
        }
      ]
    },
    {
      "cell_type": "markdown",
      "source": [
        "Pivot, Melt, Stack & Unstack"
      ],
      "metadata": {
        "id": "hzatkf7KXB1B"
      }
    },
    {
      "cell_type": "code",
      "source": [
        "# DATA SET\n",
        "import pandas as pd\n",
        "#DataFrame\n",
        "data = pd.DataFrame({'kelas' : 6*['A'] + 6*['B'],\n",
        "                     'murid': 2*['A1'] + 2*['A2'] + 2*['A3'] + 2*['B1'] + 2*['B2'] + 2*['B3'],\n",
        "                     'pelajaran': 6*['math','english'],\n",
        "                     'nilai': [90,60,70,85,50,60,100,40,95,80,60,45]}, columns = ['kelas', 'murid', 'pelajaran','nilai'])\n",
        "#unique Value pada Setiap kolom data\n",
        "for column in data.columns:\n",
        "    print('Unique value %s %s' % (column, data[column].unique()))"
      ],
      "metadata": {
        "colab": {
          "base_uri": "https://localhost:8080/"
        },
        "id": "Mv4uHMqDXQOD",
        "outputId": "a779be8c-6c5a-4f60-ac25-ed7f8f05ae10"
      },
      "execution_count": null,
      "outputs": [
        {
          "output_type": "stream",
          "name": "stdout",
          "text": [
            "Unique value kelas ['A' 'B']\n",
            "Unique value murid ['A1' 'A2' 'A3' 'B1' 'B2' 'B3']\n",
            "Unique value pelajaran ['math' 'english']\n",
            "Unique value nilai [ 90  60  70  85  50 100  40  95  80  45]\n"
          ]
        }
      ]
    },
    {
      "cell_type": "markdown",
      "source": [
        "Pivot()"
      ],
      "metadata": {
        "id": "RE2oqXOcXTW5"
      }
    },
    {
      "cell_type": "code",
      "source": [
        "import pandas as pd\n",
        "# DataFrame \n",
        "data = pd.DataFrame({'kelas' : 6*['A'] + 6*['B'],\n",
        "                     'murid': 2*['A1'] + 2*['A2'] + 2*['A3'] + 2*['B1'] + 2*['B2'] + 2*['B3'],\n",
        "                     'pelajaran': 6*['math','english'],\n",
        "                     'nilai': [90,60,70,85,50,60,100,40,95,80,60,45]}, columns = ['kelas', 'murid', 'pelajaran','nilai'])\n",
        "# pivoting single columns mesurements\n",
        "pivot1 = data.pivot(index='murid', columns='pelajaran', values='nilai')\n",
        "print('pivot single columns measurements :\\n', pivot1.head())\n",
        "\n",
        "# pivoting multiple columns mesurements\n",
        "pivot2 = data.pivot(index='murid', columns='pelajaran')\n",
        "print('Pivot multiple columns mesurements :\\n', pivot2.head())\n"
      ],
      "metadata": {
        "colab": {
          "base_uri": "https://localhost:8080/"
        },
        "id": "7V22m9U5XVVK",
        "outputId": "cf118bf1-15d1-4060-bc1b-47779a64cebd"
      },
      "execution_count": null,
      "outputs": [
        {
          "output_type": "stream",
          "name": "stdout",
          "text": [
            "pivot single columns measurements :\n",
            " pelajaran  english  math\n",
            "murid                   \n",
            "A1              60    90\n",
            "A2              85    70\n",
            "A3              60    50\n",
            "B1              40   100\n",
            "B2              80    95\n",
            "Pivot multiple columns mesurements :\n",
            "             kelas        nilai     \n",
            "pelajaran english math english math\n",
            "murid                              \n",
            "A1              A    A      60   90\n",
            "A2              A    A      85   70\n",
            "A3              A    A      60   50\n",
            "B1              B    B      40  100\n",
            "B2              B    B      80   95\n"
          ]
        }
      ]
    },
    {
      "cell_type": "markdown",
      "source": [
        "pivot_table()"
      ],
      "metadata": {
        "id": "0ExukuLUXi3e"
      }
    },
    {
      "cell_type": "code",
      "source": [
        "import pandas as pd\n",
        "data = pd.DataFrame({'kelas': 6*['A'] + 6*['B'],\n",
        "                    'murid': 2*['A1'] + 2*['A2'] + 2*['A3'] + 2*['B1'] + 2*['B2'] + 2*['B3'],\n",
        "                    'pelajaran': 6*['math','english'],\n",
        "                    'nilai': [90,60,70,85,50,60,100,40,95,80,60,45]\n",
        "                    }, columns= ['kelas','murid','pelajaran','nilai'])\n",
        "# Creating Pivot and assgin pivt_tab dengan menggunakan keyord aggfunc\n",
        "pivot_tab_mean = data.pivot_table(index='kelas', columns='pelajaran', values='nilai', aggfunc='mean')\n",
        "print('Creating pivot_table aggfunc mean :\\n', pivot_tab_mean)\n",
        "\n",
        "# Creating Pivot and assign Pivot_tab dengan menggunakan keyord aggfunc 'median'\n",
        "pivot_tab_median = data.pivot_table(index='kelas', columns='pelajaran', values='nilai', aggfunc='median')\n",
        "print('Creating pivot_table aggfunc median :\\n', pivot_tab_median)"
      ],
      "metadata": {
        "colab": {
          "base_uri": "https://localhost:8080/"
        },
        "id": "YosQvYLrXmOf",
        "outputId": "00193767-988c-48cb-9862-e9fecbda3bc7"
      },
      "execution_count": null,
      "outputs": [
        {
          "output_type": "stream",
          "name": "stdout",
          "text": [
            "Creating pivot_table aggfunc mean :\n",
            " pelajaran    english  math\n",
            "kelas                     \n",
            "A          68.333333  70.0\n",
            "B          55.000000  85.0\n",
            "Creating pivot_table aggfunc median :\n",
            " pelajaran  english  math\n",
            "kelas                   \n",
            "A               60    70\n",
            "B               45    95\n"
          ]
        }
      ]
    },
    {
      "cell_type": "markdown",
      "source": [
        "Melt Part I (digunakan untuk mengembalikan data yang telah di Pivot ke bentuk semula)"
      ],
      "metadata": {
        "id": "zFZGR4Jicj-q"
      }
    },
    {
      "cell_type": "code",
      "source": [
        "import pandas as pd\n",
        "data = pd.DataFrame({\n",
        "  'kelas': 6*['A'] + 6*['B'],\n",
        "  'murid': 2*['A1'] + 2*['A2'] + 2*['A3'] + 2*['B1'] + 2*['B2'] + 2*['B3'],\n",
        "  'pelajaran': 6*['math','english'],\n",
        "  'nilai': [90,60,70,85,50,60,100,40,95,80,60,45]\n",
        "}, columns=['kelas','murid','pelajaran','nilai'])\n",
        "# Mealakukan Reset Index\n",
        "data_pivot_reset = data.pivot_table(index='kelas', columns='pelajaran', values='nilai').reset_index()\n",
        "print('Pivoting Data frame dengan reset index :\\n', data_pivot_reset)"
      ],
      "metadata": {
        "colab": {
          "base_uri": "https://localhost:8080/"
        },
        "id": "9_IogZ5fcl3a",
        "outputId": "0692c7e9-9d5b-44e5-f405-af2b1664df06"
      },
      "execution_count": null,
      "outputs": [
        {
          "output_type": "stream",
          "name": "stdout",
          "text": [
            "Pivoting Data frame dengan reset index :\n",
            " pelajaran kelas    english  math\n",
            "0             A  68.333333  70.0\n",
            "1             B  55.000000  85.0\n"
          ]
        }
      ]
    },
    {
      "cell_type": "code",
      "source": [
        "# [1] Melting data pivot\n",
        "data_melt_1 = pd.melt(data_pivot_reset)\n",
        "print('hasil data pivot yang di melt :\\n', data_melt_1)"
      ],
      "metadata": {
        "colab": {
          "base_uri": "https://localhost:8080/"
        },
        "id": "-3FksDW7cs5o",
        "outputId": "b63b923a-709c-4579-a61c-b68692e1ae81"
      },
      "execution_count": null,
      "outputs": [
        {
          "output_type": "stream",
          "name": "stdout",
          "text": [
            "hasil data pivot yang di melt :\n",
            "   pelajaran      value\n",
            "0     kelas          A\n",
            "1     kelas          B\n",
            "2   english  68.333333\n",
            "3   english       55.0\n",
            "4      math       70.0\n",
            "5      math       85.0\n"
          ]
        }
      ]
    },
    {
      "cell_type": "code",
      "source": [
        "# [2] Melting data pivot dengan id vars\n",
        "data_melt_2 = pd.melt(data_pivot_reset, id_vars= 'kelas')\n",
        "print('hasil data yang di melt dengan id vars:\\n', data_melt_2)"
      ],
      "metadata": {
        "colab": {
          "base_uri": "https://localhost:8080/"
        },
        "id": "ogie5Pzkcvkv",
        "outputId": "ae06b596-fda3-498c-9b84-42fe4d30d825"
      },
      "execution_count": null,
      "outputs": [
        {
          "output_type": "stream",
          "name": "stdout",
          "text": [
            "hasil data yang di melt dengan id vars:\n",
            "   kelas pelajaran      value\n",
            "0     A   english  68.333333\n",
            "1     B   english  55.000000\n",
            "2     A      math  70.000000\n",
            "3     B      math  85.000000\n"
          ]
        }
      ]
    },
    {
      "cell_type": "markdown",
      "source": [
        "Melt Part II"
      ],
      "metadata": {
        "id": "GLnGIMhDdMP7"
      }
    },
    {
      "cell_type": "code",
      "source": [
        "import pandas as pd\n",
        "data = pd.DataFrame({\n",
        "  'kelas': 6*['A'] + 6*['B'],\n",
        "  'murid': 2*['A1'] + 2*['A2'] + 2*['A3'] + 2*['B1'] + 2*['B2'] + 2*['B3'],\n",
        "  'pelajaran': 6*['math','english'],\n",
        "  'nilai': [90,60,70,85,50,60,100,40,95,80,60,45]\n",
        "}, columns=['kelas','murid','pelajaran','nilai'])\n",
        "\n",
        "# Pivoting Data Frame\n",
        "data_pivot = data.pivot_table(index='kelas', columns='pelajaran', values='nilai', aggfunc='mean').reset_index()\n",
        "print('Data pivot riset index :\\n', data_pivot)\n"
      ],
      "metadata": {
        "colab": {
          "base_uri": "https://localhost:8080/"
        },
        "id": "SjqcXRfmdNUv",
        "outputId": "79d7cfa1-c784-4800-96ba-8ba005162f78"
      },
      "execution_count": null,
      "outputs": [
        {
          "output_type": "stream",
          "name": "stdout",
          "text": [
            "Data pivot riset index :\n",
            " pelajaran kelas    english  math\n",
            "0             A  68.333333  70.0\n",
            "1             B  55.000000  85.0\n"
          ]
        }
      ]
    },
    {
      "cell_type": "code",
      "source": [
        "# melting data frame data pivot dengan value variasi \n",
        "data_melt_3a = pd.melt(data_pivot, value_vars = ['math'])\n",
        "print('Data pivot dengan value var math :\\n', data_melt_3a)"
      ],
      "metadata": {
        "colab": {
          "base_uri": "https://localhost:8080/"
        },
        "id": "bkh2HND1dSSz",
        "outputId": "b01903d5-ca4d-44c0-c902-33ed988865ad"
      },
      "execution_count": null,
      "outputs": [
        {
          "output_type": "stream",
          "name": "stdout",
          "text": [
            "Data pivot dengan value var math :\n",
            "   pelajaran  value\n",
            "0      math   70.0\n",
            "1      math   85.0\n"
          ]
        }
      ]
    },
    {
      "cell_type": "code",
      "source": [
        "# melting data frame data pivot dengan value vars dan id vars\n",
        "data_melt_3b = pd.melt(data_pivot, id_vars='kelas',  value_vars=['math'])\n",
        "print('Data pivot dengan id var dan value var math :\\n', data_melt_3b)"
      ],
      "metadata": {
        "colab": {
          "base_uri": "https://localhost:8080/"
        },
        "id": "D5L0kQh3dWji",
        "outputId": "b0f7b888-8165-4102-acfb-8986e63562e7"
      },
      "execution_count": null,
      "outputs": [
        {
          "output_type": "stream",
          "name": "stdout",
          "text": [
            "Data pivot dengan id var dan value var math :\n",
            "   kelas pelajaran  value\n",
            "0     A      math   70.0\n",
            "1     B      math   85.0\n"
          ]
        }
      ]
    },
    {
      "cell_type": "code",
      "source": [
        "# melting data frame ddata pivot dengan id vars, value vars, var name, dan value name\n",
        "data_melt_4 = pd.melt(data_pivot, id_vars='kelas', value_vars=['math', 'english'], var_name='pelajaran', value_name='nilai')\n",
        "print('Data Pivot melt dengan lengkap semua variasinya :\\n', data_melt_4)"
      ],
      "metadata": {
        "colab": {
          "base_uri": "https://localhost:8080/"
        },
        "id": "_dujTqQadaEy",
        "outputId": "be208a35-a785-4b91-a6cc-3ab68c4bfccb"
      },
      "execution_count": null,
      "outputs": [
        {
          "output_type": "stream",
          "name": "stdout",
          "text": [
            "Data Pivot melt dengan lengkap semua variasinya :\n",
            "   kelas pelajaran      nilai\n",
            "0     A      math  70.000000\n",
            "1     B      math  85.000000\n",
            "2     A   english  68.333333\n",
            "3     B   english  55.000000\n"
          ]
        }
      ]
    },
    {
      "cell_type": "markdown",
      "source": [
        "STUCK & UNSTUCK (harus set index terlebih dahulu)"
      ],
      "metadata": {
        "id": "jLoxXVgedyU9"
      }
    },
    {
      "cell_type": "code",
      "source": [
        "import pandas as pd\n",
        "data = pd.DataFrame({\n",
        "  'kelas': 6*['A'] + 6*['B'],\n",
        "  'murid': 2*['A1'] + 2*['A2'] + 2*['A3'] + 2*['B1'] + 2*['B2'] + 2*['B3'],\n",
        "  'pelajaran': 6*['math','english'],\n",
        "  'nilai': [90,60,70,85,50,60,100,40,95,80,60,45]\n",
        "}, columns=['kelas','murid','pelajaran','nilai'])\n",
        "# Set index untuk kolom kelas, murid, pelajaran\n",
        "data = data.set_index(['kelas','murid','pelajaran'])\n",
        "print('Data set multi index data :\\n', data)"
      ],
      "metadata": {
        "colab": {
          "base_uri": "https://localhost:8080/"
        },
        "id": "FgvD1C8Xdzi0",
        "outputId": "72174f29-ad9c-45c4-eaea-911bc1460e82"
      },
      "execution_count": null,
      "outputs": [
        {
          "output_type": "stream",
          "name": "stdout",
          "text": [
            "Data set multi index data :\n",
            "                        nilai\n",
            "kelas murid pelajaran       \n",
            "A     A1    math          90\n",
            "            english       60\n",
            "      A2    math          70\n",
            "            english       85\n",
            "      A3    math          50\n",
            "            english       60\n",
            "B     B1    math         100\n",
            "            english       40\n",
            "      B2    math          95\n",
            "            english       80\n",
            "      B3    math          60\n",
            "            english       45\n"
          ]
        }
      ]
    },
    {
      "cell_type": "code",
      "source": [
        "# Unstacking Data Frame\n",
        "data_unstack_1 = data.unstack()\n",
        "print('Data unstack 1 \"\\n', data_unstack_1)"
      ],
      "metadata": {
        "colab": {
          "base_uri": "https://localhost:8080/"
        },
        "id": "H670eccsd3vR",
        "outputId": "306ff356-7adc-4b13-d62c-d2b5e23b53e4"
      },
      "execution_count": null,
      "outputs": [
        {
          "output_type": "stream",
          "name": "stdout",
          "text": [
            "Data unstack 1 \"\n",
            "               nilai     \n",
            "pelajaran   english math\n",
            "kelas murid             \n",
            "A     A1         60   90\n",
            "      A2         85   70\n",
            "      A3         60   50\n",
            "B     B1         40  100\n",
            "      B2         80   95\n",
            "      B3         45   60\n"
          ]
        }
      ]
    },
    {
      "cell_type": "code",
      "source": [
        "# unstack dengan specify level nama \n",
        "data_unstack_2 = data.unstack(level = 'murid')\n",
        "print('Data unstack 2 specify level nama :\\n', data_unstack_2)"
      ],
      "metadata": {
        "colab": {
          "base_uri": "https://localhost:8080/"
        },
        "id": "4fFk7iZ7ebEI",
        "outputId": "ee7e801d-4fc0-4da2-e210-6b12c95f9478"
      },
      "execution_count": null,
      "outputs": [
        {
          "output_type": "stream",
          "name": "stdout",
          "text": [
            "Data unstack 2 specify level nama :\n",
            "                 nilai                               \n",
            "murid              A1    A2    A3     B1    B2    B3\n",
            "kelas pelajaran                                     \n",
            "A     english    60.0  85.0  60.0    NaN   NaN   NaN\n",
            "      math       90.0  70.0  50.0    NaN   NaN   NaN\n",
            "B     english     NaN   NaN   NaN   40.0  80.0  45.0\n",
            "      math        NaN   NaN   NaN  100.0  95.0  60.0\n"
          ]
        }
      ]
    },
    {
      "cell_type": "code",
      "source": [
        "# unstack dengan specify level position \n",
        "data_unstack_3 = data.unstack(level=1)\n",
        "print('Data unstack specify level position :\\n', data_unstack_3)"
      ],
      "metadata": {
        "colab": {
          "base_uri": "https://localhost:8080/"
        },
        "id": "12uNyo4HedPv",
        "outputId": "171110f9-8eb6-4af7-e807-da0fd10b0443"
      },
      "execution_count": null,
      "outputs": [
        {
          "output_type": "stream",
          "name": "stdout",
          "text": [
            "Data unstack specify level position :\n",
            "                 nilai                               \n",
            "murid              A1    A2    A3     B1    B2    B3\n",
            "kelas pelajaran                                     \n",
            "A     english    60.0  85.0  60.0    NaN   NaN   NaN\n",
            "      math       90.0  70.0  50.0    NaN   NaN   NaN\n",
            "B     english     NaN   NaN   NaN   40.0  80.0  45.0\n",
            "      math        NaN   NaN   NaN  100.0  95.0  60.0\n"
          ]
        }
      ]
    },
    {
      "cell_type": "markdown",
      "source": [
        "Stack Unstack Part II (pakai data unstack level=1)"
      ],
      "metadata": {
        "id": "ziaoLU9menh7"
      }
    },
    {
      "cell_type": "code",
      "source": [
        "import pandas as pd\n",
        "data = pd.DataFrame({\n",
        "  'kelas': 6*['A'] + 6*['B'],\n",
        "  'murid': 2*['A1'] + 2*['A2'] + 2*['A3'] + 2*['B1'] + 2*['B2'] + 2*['B3'],\n",
        "  'pelajaran': 6*['math','english'],\n",
        "  'nilai': [90,60,70,85,50,60,100,40,95,80,60,45]\n",
        "}, columns=['kelas','murid','pelajaran','nilai'])\n",
        "data = data.set_index(['kelas', 'murid', 'pelajaran'])\n",
        "data_unstack_3 = data.unstack(level=1)\n",
        "print('Data frame unstack position :\\n', data_unstack_3)"
      ],
      "metadata": {
        "colab": {
          "base_uri": "https://localhost:8080/"
        },
        "id": "8AQ6KTe4ez1m",
        "outputId": "43ae39b6-b506-43a3-8d32-a9bdfd4e4342"
      },
      "execution_count": null,
      "outputs": [
        {
          "output_type": "stream",
          "name": "stdout",
          "text": [
            "Data frame unstack position :\n",
            "                 nilai                               \n",
            "murid              A1    A2    A3     B1    B2    B3\n",
            "kelas pelajaran                                     \n",
            "A     english    60.0  85.0  60.0    NaN   NaN   NaN\n",
            "      math       90.0  70.0  50.0    NaN   NaN   NaN\n",
            "B     english     NaN   NaN   NaN   40.0  80.0  45.0\n",
            "      math        NaN   NaN   NaN  100.0  95.0  60.0\n"
          ]
        }
      ]
    },
    {
      "cell_type": "code",
      "source": [
        "# Stacking Data Frame\n",
        "data_stack = data_unstack_3.stack()\n",
        "print('stacked frame :\\n', data_stack)"
      ],
      "metadata": {
        "colab": {
          "base_uri": "https://localhost:8080/"
        },
        "id": "EVbECm-Ae6Fz",
        "outputId": "f0556cc6-dcc1-4ac7-9adb-dddcd6cde2f8"
      },
      "execution_count": null,
      "outputs": [
        {
          "output_type": "stream",
          "name": "stdout",
          "text": [
            "stacked frame :\n",
            "                        nilai\n",
            "kelas pelajaran murid       \n",
            "A     english   A1      60.0\n",
            "                A2      85.0\n",
            "                A3      60.0\n",
            "      math      A1      90.0\n",
            "                A2      70.0\n",
            "                A3      50.0\n",
            "B     english   B1      40.0\n",
            "                B2      80.0\n",
            "                B3      45.0\n",
            "      math      B1     100.0\n",
            "                B2      95.0\n",
            "                B3      60.0\n"
          ]
        }
      ]
    },
    {
      "cell_type": "code",
      "source": [
        "# Tukar posisi index setelah stacking data frame \n",
        "data_swap = data_stack.swaplevel(1,2)\n",
        "print('Posisi index yang telah ditukar :\\n', data_swap)"
      ],
      "metadata": {
        "colab": {
          "base_uri": "https://localhost:8080/"
        },
        "id": "3_bee5rpe-vd",
        "outputId": "3dccd1a5-6c35-413c-e69e-cd1a1eb72da1"
      },
      "execution_count": null,
      "outputs": [
        {
          "output_type": "stream",
          "name": "stdout",
          "text": [
            "Posisi index yang telah ditukar :\n",
            "                        nilai\n",
            "kelas murid pelajaran       \n",
            "A     A1    english     60.0\n",
            "      A2    english     85.0\n",
            "      A3    english     60.0\n",
            "      A1    math        90.0\n",
            "      A2    math        70.0\n",
            "      A3    math        50.0\n",
            "B     B1    english     40.0\n",
            "      B2    english     80.0\n",
            "      B3    english     45.0\n",
            "      B1    math       100.0\n",
            "      B2    math        95.0\n",
            "      B3    math        60.0\n"
          ]
        }
      ]
    },
    {
      "cell_type": "code",
      "source": [
        "# Melakukan sort index pada stacking Dataframe \n",
        "data_sort = data_swap.sort_index()\n",
        "print(\"Data yang indexnya telah di sorting :\\n\", data_sort)"
      ],
      "metadata": {
        "colab": {
          "base_uri": "https://localhost:8080/"
        },
        "id": "5OA97d6dfIcn",
        "outputId": "1f8b5757-4c6c-4bfc-a0f4-4e542b5e2219"
      },
      "execution_count": null,
      "outputs": [
        {
          "output_type": "stream",
          "name": "stdout",
          "text": [
            "Data yang indexnya telah di sorting :\n",
            "                        nilai\n",
            "kelas murid pelajaran       \n",
            "A     A1    english     60.0\n",
            "            math        90.0\n",
            "      A2    english     85.0\n",
            "            math        70.0\n",
            "      A3    english     60.0\n",
            "            math        50.0\n",
            "B     B1    english     40.0\n",
            "            math       100.0\n",
            "      B2    english     80.0\n",
            "            math        95.0\n",
            "      B3    english     45.0\n",
            "            math        60.0\n"
          ]
        }
      ]
    },
    {
      "cell_type": "markdown",
      "source": [
        "Aggregation & GroupBy\n",
        "\n",
        "\n",
        "1.   Inspeksi Data\n",
        "\n"
      ],
      "metadata": {
        "id": "g7BygDzAfS7A"
      }
    },
    {
      "cell_type": "code",
      "source": [
        "import pandas as pd\n",
        "global_air_quality = pd.read_csv('https://storage.googleapis.com/dqlab-dataset/LO4/global_air_quality_4000rows.csv')\n",
        "print('Lima data teratas:\\n', global_air_quality.head())"
      ],
      "metadata": {
        "colab": {
          "base_uri": "https://localhost:8080/"
        },
        "id": "wyyKZsLefcuI",
        "outputId": "a46a3f62-0c74-45c0-c7f5-86fd1af98a8c"
      },
      "execution_count": null,
      "outputs": [
        {
          "output_type": "stream",
          "name": "stdout",
          "text": [
            "Lima data teratas:\n",
            "                           location       city country pollutant  value  \\\n",
            "0                  MOBILE-KICKAPOO    LINCOLN      US      pm10   7.00   \n",
            "1                  Oxford St Ebbes     Oxford      GB       no2  30.00   \n",
            "2                 BROADWAY (South)  St. Louis      US      pm25   6.10   \n",
            "3  Deen Dayal Nagar, Sagar - MPPCB      Sagar      IN      pm25  23.67   \n",
            "4                        Manglerud       Oslo      NO      pm10  27.06   \n",
            "\n",
            "                 timestamp   unit source_name   latitude  longitude  \\\n",
            "0  2017-01-18 16:00:00 UTC  µg/m³      AirNow  35.488400 -97.090280   \n",
            "1  2020-04-07 20:00:00 UTC  µg/m³       DEFRA  51.744804  -1.260278   \n",
            "2  2020-04-07 19:00:00 UTC  µg/m³      AirNow  38.542500 -90.263610   \n",
            "3  2020-04-07 18:30:00 UTC  µg/m³       caaqm  23.864016  78.802895   \n",
            "4  2020-04-07 20:00:00 UTC  µg/m³      Norway  59.898690  10.814950   \n",
            "\n",
            "   averaged_over_in_hours  \n",
            "0                    1.00  \n",
            "1                    1.00  \n",
            "2                    1.00  \n",
            "3                    0.25  \n",
            "4                    1.00  \n"
          ]
        }
      ]
    },
    {
      "cell_type": "code",
      "source": [
        "# cek data terlebih dahulu\n",
        "print(global_air_quality.info())"
      ],
      "metadata": {
        "colab": {
          "base_uri": "https://localhost:8080/"
        },
        "id": "zjnqXNrlflXd",
        "outputId": "2d374ebe-8403-4c8c-d634-e5fe5f2f891b"
      },
      "execution_count": null,
      "outputs": [
        {
          "output_type": "stream",
          "name": "stdout",
          "text": [
            "<class 'pandas.core.frame.DataFrame'>\n",
            "RangeIndex: 4000 entries, 0 to 3999\n",
            "Data columns (total 11 columns):\n",
            " #   Column                  Non-Null Count  Dtype  \n",
            "---  ------                  --------------  -----  \n",
            " 0   location                3997 non-null   object \n",
            " 1   city                    3966 non-null   object \n",
            " 2   country                 4000 non-null   object \n",
            " 3   pollutant               4000 non-null   object \n",
            " 4   value                   4000 non-null   float64\n",
            " 5   timestamp               4000 non-null   object \n",
            " 6   unit                    4000 non-null   object \n",
            " 7   source_name             4000 non-null   object \n",
            " 8   latitude                4000 non-null   float64\n",
            " 9   longitude               4000 non-null   float64\n",
            " 10  averaged_over_in_hours  3634 non-null   float64\n",
            "dtypes: float64(4), object(7)\n",
            "memory usage: 343.9+ KB\n",
            "None\n"
          ]
        }
      ]
    },
    {
      "cell_type": "code",
      "source": [
        "# count tanpa groupby\n",
        "print(global_air_quality.count())"
      ],
      "metadata": {
        "colab": {
          "base_uri": "https://localhost:8080/"
        },
        "id": "up3-1dKufof5",
        "outputId": "331d7063-62d9-4e70-d000-68b844502333"
      },
      "execution_count": null,
      "outputs": [
        {
          "output_type": "stream",
          "name": "stdout",
          "text": [
            "location                  3997\n",
            "city                      3966\n",
            "country                   4000\n",
            "pollutant                 4000\n",
            "value                     4000\n",
            "timestamp                 4000\n",
            "unit                      4000\n",
            "source_name               4000\n",
            "latitude                  4000\n",
            "longitude                 4000\n",
            "averaged_over_in_hours    3634\n",
            "dtype: int64\n"
          ]
        }
      ]
    },
    {
      "cell_type": "code",
      "source": [
        "# count dengan groupby source name \n",
        "data_groupby = global_air_quality.groupby('source_name').count()\n",
        "print('Data yang telah di groupby source name :\\n', data_groupby.head())"
      ],
      "metadata": {
        "colab": {
          "base_uri": "https://localhost:8080/"
        },
        "id": "LJ5DvIltftuX",
        "outputId": "3eb88940-d1a7-4839-d27b-c73399fc1911"
      },
      "execution_count": null,
      "outputs": [
        {
          "output_type": "stream",
          "name": "stdout",
          "text": [
            "Data yang telah di groupby source name :\n",
            "              location  city  country  pollutant  value  timestamp  unit  \\\n",
            "source_name                                                               \n",
            "ARPALAZIO          72    72       72         72     72         72    72   \n",
            "Agaar.mn           27    27       27         27     27         27    27   \n",
            "AirNow           1712  1681     1715       1715   1715       1715  1715   \n",
            "Andalucia          71    71       71         71     71         71    71   \n",
            "Anqing              4     4        4          4      4          4     4   \n",
            "\n",
            "             latitude  longitude  averaged_over_in_hours  \n",
            "source_name                                               \n",
            "ARPALAZIO          72         72                      72  \n",
            "Agaar.mn           27         27                       0  \n",
            "AirNow           1715       1715                    1715  \n",
            "Andalucia          71         71                      71  \n",
            "Anqing              4          4                       4  \n"
          ]
        }
      ]
    },
    {
      "cell_type": "markdown",
      "source": [
        "Groupby dan Agregasi dengan fungsi statistik dasar - part I"
      ],
      "metadata": {
        "id": "szj7CZFlf8Dp"
      }
    },
    {
      "cell_type": "code",
      "source": [
        "import pandas as pd\n",
        "# load data\n",
        "gaq = pd.read_csv('https://storage.googleapis.com/dqlab-dataset/LO4/global_air_quality_4000rows.csv')\n",
        "# Create varible pullutan\n",
        "pollutant = gaq[['country','city','pollutant','value']].pivot_table(index = ['country', 'city'], columns=['pollutant']).fillna(0)\n",
        "print('Data pollutant :\\n', pollutant.head())"
      ],
      "metadata": {
        "colab": {
          "base_uri": "https://localhost:8080/"
        },
        "id": "gXRMjYrof84C",
        "outputId": "50f692af-717a-44ff-ca7a-9fa059fd5771"
      },
      "execution_count": null,
      "outputs": [
        {
          "output_type": "stream",
          "name": "stdout",
          "text": [
            "Data pollutant :\n",
            "                      value                                     \n",
            "pollutant               bc      co   no2   o3   pm10  pm25  so2\n",
            "country city                                                   \n",
            "AR      Buenos Aires   0.0     0.0   0.0  0.0    0.0  18.1  0.0\n",
            "AU      Townsville     0.0     0.0   0.0  0.0    0.0   3.9  0.0\n",
            "BA      Goražde        0.0   141.0  19.0  8.0    0.0   0.0  0.0\n",
            "        Ilijaš         0.0     0.0   0.0  0.0  100.0   0.0  0.0\n",
            "        Jajce          0.0  1508.0  25.0  6.0    9.0   0.0  0.0\n"
          ]
        }
      ]
    },
    {
      "cell_type": "code",
      "source": [
        "# Group by country dan terapkan mean())\n",
        "pollutant_mean = pollutant.groupby('country').mean()\n",
        "print('Data pollutant yang telah di groupby country dan nilai mean:\\n', pollutant_mean.head())"
      ],
      "metadata": {
        "colab": {
          "base_uri": "https://localhost:8080/"
        },
        "id": "RChxB3VQgQBK",
        "outputId": "8d19f755-6558-4f4c-9621-aa16c71e6df5"
      },
      "execution_count": null,
      "outputs": [
        {
          "output_type": "stream",
          "name": "stdout",
          "text": [
            "Data pollutant yang telah di groupby country dan nilai mean:\n",
            "           value                                                         \\\n",
            "pollutant    bc          co        no2        o3       pm10       pm25   \n",
            "country                                                                  \n",
            "AR          0.0    0.000000   0.000000  0.000000   0.000000  18.100000   \n",
            "AU          0.0    0.000000   0.000000  0.000000   0.000000   3.900000   \n",
            "BA          0.0  475.833333  19.500000  5.833333  40.333333   0.000000   \n",
            "CA          0.0    0.036818   0.000355  0.025963   0.836364   3.433601   \n",
            "CL          0.0    0.000000  21.000000  0.000000   0.000000   0.000000   \n",
            "\n",
            "                      \n",
            "pollutant        so2  \n",
            "country               \n",
            "AR          0.000000  \n",
            "AU          0.000000  \n",
            "BA         18.000000  \n",
            "CA          0.000091  \n",
            "CL          0.000000  \n"
          ]
        }
      ]
    },
    {
      "cell_type": "code",
      "source": [
        "# Grop by country dan terapkan stdnya dan fillna(0)\n",
        "pollutant_std = pollutant.groupby('country').std().fillna(0)\n",
        "print('standart deviasi pollutant 5 teratas :\\n', pollutant_std.head())"
      ],
      "metadata": {
        "colab": {
          "base_uri": "https://localhost:8080/"
        },
        "id": "ksbbRjfigUg7",
        "outputId": "ed67cdf8-fab0-42d7-d5eb-72e4f3241a5f"
      },
      "execution_count": null,
      "outputs": [
        {
          "output_type": "stream",
          "name": "stdout",
          "text": [
            "standart deviasi pollutant 5 teratas :\n",
            "           value                                                        \\\n",
            "pollutant    bc          co        no2        o3       pm10      pm25   \n",
            "country                                                                 \n",
            "AR          0.0    0.000000   0.000000  0.000000   0.000000  0.000000   \n",
            "AU          0.0    0.000000   0.000000  0.000000   0.000000  0.000000   \n",
            "BA          0.0  536.925476  11.945711  8.207720  46.701891  0.000000   \n",
            "CA          0.0    0.089841   0.000750  0.019323   1.713052  2.286509   \n",
            "CL          0.0    0.000000   0.000000  0.000000   0.000000  0.000000   \n",
            "\n",
            "                      \n",
            "pollutant        so2  \n",
            "country               \n",
            "AR          0.000000  \n",
            "AU          0.000000  \n",
            "BA         30.403947  \n",
            "CA          0.000302  \n",
            "CL          0.000000  \n"
          ]
        }
      ]
    },
    {
      "cell_type": "markdown",
      "source": [
        "Group by dan Aggregasi dengan fungsi statistik dasar part II"
      ],
      "metadata": {
        "id": "tiKO90YrggMv"
      }
    },
    {
      "cell_type": "code",
      "source": [
        "import pandas as pd\n",
        "gaq = pd.read_csv('https://storage.googleapis.com/dqlab-dataset/LO4/global_air_quality_4000rows.csv')\n",
        "# Create variable pollutant\n",
        "pollutant = gaq[['country', 'city','pollutant','value']].pivot_table(index = ['country','city'], columns = 'pollutant').fillna(0)\n",
        "print(pollutant.head())"
      ],
      "metadata": {
        "colab": {
          "base_uri": "https://localhost:8080/"
        },
        "id": "RTN8RmYQghMW",
        "outputId": "c11d9a05-56ad-4f0a-b506-e1563b3d124b"
      },
      "execution_count": null,
      "outputs": [
        {
          "output_type": "stream",
          "name": "stdout",
          "text": [
            "                     value                                     \n",
            "pollutant               bc      co   no2   o3   pm10  pm25  so2\n",
            "country city                                                   \n",
            "AR      Buenos Aires   0.0     0.0   0.0  0.0    0.0  18.1  0.0\n",
            "AU      Townsville     0.0     0.0   0.0  0.0    0.0   3.9  0.0\n",
            "BA      Goražde        0.0   141.0  19.0  8.0    0.0   0.0  0.0\n",
            "        Ilijaš         0.0     0.0   0.0  0.0  100.0   0.0  0.0\n",
            "        Jajce          0.0  1508.0  25.0  6.0    9.0   0.0  0.0\n"
          ]
        }
      ]
    },
    {
      "cell_type": "code",
      "source": [
        "# Group berdasarkan country dan terapkan agregasi sum\n",
        "pollutant_sum = pollutant.groupby('country').sum()\n",
        "print('Pollutant yang telah di jumlahkan berdasarkan country :\\n', pollutant_sum.head())"
      ],
      "metadata": {
        "colab": {
          "base_uri": "https://localhost:8080/"
        },
        "id": "nyeUUhz1gpdt",
        "outputId": "e7a229b5-626d-4fe1-ee77-abf7bd20e767"
      },
      "execution_count": null,
      "outputs": [
        {
          "output_type": "stream",
          "name": "stdout",
          "text": [
            "Pollutant yang telah di jumlahkan berdasarkan country :\n",
            "           value                                                          \n",
            "pollutant    bc        co       no2         o3   pm10       pm25      so2\n",
            "country                                                                  \n",
            "AR          0.0     0.000    0.0000   0.000000    0.0  18.100000    0.000\n",
            "AU          0.0     0.000    0.0000   0.000000    0.0   3.900000    0.000\n",
            "BA          0.0  2855.000  117.0000  35.000000  242.0   0.000000  108.000\n",
            "CA          0.0     0.405    0.0039   0.285593    9.2  37.769608    0.001\n",
            "CL          0.0     0.000   21.0000   0.000000    0.0   0.000000    0.000\n"
          ]
        }
      ]
    },
    {
      "cell_type": "code",
      "source": [
        "# Group berdasarkan country dan terapkan agregasi nunique (nunique digunakan untuk mencari unique value di setiap kelompok)\n",
        "pollutant_nunique = pollutant.groupby('country').nunique()\n",
        "print('Pollutant yang telah di group untuk kemudian dicari nilai unique per kelompoknya :\\n', pollutant_nunique.head())"
      ],
      "metadata": {
        "colab": {
          "base_uri": "https://localhost:8080/"
        },
        "id": "pedmeSgLgwsX",
        "outputId": "5170ad2d-4c77-4edb-ae2a-2950136867f4"
      },
      "execution_count": null,
      "outputs": [
        {
          "output_type": "stream",
          "name": "stdout",
          "text": [
            "Pollutant yang telah di group untuk kemudian dicari nilai unique per kelompoknya :\n",
            "           value                        \n",
            "pollutant    bc co no2 o3 pm10 pm25 so2\n",
            "country                                \n",
            "AR            1  1   1  1    1    1   1\n",
            "AU            1  1   1  1    1    1   1\n",
            "BA            1  6   6  4    5    1   4\n",
            "CA            1  3   4  9    4   10   2\n",
            "CL            1  1   1  1    1    1   1\n"
          ]
        }
      ]
    },
    {
      "cell_type": "markdown",
      "source": [
        "Groupby dan Aggregasi dengan Fungsi Statistik Dasar - Part dengan fungsi statstik min() dan max()"
      ],
      "metadata": {
        "id": "qNLMELArhBzr"
      }
    },
    {
      "cell_type": "code",
      "source": [
        "import pandas as pd\n",
        "gaq = pd.read_csv(\"https://storage.googleapis.com/dqlab-dataset/LO4/global_air_quality_4000rows.csv\")\n",
        "pollutant = gaq[['country', 'city', 'pollutant','value']].pivot_table(index = ['country','city'], columns = 'pollutant').fillna(0)\n",
        "print('Data Pollutant :\\n', pollutant)"
      ],
      "metadata": {
        "colab": {
          "base_uri": "https://localhost:8080/"
        },
        "id": "Yz65P-qohFcX",
        "outputId": "070dba13-440b-4619-e9c6-1789b5aadf16"
      },
      "execution_count": null,
      "outputs": [
        {
          "output_type": "stream",
          "name": "stdout",
          "text": [
            "Data Pollutant :\n",
            "                       value                                                  \n",
            "pollutant                bc      co     no2      o3     pm10     pm25     so2\n",
            "country city                                                                 \n",
            "AR      Buenos Aires    0.0     0.0   0.000   0.000    0.000  18.1000   0.000\n",
            "AU      Townsville      0.0     0.0   0.000   0.000    0.000   3.9000   0.000\n",
            "BA      Goražde         0.0   141.0  19.000   8.000    0.000   0.0000   0.000\n",
            "        Ilijaš          0.0     0.0   0.000   0.000  100.000   0.0000   0.000\n",
            "        Jajce           0.0  1508.0  25.000   6.000    9.000   0.0000   0.000\n",
            "...                     ...     ...     ...     ...      ...      ...     ...\n",
            "XK      Hani i Elezit   0.0   137.0   0.000  81.130   14.524   0.0000   2.704\n",
            "        Mitrovice       0.0    56.0   4.306  65.391   24.414  18.7260  37.086\n",
            "        Peje            0.0   852.0   0.000  23.858    0.000   0.0000   0.000\n",
            "        Prishtine       0.0     0.0   4.240  85.079    0.000  11.8235   8.354\n",
            "        Prizren         0.0     0.0   0.000   0.000    0.000   0.0000   1.125\n",
            "\n",
            "[1133 rows x 7 columns]\n"
          ]
        }
      ]
    },
    {
      "cell_type": "code",
      "source": [
        "pollutant_first = pollutant.groupby('country').first()\n",
        "print('item pertama 5 teratas groupby country :\\n', pollutant_first.head())"
      ],
      "metadata": {
        "colab": {
          "base_uri": "https://localhost:8080/"
        },
        "id": "nJC1j5UYhUwX",
        "outputId": "38d4043f-bd8a-47ce-d93f-69390ca53629"
      },
      "execution_count": null,
      "outputs": [
        {
          "output_type": "stream",
          "name": "stdout",
          "text": [
            "item pertama 5 teratas groupby country :\n",
            "           value                                            \n",
            "pollutant    bc       co      no2        o3 pm10  pm25  so2\n",
            "country                                                    \n",
            "AR          0.0    0.000   0.0000  0.000000  0.0  18.1  0.0\n",
            "AU          0.0    0.000   0.0000  0.000000  0.0   3.9  0.0\n",
            "BA          0.0  141.000  19.0000  8.000000  0.0   0.0  0.0\n",
            "CA          0.0    0.285   0.0024  0.048333  0.0   3.9  0.0\n",
            "CL          0.0    0.000  21.0000  0.000000  0.0   0.0  0.0\n"
          ]
        }
      ]
    },
    {
      "cell_type": "code",
      "source": [
        "pollutant_last = pollutant.groupby('country').last()\n",
        "print('item terakhir 5 terbaah groupby country :\\n', pollutant_last.head())"
      ],
      "metadata": {
        "colab": {
          "base_uri": "https://localhost:8080/"
        },
        "id": "vGPkmF3BhZgj",
        "outputId": "d416e059-3007-4f4b-8312-a7b6bade8a67"
      },
      "execution_count": null,
      "outputs": [
        {
          "output_type": "stream",
          "name": "stdout",
          "text": [
            "item terakhir 5 terbaah groupby country :\n",
            "           value                                      \n",
            "pollutant    bc     co   no2     o3  pm10  pm25   so2\n",
            "country                                              \n",
            "AR          0.0    0.0   0.0  0.000   0.0  18.1   0.0\n",
            "AU          0.0    0.0   0.0  0.000   0.0   3.9   0.0\n",
            "BA          0.0  292.0  29.0  0.000  96.0   0.0  78.0\n",
            "CA          0.0    0.0   0.0  0.036   3.0   0.0   0.0\n",
            "CL          0.0    0.0  21.0  0.000   0.0   0.0   0.0\n"
          ]
        }
      ]
    },
    {
      "cell_type": "markdown",
      "source": [
        "Groupby dengan Multiple Aggregations (gabungan dari beberapa action)"
      ],
      "metadata": {
        "id": "Cwb9P35ihkJL"
      }
    },
    {
      "cell_type": "code",
      "source": [
        "import pandas as pd\n",
        "gaq = pd.read_csv(\"https://storage.googleapis.com/dqlab-dataset/LO4/global_air_quality_4000rows.csv\")\n",
        "pollutant = gaq[['country','city','pollutant','value']].pivot_table(index = ['country','city'], columns = 'pollutant').fillna(0)\n",
        "# Group berdasarkan country dan terapkan agregasi : min, median, mean, max\n",
        "multi_agg = pollutant.groupby('country').agg(['min','median','mean','max'])\n",
        "print('country yang di grup dan multiple agregasi :\\n', multi_agg.head())"
      ],
      "metadata": {
        "colab": {
          "base_uri": "https://localhost:8080/"
        },
        "id": "D_0zK8b2hnWn",
        "outputId": "67896a53-ece4-469c-d0bd-553bf5b987bd"
      },
      "execution_count": null,
      "outputs": [
        {
          "output_type": "stream",
          "name": "stdout",
          "text": [
            "country yang di grup dan multiple agregasi :\n",
            "           value                                                           \\\n",
            "pollutant    bc                    co                                no2   \n",
            "            min median mean  max  min median        mean       max   min   \n",
            "country                                                                    \n",
            "AR          0.0    0.0  0.0  0.0  0.0    0.0    0.000000     0.000   0.0   \n",
            "AU          0.0    0.0  0.0  0.0  0.0    0.0    0.000000     0.000   0.0   \n",
            "BA          0.0    0.0  0.0  0.0  0.0  355.0  475.833333  1508.000   0.0   \n",
            "CA          0.0    0.0  0.0  0.0  0.0    0.0    0.036818     0.285   0.0   \n",
            "CL          0.0    0.0  0.0  0.0  0.0    0.0    0.000000     0.000  21.0   \n",
            "\n",
            "                  ...                                                       \\\n",
            "pollutant         ...       pm10         pm25                          so2   \n",
            "          median  ...       mean    max   min median       mean   max  min   \n",
            "country           ...                                                        \n",
            "AR           0.0  ...   0.000000    0.0  18.1   18.1  18.100000  18.1  0.0   \n",
            "AU           0.0  ...   0.000000    0.0   3.9    3.9   3.900000   3.9  0.0   \n",
            "BA          22.0  ...  40.333333  100.0   0.0    0.0   0.000000   0.0  0.0   \n",
            "CA           0.0  ...   0.836364    5.2   0.0    4.0   3.433601   6.0  0.0   \n",
            "CL          21.0  ...   0.000000    0.0   0.0    0.0   0.000000   0.0  0.0   \n",
            "\n",
            "                                     \n",
            "pollutant                            \n",
            "          median       mean     max  \n",
            "country                              \n",
            "AR           0.0   0.000000   0.000  \n",
            "AU           0.0   0.000000   0.000  \n",
            "BA           5.5  18.000000  78.000  \n",
            "CA           0.0   0.000091   0.001  \n",
            "CL           0.0   0.000000   0.000  \n",
            "\n",
            "[5 rows x 28 columns]\n"
          ]
        }
      ]
    },
    {
      "cell_type": "markdown",
      "source": [
        "Groupby dengan Custom Aggregations"
      ],
      "metadata": {
        "id": "pMxFTGg1iLUB"
      }
    },
    {
      "cell_type": "code",
      "source": [
        "import pandas as pd\n",
        "gaq = pd.read_csv(\"https://storage.googleapis.com/dqlab-dataset/LO4/global_air_quality_4000rows.csv\")\n",
        "polltant = gaq[['country','city','pollutant','value']].pivot_table(index=['country','city'],columns='pollutant').fillna(0)\n",
        "# Create sebuah function IQR\n",
        "def data_range(series):\n",
        "    Q1 = series.quantile(0.25)\n",
        "    Q3 = series.quantile(0.75)\n",
        "    return Q3-Q1\n",
        "# Create berdasarkan country dan terapkan aggregasi dari fungsi : data_range\n",
        "costum_agg = pollutant.groupby('country').agg(data_range)\n",
        "print('costum agrregasi 5 teratas :\\n', costum_agg.head())"
      ],
      "metadata": {
        "colab": {
          "base_uri": "https://localhost:8080/"
        },
        "id": "qlGmZNHAiMoq",
        "outputId": "c1a2c098-010a-4493-c4af-0f7b0389fa6e"
      },
      "execution_count": null,
      "outputs": [
        {
          "output_type": "stream",
          "name": "stdout",
          "text": [
            "costum agrregasi 5 teratas :\n",
            "           value                                                  \n",
            "pollutant    bc      co       no2        o3  pm10      pm25   so2\n",
            "country                                                          \n",
            "AR          0.0    0.00   0.00000  0.000000   0.0  0.000000   0.0\n",
            "AU          0.0    0.00   0.00000  0.000000   0.0  0.000000   0.0\n",
            "BA          0.0  297.75  14.25000  7.500000  79.0  0.000000  17.0\n",
            "CA          0.0    0.00   0.00025  0.035708   0.5  3.876471   0.0\n",
            "CL          0.0    0.00   0.00000  0.000000   0.0  0.000000   0.0\n"
          ]
        }
      ]
    },
    {
      "cell_type": "markdown",
      "source": [
        "Groupby dengan Custom Aggregations by dict"
      ],
      "metadata": {
        "id": "-cAxPaUoiXBm"
      }
    },
    {
      "cell_type": "code",
      "source": [
        "import pandas as pd\n",
        "gaq = pd.read_csv(\"https://storage.googleapis.com/dqlab-dataset/LO4/global_air_quality_4000rows.csv\")\n",
        "pollutant = gaq[['country','city','pollutant','value']].pivot_table(index=['country','city'],columns='pollutant').fillna(0)\n",
        "print('Data pollutant (5 teratas):\\n', pollutant.head())\n",
        "# Fungsi IQR\n",
        "def iqr(series):\n",
        "    return series.quantile(0.75) - series.quantile(0.25)\n",
        "# Create aggregation using dictionary\n",
        "costum_agg_dict = pollutant['value'][['pm10','pm25','so2']].groupby('country').agg({'pm10':'median', 'pm25':iqr, 'so2':iqr})\n",
        "print('\\n cetak 5 data teratas costm agg dict :\\n', costum_agg_dict.head())"
      ],
      "metadata": {
        "colab": {
          "base_uri": "https://localhost:8080/"
        },
        "id": "AsFdxzUoiX-t",
        "outputId": "482c5b55-dbee-46b3-d210-b3624841e13b"
      },
      "execution_count": null,
      "outputs": [
        {
          "output_type": "stream",
          "name": "stdout",
          "text": [
            "Data pollutant (5 teratas):\n",
            "                      value                                     \n",
            "pollutant               bc      co   no2   o3   pm10  pm25  so2\n",
            "country city                                                   \n",
            "AR      Buenos Aires   0.0     0.0   0.0  0.0    0.0  18.1  0.0\n",
            "AU      Townsville     0.0     0.0   0.0  0.0    0.0   3.9  0.0\n",
            "BA      Goražde        0.0   141.0  19.0  8.0    0.0   0.0  0.0\n",
            "        Ilijaš         0.0     0.0   0.0  0.0  100.0   0.0  0.0\n",
            "        Jajce          0.0  1508.0  25.0  6.0    9.0   0.0  0.0\n",
            "\n",
            " cetak 5 data teratas costm agg dict :\n",
            " pollutant  pm10      pm25   so2\n",
            "country                        \n",
            "AR          0.0  0.000000   0.0\n",
            "AU          0.0  0.000000   0.0\n",
            "BA         23.0  0.000000  17.0\n",
            "CA          0.0  3.876471   0.0\n",
            "CL          0.0  0.000000   0.0\n"
          ]
        }
      ]
    },
    {
      "cell_type": "markdown",
      "source": [
        "Time series in Pandas\n",
        "\n",
        "\n",
        "\n",
        "1. Load dataset astime series  \n",
        "\n"
      ],
      "metadata": {
        "id": "IiK2-jNRj23l"
      }
    },
    {
      "cell_type": "code",
      "source": [
        "import pandas as pd\n",
        "# load dataset\n",
        "gaq = pd.read_csv('https://storage.googleapis.com/dqlab-dataset/LO4/global_air_quality_4000rows.csv', parse_dates=True, index_col='timestamp')\n",
        "print(gaq.head())\n",
        "print('info')\n",
        "print(gaq.info())"
      ],
      "metadata": {
        "colab": {
          "base_uri": "https://localhost:8080/"
        },
        "id": "8PiGue61j8q5",
        "outputId": "8f48e38a-707f-4f69-f647-304680fab653"
      },
      "execution_count": null,
      "outputs": [
        {
          "output_type": "stream",
          "name": "stdout",
          "text": [
            "                                                  location       city country  \\\n",
            "timestamp                                                                       \n",
            "2017-01-18 16:00:00+00:00                  MOBILE-KICKAPOO    LINCOLN      US   \n",
            "2020-04-07 20:00:00+00:00                  Oxford St Ebbes     Oxford      GB   \n",
            "2020-04-07 19:00:00+00:00                 BROADWAY (South)  St. Louis      US   \n",
            "2020-04-07 18:30:00+00:00  Deen Dayal Nagar, Sagar - MPPCB      Sagar      IN   \n",
            "2020-04-07 20:00:00+00:00                        Manglerud       Oslo      NO   \n",
            "\n",
            "                          pollutant  value   unit source_name   latitude  \\\n",
            "timestamp                                                                  \n",
            "2017-01-18 16:00:00+00:00      pm10   7.00  µg/m³      AirNow  35.488400   \n",
            "2020-04-07 20:00:00+00:00       no2  30.00  µg/m³       DEFRA  51.744804   \n",
            "2020-04-07 19:00:00+00:00      pm25   6.10  µg/m³      AirNow  38.542500   \n",
            "2020-04-07 18:30:00+00:00      pm25  23.67  µg/m³       caaqm  23.864016   \n",
            "2020-04-07 20:00:00+00:00      pm10  27.06  µg/m³      Norway  59.898690   \n",
            "\n",
            "                           longitude  averaged_over_in_hours  \n",
            "timestamp                                                     \n",
            "2017-01-18 16:00:00+00:00 -97.090280                    1.00  \n",
            "2020-04-07 20:00:00+00:00  -1.260278                    1.00  \n",
            "2020-04-07 19:00:00+00:00 -90.263610                    1.00  \n",
            "2020-04-07 18:30:00+00:00  78.802895                    0.25  \n",
            "2020-04-07 20:00:00+00:00  10.814950                    1.00  \n",
            "info\n",
            "<class 'pandas.core.frame.DataFrame'>\n",
            "DatetimeIndex: 4000 entries, 2017-01-18 16:00:00+00:00 to 2017-01-08 08:00:00+00:00\n",
            "Data columns (total 10 columns):\n",
            " #   Column                  Non-Null Count  Dtype  \n",
            "---  ------                  --------------  -----  \n",
            " 0   location                3997 non-null   object \n",
            " 1   city                    3966 non-null   object \n",
            " 2   country                 4000 non-null   object \n",
            " 3   pollutant               4000 non-null   object \n",
            " 4   value                   4000 non-null   float64\n",
            " 5   unit                    4000 non-null   object \n",
            " 6   source_name             4000 non-null   object \n",
            " 7   latitude                4000 non-null   float64\n",
            " 8   longitude               4000 non-null   float64\n",
            " 9   averaged_over_in_hours  3634 non-null   float64\n",
            "dtypes: float64(4), object(6)\n",
            "memory usage: 343.8+ KB\n",
            "None\n"
          ]
        }
      ]
    },
    {
      "cell_type": "markdown",
      "source": [
        "Convert to date time"
      ],
      "metadata": {
        "id": "e47NQYbIkey0"
      }
    },
    {
      "cell_type": "code",
      "source": [
        "import pandas as pd\n",
        "gaq = pd.read_csv('https://storage.googleapis.com/dqlab-dataset/LO4/global_air_quality_4000rows.csv')\n",
        "print('sebelum di ubah menjadi datetimes :\\n', gaq.head())\n"
      ],
      "metadata": {
        "colab": {
          "base_uri": "https://localhost:8080/"
        },
        "id": "YnEq0Zd1kg6w",
        "outputId": "cb5c9919-70db-4588-c3b6-1ffce8c49f2d"
      },
      "execution_count": null,
      "outputs": [
        {
          "output_type": "stream",
          "name": "stdout",
          "text": [
            "sebelum di ubah menjadi datetimes :\n",
            "                           location       city country pollutant  value  \\\n",
            "0                  MOBILE-KICKAPOO    LINCOLN      US      pm10   7.00   \n",
            "1                  Oxford St Ebbes     Oxford      GB       no2  30.00   \n",
            "2                 BROADWAY (South)  St. Louis      US      pm25   6.10   \n",
            "3  Deen Dayal Nagar, Sagar - MPPCB      Sagar      IN      pm25  23.67   \n",
            "4                        Manglerud       Oslo      NO      pm10  27.06   \n",
            "\n",
            "                 timestamp   unit source_name   latitude  longitude  \\\n",
            "0  2017-01-18 16:00:00 UTC  µg/m³      AirNow  35.488400 -97.090280   \n",
            "1  2020-04-07 20:00:00 UTC  µg/m³       DEFRA  51.744804  -1.260278   \n",
            "2  2020-04-07 19:00:00 UTC  µg/m³      AirNow  38.542500 -90.263610   \n",
            "3  2020-04-07 18:30:00 UTC  µg/m³       caaqm  23.864016  78.802895   \n",
            "4  2020-04-07 20:00:00 UTC  µg/m³      Norway  59.898690  10.814950   \n",
            "\n",
            "   averaged_over_in_hours  \n",
            "0                    1.00  \n",
            "1                    1.00  \n",
            "2                    1.00  \n",
            "3                    0.25  \n",
            "4                    1.00  \n"
          ]
        }
      ]
    },
    {
      "cell_type": "code",
      "source": [
        "gaq_timestamps= pd.read_csv('https://storage.googleapis.com/dqlab-dataset/LO4/global_air_quality_4000rows.csv', parse_dates=True, index_col='timestamp')\n",
        "# ubah menjadi datetime\n",
        "gaq['timestamp'] = pd.to_datetime(gaq['timestamp'])\n",
        "gaq = gaq.set_index('timestamp')\n",
        "print('sudah diubah dalam bentu datetimes :\\n', gaq.head())"
      ],
      "metadata": {
        "colab": {
          "base_uri": "https://localhost:8080/"
        },
        "id": "t2e7eyhjks10",
        "outputId": "5c587f45-0009-4a14-a3dc-adbd1ff91914"
      },
      "execution_count": null,
      "outputs": [
        {
          "output_type": "stream",
          "name": "stdout",
          "text": [
            "sudah diubah dalam bentu datetimes :\n",
            "                                                   location       city country  \\\n",
            "timestamp                                                                       \n",
            "2017-01-18 16:00:00+00:00                  MOBILE-KICKAPOO    LINCOLN      US   \n",
            "2020-04-07 20:00:00+00:00                  Oxford St Ebbes     Oxford      GB   \n",
            "2020-04-07 19:00:00+00:00                 BROADWAY (South)  St. Louis      US   \n",
            "2020-04-07 18:30:00+00:00  Deen Dayal Nagar, Sagar - MPPCB      Sagar      IN   \n",
            "2020-04-07 20:00:00+00:00                        Manglerud       Oslo      NO   \n",
            "\n",
            "                          pollutant  value   unit source_name   latitude  \\\n",
            "timestamp                                                                  \n",
            "2017-01-18 16:00:00+00:00      pm10   7.00  µg/m³      AirNow  35.488400   \n",
            "2020-04-07 20:00:00+00:00       no2  30.00  µg/m³       DEFRA  51.744804   \n",
            "2020-04-07 19:00:00+00:00      pm25   6.10  µg/m³      AirNow  38.542500   \n",
            "2020-04-07 18:30:00+00:00      pm25  23.67  µg/m³       caaqm  23.864016   \n",
            "2020-04-07 20:00:00+00:00      pm10  27.06  µg/m³      Norway  59.898690   \n",
            "\n",
            "                           longitude  averaged_over_in_hours  \n",
            "timestamp                                                     \n",
            "2017-01-18 16:00:00+00:00 -97.090280                    1.00  \n",
            "2020-04-07 20:00:00+00:00  -1.260278                    1.00  \n",
            "2020-04-07 19:00:00+00:00 -90.263610                    1.00  \n",
            "2020-04-07 18:30:00+00:00  78.802895                    0.25  \n",
            "2020-04-07 20:00:00+00:00  10.814950                    1.00  \n"
          ]
        }
      ]
    },
    {
      "cell_type": "markdown",
      "source": [
        "Downsampling Data\n",
        "\n",
        "1.   daily to monthly\n",
        "2.   monthly to yearly"
      ],
      "metadata": {
        "id": "NiBjv2VUk281"
      }
    },
    {
      "cell_type": "code",
      "source": [
        "import pandas as pd\n",
        "gaq = pd.read_csv('https://storage.googleapis.com/dqlab-dataset/LO4/global_air_quality_4000rows.csv')\n",
        "gaq['timestamp'] = pd.to_datetime(gaq['timestamp'])\n",
        "gaq = gaq.set_index(gaq['timestamp'])\n",
        "print('Dataset yang belum di donsampling :\\n', gaq.head())"
      ],
      "metadata": {
        "colab": {
          "base_uri": "https://localhost:8080/"
        },
        "id": "4PMplY-0k8Vq",
        "outputId": "4133fcca-90cd-4158-81f3-89d7559fd702"
      },
      "execution_count": null,
      "outputs": [
        {
          "output_type": "stream",
          "name": "stdout",
          "text": [
            "Dataset yang belum di donsampling :\n",
            "                                                   location       city country  \\\n",
            "timestamp                                                                       \n",
            "2017-01-18 16:00:00+00:00                  MOBILE-KICKAPOO    LINCOLN      US   \n",
            "2020-04-07 20:00:00+00:00                  Oxford St Ebbes     Oxford      GB   \n",
            "2020-04-07 19:00:00+00:00                 BROADWAY (South)  St. Louis      US   \n",
            "2020-04-07 18:30:00+00:00  Deen Dayal Nagar, Sagar - MPPCB      Sagar      IN   \n",
            "2020-04-07 20:00:00+00:00                        Manglerud       Oslo      NO   \n",
            "\n",
            "                          pollutant  value                 timestamp   unit  \\\n",
            "timestamp                                                                     \n",
            "2017-01-18 16:00:00+00:00      pm10   7.00 2017-01-18 16:00:00+00:00  µg/m³   \n",
            "2020-04-07 20:00:00+00:00       no2  30.00 2020-04-07 20:00:00+00:00  µg/m³   \n",
            "2020-04-07 19:00:00+00:00      pm25   6.10 2020-04-07 19:00:00+00:00  µg/m³   \n",
            "2020-04-07 18:30:00+00:00      pm25  23.67 2020-04-07 18:30:00+00:00  µg/m³   \n",
            "2020-04-07 20:00:00+00:00      pm10  27.06 2020-04-07 20:00:00+00:00  µg/m³   \n",
            "\n",
            "                          source_name   latitude  longitude  \\\n",
            "timestamp                                                     \n",
            "2017-01-18 16:00:00+00:00      AirNow  35.488400 -97.090280   \n",
            "2020-04-07 20:00:00+00:00       DEFRA  51.744804  -1.260278   \n",
            "2020-04-07 19:00:00+00:00      AirNow  38.542500 -90.263610   \n",
            "2020-04-07 18:30:00+00:00       caaqm  23.864016  78.802895   \n",
            "2020-04-07 20:00:00+00:00      Norway  59.898690  10.814950   \n",
            "\n",
            "                           averaged_over_in_hours  \n",
            "timestamp                                          \n",
            "2017-01-18 16:00:00+00:00                    1.00  \n",
            "2020-04-07 20:00:00+00:00                    1.00  \n",
            "2020-04-07 19:00:00+00:00                    1.00  \n",
            "2020-04-07 18:30:00+00:00                    0.25  \n",
            "2020-04-07 20:00:00+00:00                    1.00  \n"
          ]
        }
      ]
    },
    {
      "cell_type": "code",
      "source": [
        "# donsampling dari daily to eekly\n",
        "gaq_eekly = gaq.resample('W').max()\n",
        "print('Data yang telah di donsampling dari daily to eekly :\\n', gaq_eekly.head())"
      ],
      "metadata": {
        "colab": {
          "base_uri": "https://localhost:8080/"
        },
        "id": "COGvZGMDlChk",
        "outputId": "caac066c-302a-46cd-d9bd-fd810b2589e5"
      },
      "execution_count": null,
      "outputs": [
        {
          "output_type": "stream",
          "name": "stdout",
          "text": [
            "Data yang telah di donsampling dari daily to eekly :\n",
            "                           country pollutant  value                 timestamp  \\\n",
            "timestamp                                                                      \n",
            "2014-05-18 00:00:00+00:00      PH      pm25    9.7 2014-05-13 03:00:00+00:00   \n",
            "2014-05-25 00:00:00+00:00     NaN       NaN    NaN                       NaT   \n",
            "2014-06-01 00:00:00+00:00     NaN       NaN    NaN                       NaT   \n",
            "2014-06-08 00:00:00+00:00     NaN       NaN    NaN                       NaT   \n",
            "2014-06-15 00:00:00+00:00     NaN       NaN    NaN                       NaT   \n",
            "\n",
            "                            unit source_name  latitude  longitude  \\\n",
            "timestamp                                                           \n",
            "2014-05-18 00:00:00+00:00  µg/m³     Spartan    14.635     121.08   \n",
            "2014-05-25 00:00:00+00:00    NaN         NaN       NaN        NaN   \n",
            "2014-06-01 00:00:00+00:00    NaN         NaN       NaN        NaN   \n",
            "2014-06-08 00:00:00+00:00    NaN         NaN       NaN        NaN   \n",
            "2014-06-15 00:00:00+00:00    NaN         NaN       NaN        NaN   \n",
            "\n",
            "                           averaged_over_in_hours  \n",
            "timestamp                                          \n",
            "2014-05-18 00:00:00+00:00                     1.0  \n",
            "2014-05-25 00:00:00+00:00                     NaN  \n",
            "2014-06-01 00:00:00+00:00                     NaN  \n",
            "2014-06-08 00:00:00+00:00                     NaN  \n",
            "2014-06-15 00:00:00+00:00                     NaN  \n"
          ]
        },
        {
          "output_type": "stream",
          "name": "stderr",
          "text": [
            "/usr/local/lib/python3.7/dist-packages/pandas/core/apply.py:577: FutureWarning: Dropping invalid columns in DataFrameGroupBy.max is deprecated. In a future version, a TypeError will be raised. Before calling .max, select only columns which should be valid for the function.\n",
            "  return f(*args, **kwargs)\n"
          ]
        }
      ]
    },
    {
      "cell_type": "code",
      "source": [
        "# Donsampling dari daily to quarterly\n",
        "gaq_quarter = gaq.resample('Q').min()\n",
        "print('Data yang telah di donsampling dari daily ke quarterly :\\n', gaq_quarter.head())"
      ],
      "metadata": {
        "colab": {
          "base_uri": "https://localhost:8080/"
        },
        "id": "RbXFJq68lGY5",
        "outputId": "b49eed14-12a0-443c-bfeb-c2c9df925dff"
      },
      "execution_count": null,
      "outputs": [
        {
          "output_type": "stream",
          "name": "stdout",
          "text": [
            "Data yang telah di donsampling dari daily ke quarterly :\n",
            "                           country pollutant  value                 timestamp  \\\n",
            "timestamp                                                                      \n",
            "2014-06-30 00:00:00+00:00      PH      pm25    9.7 2014-05-13 03:00:00+00:00   \n",
            "2014-09-30 00:00:00+00:00      US      pm25    7.1 2014-08-12 20:00:00+00:00   \n",
            "2014-12-31 00:00:00+00:00     NaN       NaN    NaN                       NaT   \n",
            "2015-03-31 00:00:00+00:00     NaN       NaN    NaN                       NaT   \n",
            "2015-06-30 00:00:00+00:00      AR      pm25   18.1 2015-04-15 00:00:00+00:00   \n",
            "\n",
            "                            unit source_name  latitude  longitude  \\\n",
            "timestamp                                                           \n",
            "2014-06-30 00:00:00+00:00  µg/m³     Spartan    14.635    121.080   \n",
            "2014-09-30 00:00:00+00:00  µg/m³     Spartan    37.132    -86.148   \n",
            "2014-12-31 00:00:00+00:00    NaN         NaN       NaN        NaN   \n",
            "2015-03-31 00:00:00+00:00    NaN         NaN       NaN        NaN   \n",
            "2015-06-30 00:00:00+00:00  µg/m³     Spartan   -34.560    -58.506   \n",
            "\n",
            "                           averaged_over_in_hours  \n",
            "timestamp                                          \n",
            "2014-06-30 00:00:00+00:00                     1.0  \n",
            "2014-09-30 00:00:00+00:00                     1.0  \n",
            "2014-12-31 00:00:00+00:00                     NaN  \n",
            "2015-03-31 00:00:00+00:00                     NaN  \n",
            "2015-06-30 00:00:00+00:00                     1.0  \n"
          ]
        },
        {
          "output_type": "stream",
          "name": "stderr",
          "text": [
            "/usr/local/lib/python3.7/dist-packages/pandas/core/apply.py:577: FutureWarning: Dropping invalid columns in DataFrameGroupBy.min is deprecated. In a future version, a TypeError will be raised. Before calling .min, select only columns which should be valid for the function.\n",
            "  return f(*args, **kwargs)\n"
          ]
        }
      ]
    },
    {
      "cell_type": "markdown",
      "source": [
        "Upsampling Data"
      ],
      "metadata": {
        "id": "xXfiraz0lTGg"
      }
    },
    {
      "cell_type": "code",
      "source": [
        "import pandas as pd\n",
        "gaq = pd.read_csv('https://storage.googleapis.com/dqlab-dataset/LO4/global_air_quality_4000rows.csv')\n",
        "gaq['timestamp'] = pd.to_datetime(gaq['timestamp'])\n",
        "gaq = gaq.set_index(['timestamp'])\n",
        "# upsampling dari daily to hourly \n",
        "gaq_hour = gaq.resample('H').mean()\n",
        "print('Dataset yang telah di upsampling :\\n', gaq_hour.head())"
      ],
      "metadata": {
        "colab": {
          "base_uri": "https://localhost:8080/"
        },
        "id": "10Xp5_U2lUpx",
        "outputId": "63343421-2c82-4ceb-ee2b-f4b21bba3a1a"
      },
      "execution_count": null,
      "outputs": [
        {
          "output_type": "stream",
          "name": "stdout",
          "text": [
            "Dataset yang telah di upsampling :\n",
            "                            value  latitude  longitude  averaged_over_in_hours\n",
            "timestamp                                                                    \n",
            "2014-05-13 03:00:00+00:00    9.7    14.635     121.08                     1.0\n",
            "2014-05-13 04:00:00+00:00    NaN       NaN        NaN                     NaN\n",
            "2014-05-13 05:00:00+00:00    NaN       NaN        NaN                     NaN\n",
            "2014-05-13 06:00:00+00:00    NaN       NaN        NaN                     NaN\n",
            "2014-05-13 07:00:00+00:00    NaN       NaN        NaN                     NaN\n"
          ]
        }
      ]
    },
    {
      "cell_type": "markdown",
      "source": [
        "Resampling data by freuency ( contoh 2 minggu seali, 5 minggu sekali, 6 tahun sekali)"
      ],
      "metadata": {
        "id": "QsCWSgHAlboX"
      }
    },
    {
      "cell_type": "code",
      "source": [
        "import pandas as pd\n",
        "gaq = pd.read_csv('https://storage.googleapis.com/dqlab-dataset/LO4/global_air_quality_4000rows.csv')\n",
        "gaq['timestamp'] = pd.to_datetime(gaq['timestamp'])\n",
        "gaq = gaq.set_index('timestamp')\n",
        "# resample dari daily ke 2 monthly (2 bulan sekali), hitung rata-rata, dan fill dengan ='bfill'\n",
        "gaq_2m = gaq.resample('2M').mean().fillna(method='bfill')\n",
        "print('Dataset yang telah di resampling :\\n', gaq_2m.head())"
      ],
      "metadata": {
        "colab": {
          "base_uri": "https://localhost:8080/"
        },
        "id": "HU-T8bknlgXu",
        "outputId": "7ef328cd-51a5-4294-aa11-9c6022684481"
      },
      "execution_count": null,
      "outputs": [
        {
          "output_type": "stream",
          "name": "stdout",
          "text": [
            "Dataset yang telah di resampling :\n",
            "                            value  latitude  longitude  averaged_over_in_hours\n",
            "timestamp                                                                    \n",
            "2014-05-31 00:00:00+00:00    9.7    14.635    121.080                     1.0\n",
            "2014-07-31 00:00:00+00:00    7.1    37.132    -86.148                     1.0\n",
            "2014-09-30 00:00:00+00:00    7.1    37.132    -86.148                     1.0\n",
            "2014-11-30 00:00:00+00:00   18.1   -34.560    -58.506                     1.0\n",
            "2015-01-31 00:00:00+00:00   18.1   -34.560    -58.506                     1.0\n"
          ]
        }
      ]
    }
  ]
}