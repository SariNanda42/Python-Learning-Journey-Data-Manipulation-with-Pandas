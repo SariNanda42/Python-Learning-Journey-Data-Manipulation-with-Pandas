{
  "nbformat": 4,
  "nbformat_minor": 0,
  "metadata": {
    "colab": {
      "name": "Data Profilling.ipynb",
      "provenance": [],
      "collapsed_sections": [],
      "authorship_tag": "ABX9TyOv18CNQOKeqhr5mX/rAb8m",
      "include_colab_link": true
    },
    "kernelspec": {
      "name": "python3",
      "display_name": "Python 3"
    },
    "language_info": {
      "name": "python"
    }
  },
  "cells": [
    {
      "cell_type": "markdown",
      "metadata": {
        "id": "view-in-github",
        "colab_type": "text"
      },
      "source": [
        "<a href=\"https://colab.research.google.com/github/SariNanda42/My-Learning-Journey/blob/main/Data_Profilling.ipynb\" target=\"_parent\"><img src=\"https://colab.research.google.com/assets/colab-badge.svg\" alt=\"Open In Colab\"/></a>"
      ]
    },
    {
      "cell_type": "markdown",
      "source": [
        "Importing Data"
      ],
      "metadata": {
        "id": "tiz_cOCPm8qV"
      }
    },
    {
      "cell_type": "code",
      "source": [
        "import pandas as pd\n",
        "import numpy as np\n",
        "import io\n",
        "import pandas_profiling\n",
        "retail_raw = pd.read_csv('https://storage.googleapis.com/dqlab-dataset/retail_raw_reduced_data_quality.csv')"
      ],
      "metadata": {
        "id": "hBUE-OG4niOJ"
      },
      "execution_count": null,
      "outputs": []
    },
    {
      "cell_type": "markdown",
      "source": [
        "Inspeksi tipe data\n",
        "\n"
      ],
      "metadata": {
        "id": "FOlbg_Q7oBiR"
      }
    },
    {
      "cell_type": "code",
      "source": [
        "import pandas as pd\n",
        "import numpy as np\n",
        "import io\n",
        "import pandas_profiling\n",
        "retail_raw = pd.read_csv('https://storage.googleapis.com/dqlab-dataset/retail_raw_reduced_data_quality.csv')\n",
        "\n",
        "# mencetak seluruh tipe data di kolom retail_raw\n",
        "print(retail_raw.dtypes)"
      ],
      "metadata": {
        "colab": {
          "base_uri": "https://localhost:8080/"
        },
        "id": "-CBaOUuroFD6",
        "outputId": "46809210-7922-4947-a451-64c44d012d15"
      },
      "execution_count": null,
      "outputs": [
        {
          "output_type": "stream",
          "name": "stdout",
          "text": [
            "order_id         int64\n",
            "order_date      object\n",
            "customer_id      int64\n",
            "city            object\n",
            "province        object\n",
            "product_id      object\n",
            "brand           object\n",
            "quantity       float64\n",
            "item_price     float64\n",
            "dtype: object\n"
          ]
        }
      ]
    },
    {
      "cell_type": "markdown",
      "source": [
        "\n",
        "Descriptive Statistics - Part 1 ( Len )\n"
      ],
      "metadata": {
        "id": "P2_WKTcMqMN1"
      }
    },
    {
      "cell_type": "code",
      "source": [
        "import pandas as pd\n",
        "import numpy as np\n",
        "import io\n",
        "import pandas_profiling\n",
        "retail_raw = pd.read_csv('https://storage.googleapis.com/dqlab-dataset/retail_raw_reduced_data_quality.csv')\n",
        "\n",
        "# Kolom city\n",
        "length_city = len(retail_raw['city'])\n",
        "print('Length kolom city:', length_city)\n",
        "\n",
        "# Tugas Praktek: Kolom product_id\n",
        "length_product_id = len(retail_raw['product_id'])\n",
        "print('Length kolom product_id:', length_product_id)"
      ],
      "metadata": {
        "colab": {
          "base_uri": "https://localhost:8080/"
        },
        "id": "AHbOgTFxqQpJ",
        "outputId": "c87e67fe-d6d2-4c71-d2cb-105dfc527675"
      },
      "execution_count": null,
      "outputs": [
        {
          "output_type": "stream",
          "name": "stdout",
          "text": [
            "Length kolom city: 5000\n",
            "Length kolom product_id: 5000\n"
          ]
        }
      ]
    },
    {
      "cell_type": "markdown",
      "source": [
        "Descriptive Statistics - Part 2 (count())"
      ],
      "metadata": {
        "id": "glNrlptJ7P-n"
      }
    },
    {
      "cell_type": "code",
      "source": [
        "import pandas as pd\n",
        "import numpy as np\n",
        "import io\n",
        "import pandas_profiling\n",
        "retail_raw = pd.read_csv('https://storage.googleapis.com/dqlab-dataset/retail_raw_reduced_data_quality.csv')\n",
        "\n",
        "# Count kolom city\n",
        "count_city = retail_raw['city'].count()\n",
        "print('Count kolom count_city:', count_city)\n",
        "\n",
        "# Tugas praktek: count kolom product_id\n",
        "count_product_id = retail_raw['product_id'].count()\n",
        "print('Count kolom product_id:', count_product_id)"
      ],
      "metadata": {
        "colab": {
          "base_uri": "https://localhost:8080/"
        },
        "id": "3Q0gTKmP7UQ2",
        "outputId": "f911fc2e-ef88-43d7-c4c1-3ded53fe061b"
      },
      "execution_count": null,
      "outputs": [
        {
          "output_type": "stream",
          "name": "stdout",
          "text": [
            "Count kolom count_city: 4984\n",
            "Count kolom product_id: 4989\n"
          ]
        }
      ]
    },
    {
      "cell_type": "markdown",
      "source": [
        "Descriptive Statistics - Part 3 (missing value)\n",
        "\n",
        "*   mengurangi nilai len dan count\n",
        "*   mencari presentasinya\n",
        "\n"
      ],
      "metadata": {
        "id": "9VC4EIES3XFY"
      }
    },
    {
      "cell_type": "code",
      "source": [
        "import pandas as pd\n",
        "import numpy as np\n",
        "import io\n",
        "import pandas_profiling\n",
        "retail_raw = pd.read_csv('https://storage.googleapis.com/dqlab-dataset/retail_raw_reduced_data_quality.csv')\n",
        "\n",
        "#count coloumn city and product_id\n",
        "count_city = retail_raw['city'].count()\n",
        "count_product_id = retail_raw['product_id'].count()\n",
        "\n",
        "#length coloumn city and product_id\n",
        "length_city = len(retail_raw['city'])\n",
        "length_product_id = len(retail_raw['product_id'])\n",
        "\n",
        "#missing values pada kolom city\n",
        "number_of_missing_values_city = length_city - count_city \n",
        "ratio_of_missing_values_city = number_of_missing_values_city/length_city\n",
        "pct_of_missing_values_city = '{0:.1f}%'.format(ratio_of_missing_values_city * 100)\n",
        "print('Presentase missing values dari kolom kota:', pct_of_missing_values_city)\n",
        "\n",
        "#missing values pada kolom product_id\n",
        "number_of_missing_values_product_id = length_product_id - count_product_id\n",
        "ratio_of_missing_values_product_id = number_of_missing_values_product_id / length_product_id\n",
        "pct_of_missing_values_product_id = '{0:.1f}%'.format(ratio_of_missing_values_product_id * 100)\n",
        "print('Presentase missing values dari kolom product_id:', pct_of_missing_values_product_id)"
      ],
      "metadata": {
        "colab": {
          "base_uri": "https://localhost:8080/"
        },
        "id": "Vav_9PBH3fpJ",
        "outputId": "c60035e4-86e5-4a98-c8a0-b82a6574450c"
      },
      "execution_count": null,
      "outputs": [
        {
          "output_type": "stream",
          "name": "stdout",
          "text": [
            "Presentase missing values dari kolom kota: 0.3%\n",
            "Presentase missing values dari kolom product_id: 0.2%\n"
          ]
        }
      ]
    },
    {
      "cell_type": "markdown",
      "source": [
        "Descriptive Statistics - Part 4\n",
        "Max, Min, Mean, Median, Standar Deviasi"
      ],
      "metadata": {
        "id": "LhsX5Pt5ANuX"
      }
    },
    {
      "cell_type": "code",
      "source": [
        "import pandas as pd\n",
        "import numpy as np\n",
        "import io\n",
        "import pandas_profiling\n",
        "retail_raw = pd.read_csv('https://storage.googleapis.com/dqlab-dataset/retail_raw_reduced_data_quality.csv')\n",
        "\n",
        "# Deskriptif statistics kolom quantity\n",
        "print('Kolom quantity')\n",
        "print('Minimum value: ', retail_raw['quantity'].min())\n",
        "print('Maximum value: ', retail_raw['quantity'].max())\n",
        "print('Mean value: ', retail_raw['quantity'].mean())\n",
        "print('Mode value: ', retail_raw['quantity'].mode())\n",
        "print('Median value: ', retail_raw['quantity'].median())\n",
        "print('Standard Deviation value: ', retail_raw['quantity'].std())\n",
        "\n",
        "# Tugas praktek: Deskriptif statistics kolom item_price\n",
        "print('')\n",
        "print('Kolom item_price')\n",
        "print('Minimum value: ', retail_raw['item_price'].min())\n",
        "print('Maximum value: ', retail_raw['item_price'].max())\n",
        "print('Mean value: ', retail_raw['item_price'].mean())\n",
        "print('Median value: ', retail_raw['item_price'].median())\n",
        "print('Standard Deviation value: ', retail_raw['item_price'].std())"
      ],
      "metadata": {
        "colab": {
          "base_uri": "https://localhost:8080/"
        },
        "id": "HHE5EIHnAWMz",
        "outputId": "0ca50277-e9ef-428d-cbc7-0cbc75dfd73d"
      },
      "execution_count": null,
      "outputs": [
        {
          "output_type": "stream",
          "name": "stdout",
          "text": [
            "Kolom quantity\n",
            "Minimum value:  1.0\n",
            "Maximum value:  720.0\n",
            "Mean value:  11.423987164059366\n",
            "Mode value:  0    1.0\n",
            "dtype: float64\n",
            "Median value:  5.0\n",
            "Standard Deviation value:  29.44202501081146\n",
            "\n",
            "Kolom item_price\n",
            "Minimum value:  26000.0\n",
            "Maximum value:  29762000.0\n",
            "Mean value:  933742.7311008623\n",
            "Median value:  604000.0\n",
            "Standard Deviation value:  1030829.8104242847\n"
          ]
        }
      ]
    },
    {
      "cell_type": "markdown",
      "source": [
        "Descriptive Statistics - Part 5\n",
        "\n",
        "*   Quantile Statistik\n"
      ],
      "metadata": {
        "id": "4pSjvKTbd72C"
      }
    },
    {
      "cell_type": "code",
      "source": [
        "import pandas as pd\n",
        "import numpy as np\n",
        "import io\n",
        "import pandas_profiling\n",
        "retail_raw = pd.read_csv('https://storage.googleapis.com/dqlab-dataset/retail_raw_reduced_data_quality.csv')\n",
        "\n",
        "# Quantile statistics kolom quantity\n",
        "print('Kolom quantity:')\n",
        "print(retail_raw['quantity'].quantile([0.25, 0.5, 0.75]))\n",
        "\n",
        "# Tugas praktek: Quantile statistics kolom item_price\n",
        "print('')\n",
        "print('Kolom item_price:')\n",
        "print(retail_raw['item_price'].quantile([0.25, 0.5, 0.75]))"
      ],
      "metadata": {
        "colab": {
          "base_uri": "https://localhost:8080/"
        },
        "id": "eZFTov9QeC-K",
        "outputId": "e7379cea-4a85-4881-811b-49476ba52898"
      },
      "execution_count": null,
      "outputs": [
        {
          "output_type": "stream",
          "name": "stdout",
          "text": [
            "Kolom quantity:\n",
            "0.25     2.0\n",
            "0.50     5.0\n",
            "0.75    12.0\n",
            "Name: quantity, dtype: float64\n",
            "\n",
            "Kolom item_price:\n",
            "0.25     450000.0\n",
            "0.50     604000.0\n",
            "0.75    1045000.0\n",
            "Name: item_price, dtype: float64\n"
          ]
        }
      ]
    },
    {
      "cell_type": "markdown",
      "source": [
        "Descriptive Statistics - Part 6\n",
        "\n",
        "*   Correlation\n",
        "\n"
      ],
      "metadata": {
        "id": "Hb7nlHA1gawg"
      }
    },
    {
      "cell_type": "code",
      "source": [
        "import pandas as pd\n",
        "import numpy as np\n",
        "import io\n",
        "import pandas_profiling\n",
        "retail_raw = pd.read_csv('https://storage.googleapis.com/dqlab-dataset/retail_raw_reduced_data_quality.csv')\n",
        "\n",
        "print('Korelasi quantity dengan item_price')\n",
        "print(retail_raw[[\"quantity\", \"item_price\"]].corr())\n"
      ],
      "metadata": {
        "colab": {
          "base_uri": "https://localhost:8080/"
        },
        "id": "my5HwG68gi3b",
        "outputId": "0c000c8e-9b8f-4027-d4a9-ec04230fbe5b"
      },
      "execution_count": null,
      "outputs": [
        {
          "output_type": "stream",
          "name": "stdout",
          "text": [
            "Korelasi quantity dengan item_price\n",
            "            quantity  item_price\n",
            "quantity    1.000000   -0.133936\n",
            "item_price -0.133936    1.000000\n"
          ]
        }
      ]
    },
    {
      "cell_type": "markdown",
      "source": [
        "Missing Data (Data Cleansing with fillna() and dropna())"
      ],
      "metadata": {
        "id": "kWvnoZ-DR5xz"
      }
    },
    {
      "cell_type": "code",
      "source": [
        "import pandas as pd\n",
        "import numpy as np\n",
        "import io\n",
        "import pandas_profiling\n",
        "retail_raw = pd.read_csv('https://storage.googleapis.com/dqlab-dataset/retail_raw_reduced_data_quality.csv')\n",
        "\n",
        "# Check kolom yang memiliki missing data\n",
        "print('Check kolom yang memiliki missing data:')\n",
        "print(retail_raw.isnull().any())\n",
        "\n",
        "# Filling the missing value (imputasi)\n",
        "print('\\nFilling the missing value (imputasi):')\n",
        "print(retail_raw['quantity'].fillna(retail_raw.quantity.mean()))\n",
        "\n",
        "# Drop missing value\n",
        "print('\\nDrop missing value:')\n",
        "print(retail_raw['quantity'].dropna())"
      ],
      "metadata": {
        "colab": {
          "base_uri": "https://localhost:8080/"
        },
        "id": "E6qONr9BSEHg",
        "outputId": "b719e204-d1fb-4d04-ee83-9f0878baa19c"
      },
      "execution_count": null,
      "outputs": [
        {
          "output_type": "stream",
          "name": "stdout",
          "text": [
            "Check kolom yang memiliki missing data:\n",
            "order_id       False\n",
            "order_date     False\n",
            "customer_id    False\n",
            "city            True\n",
            "province        True\n",
            "product_id      True\n",
            "brand          False\n",
            "quantity        True\n",
            "item_price      True\n",
            "dtype: bool\n",
            "\n",
            "Filling the missing value (imputasi):\n",
            "0       10.0\n",
            "1        2.0\n",
            "2        8.0\n",
            "3        4.0\n",
            "4        2.0\n",
            "        ... \n",
            "4995     2.0\n",
            "4996     3.0\n",
            "4997     4.0\n",
            "4998     8.0\n",
            "4999     1.0\n",
            "Name: quantity, Length: 5000, dtype: float64\n",
            "\n",
            "Drop missing value:\n",
            "0       10.0\n",
            "1        2.0\n",
            "2        8.0\n",
            "3        4.0\n",
            "4        2.0\n",
            "        ... \n",
            "4995     2.0\n",
            "4996     3.0\n",
            "4997     4.0\n",
            "4998     8.0\n",
            "4999     1.0\n",
            "Name: quantity, Length: 4986, dtype: float64\n"
          ]
        }
      ]
    },
    {
      "cell_type": "markdown",
      "source": [
        "\n",
        "Tugas praktek mengisi missing value di klom item_price dengan mean()\n",
        "\n"
      ],
      "metadata": {
        "id": "8d_sLWGGSPG8"
      }
    },
    {
      "cell_type": "code",
      "source": [
        "import pandas as pd\n",
        "import numpy as np\n",
        "import io\n",
        "import pandas_profiling\n",
        "retail_raw = pd.read_csv('https://storage.googleapis.com/dqlab-dataset/retail_raw_reduced_data_quality.csv')\n",
        "\n",
        "print(retail_raw['item_price'].fillna(retail_raw['item_price'].mean()))"
      ],
      "metadata": {
        "colab": {
          "base_uri": "https://localhost:8080/"
        },
        "id": "6Bp3ODWXTcTX",
        "outputId": "d6c40938-0613-4c22-f050-0228eccc36d2"
      },
      "execution_count": null,
      "outputs": [
        {
          "output_type": "stream",
          "name": "stdout",
          "text": [
            "0       7.400000e+05\n",
            "1       6.040000e+05\n",
            "2       1.045000e+06\n",
            "3       2.050000e+05\n",
            "4       9.337427e+05\n",
            "            ...     \n",
            "4995    4.500000e+05\n",
            "4996    1.465000e+06\n",
            "4997    7.470000e+05\n",
            "4998    6.950000e+05\n",
            "4999    1.045000e+06\n",
            "Name: item_price, Length: 5000, dtype: float64\n"
          ]
        }
      ]
    },
    {
      "cell_type": "markdown",
      "source": [
        "Outliers"
      ],
      "metadata": {
        "id": "AoXyj4cZpruY"
      }
    },
    {
      "cell_type": "code",
      "source": [
        "import pandas as pd\n",
        "import numpy as np\n",
        "import io\n",
        "import pandas_profiling\n",
        "retail_raw = pd.read_csv('https://storage.googleapis.com/dqlab-dataset/retail_raw_reduced_data_quality.csv')\n",
        "\n",
        "# Q1, Q3, dan IQR\n",
        "Q1 = retail_raw['quantity'].quantile(0.25)\n",
        "Q3 = retail_raw['quantity'].quantile(0.75)\n",
        "IQR = Q3 - Q1\n",
        "\n",
        "# Check ukuran (baris dan kolom) sebelum data yang outliers dibuang\n",
        "print('Shape awal: ', retail_raw.shape)\n",
        "\n",
        "# Removing outliers\n",
        "retail_raw = retail_raw[~((retail_raw['quantity'] < (Q1 - 1.5 * IQR)) | (retail_raw['quantity'] > (Q3 + 1.5 * IQR)))]\n",
        "\n",
        "# Check ukuran (baris dan kolom) setelah data yang outliers dibuang\n",
        "print('Shape akhir: ', retail_raw.shape)"
      ],
      "metadata": {
        "colab": {
          "base_uri": "https://localhost:8080/"
        },
        "id": "BcMyUINAptuc",
        "outputId": "66219afd-63bc-46ba-af2e-14badbe0ecd8"
      },
      "execution_count": null,
      "outputs": [
        {
          "output_type": "stream",
          "name": "stdout",
          "text": [
            "Shape awal:  (5000, 9)\n",
            "Shape akhir:  (4699, 9)\n"
          ]
        }
      ]
    },
    {
      "cell_type": "markdown",
      "source": [
        "Tugas Praktek, menghapus outliers pada kolom item_price"
      ],
      "metadata": {
        "id": "7hxoCYEytXC3"
      }
    },
    {
      "cell_type": "code",
      "source": [
        "import pandas as pd\n",
        "import numpy as np\n",
        "import io\n",
        "import pandas_profiling\n",
        "\n",
        "retail_raw = pd.read_csv('https://storage.googleapis.com/dqlab-dataset/retail_raw_reduced_data_quality.csv')\n",
        "# Q1 Q2 Q3\n",
        "Q1 = retail_raw['item_price'].quantile(0.25)\n",
        "Q3 = retail_raw['item_price'].quantile(0.75)\n",
        "IQR = Q3 - Q1\n",
        "\n",
        "# Cek ukuran baris\n",
        "print('Shape awal:', retail_raw.shape)\n",
        "\n",
        "# Removing outliers\n",
        "retail_raw = retail_raw[~((retail_raw['quantity']< (Q1 - 1.5 * IQR)) | (retail_raw['item_price'] > (Q3 + 1.5 * IQR)))]\n",
        "print('Shape akhir:', retail_raw.shape)"
      ],
      "metadata": {
        "colab": {
          "base_uri": "https://localhost:8080/"
        },
        "id": "AEDKKIGktdum",
        "outputId": "793c34bf-3b8c-414e-932f-ca51822f83a9"
      },
      "execution_count": null,
      "outputs": [
        {
          "output_type": "stream",
          "name": "stdout",
          "text": [
            "Shape awal: (5000, 9)\n",
            "Shape akhir: (4541, 9)\n"
          ]
        }
      ]
    },
    {
      "cell_type": "markdown",
      "source": [
        "Duplicates Data"
      ],
      "metadata": {
        "id": "HTwE04iuw383"
      }
    },
    {
      "cell_type": "code",
      "source": [
        "import pandas as pd\n",
        "import numpy as np\n",
        "import io\n",
        "import pandas_profiling\n",
        "retail_raw = pd.read_csv('https://storage.googleapis.com/dqlab-dataset/retail_raw_reduced_data_quality.csv')\n",
        "\n",
        "# Check ukuran (baris dan kolom) sebelum data duplikasi dibuang\n",
        "print('Shape awal: ', retail_raw.shape)\n",
        "\n",
        "# Buang data yang terduplikasi\n",
        "retail_raw.drop_duplicates(inplace=True)\n",
        "\n",
        "# Check ukuran (baris dan kolom) setelah data duplikasi dibuang\n",
        "print('Shape akhir: ', retail_raw.shape)"
      ],
      "metadata": {
        "colab": {
          "base_uri": "https://localhost:8080/"
        },
        "id": "w2kSDpBMw6Vo",
        "outputId": "983c2b81-2401-400a-e04c-bb0a2f0376d5"
      },
      "execution_count": null,
      "outputs": [
        {
          "output_type": "stream",
          "name": "stdout",
          "text": [
            "Shape awal:  (5000, 9)\n",
            "Shape akhir:  (4993, 9)\n"
          ]
        }
      ]
    },
    {
      "cell_type": "markdown",
      "source": [
        "Case Studi: Data Profiling\n"
      ],
      "metadata": {
        "id": "F1vx4gi515Y7"
      }
    },
    {
      "cell_type": "code",
      "source": [
        "import pandas as pd\n",
        "import numpy as np\n",
        "import io\n",
        "import pandas_profiling\n",
        "\n",
        "# Baca dataset uncleaned_raw.csv\n",
        "uncleaned_raw = pd.read_csv('https://storage.googleapis.com/dqlab-dataset/uncleaned_raw.csv')\n",
        "\n",
        "#inspeksi dataframe uncleaned_raw\n",
        "print('Lima data teratas:') \n",
        "print(uncleaned_raw.head())\n",
        "\n",
        "#Check kolom yang mengandung missing value\n",
        "print('\\nKolom dengan missing value:') \n",
        "print(uncleaned_raw.isnull().any())\n",
        "\n",
        "#Persentase missing value\n",
        "length_qty = len(uncleaned_raw['Quantity'])\n",
        "count_qty = uncleaned_raw['Quantity'].count()\n",
        "\n",
        "#mengurangi length dengan count\n",
        "number_of_missing_values_qty = length_qty - count_qty\n",
        "\n",
        "#mengubah ke bentuk float\n",
        "float_of_missing_values_qty = float(number_of_missing_values_qty / length_qty) \n",
        "\n",
        "#mengubah ke dalam bentuk persen\n",
        "pct_of_missing_values_qty = '{0:.1f}%'.format(float_of_missing_values_qty * 100) \n",
        "\n",
        "#print hasil percent dari missing value\n",
        "print('Persentase missing value kolom Quantity:', pct_of_missing_values_qty)\n",
        "\n",
        "#Mengisi missing value tersebut dengan mean dari kolom tersebut\n",
        "uncleaned_raw['Quantity'] = uncleaned_raw['Quantity'].fillna(uncleaned_raw['Quantity'].mean())"
      ],
      "metadata": {
        "colab": {
          "base_uri": "https://localhost:8080/"
        },
        "id": "xSwvakLb2AQp",
        "outputId": "0164d7d3-87fa-42ba-9615-f3b8dd6bae0c"
      },
      "execution_count": null,
      "outputs": [
        {
          "output_type": "stream",
          "name": "stdout",
          "text": [
            "Lima data teratas:\n",
            "   InvoiceNo                          Description  Quantity     InvoiceDate  \\\n",
            "0     536365   WHITE HANGING HEART T-LIGHT HOLDER       6.0  12/01/10 08.26   \n",
            "1     536366                  WHITE METAL LANTERN       6.0  12/01/10 08.26   \n",
            "2     536367       CREAM CUPID HEARTS COAT HANGER       8.0  12/01/10 08.26   \n",
            "3     536368  KNITTED UNION FLAG HOT WATER BOTTLE       6.0  12/01/10 08.26   \n",
            "4     536369       RED WOOLLY HOTTIE WHITE HEART.       6.0  12/01/10 08.26   \n",
            "\n",
            "   UnitPrice  CustomerID      City  \n",
            "0      29000       17850  Surabaya  \n",
            "1      41000       17850  Surabaya  \n",
            "2      18000       17850  Surabaya  \n",
            "3      38000       17850   Jakarta  \n",
            "4      27000       17850     Medan  \n",
            "\n",
            "Kolom dengan missing value:\n",
            "InvoiceNo      False\n",
            "Description    False\n",
            "Quantity        True\n",
            "InvoiceDate    False\n",
            "UnitPrice      False\n",
            "CustomerID     False\n",
            "City           False\n",
            "dtype: bool\n",
            "Persentase missing value kolom Quantity: 4.0%\n"
          ]
        }
      ]
    },
    {
      "cell_type": "markdown",
      "source": [
        "Case Study: Data Cleansing - Part 1\n",
        "Mengetahui kolom yang memiliki outliers (menggunakan visualisasi Boxplot)"
      ],
      "metadata": {
        "id": "snefxYF727D9"
      }
    },
    {
      "cell_type": "code",
      "source": [
        "import pandas as pd\n",
        "import numpy as np\n",
        "import io\n",
        "import pandas_profiling\n",
        "import matplotlib.pyplot as plt\n",
        "\n",
        "plt.style.use('default')\n",
        "\n",
        "uncleaned_raw = pd.read_csv('https://storage.googleapis.com/dqlab-dataset/uncleaned_raw.csv')\n",
        "uncleaned_raw['Quantity'] = uncleaned_raw['Quantity'].fillna(uncleaned_raw['Quantity'].mean())\n",
        "\n",
        "#Mengetahui kolom yang memiliki outliers!\n",
        "uncleaned_raw.boxplot()\n",
        "plt.show()"
      ],
      "metadata": {
        "colab": {
          "base_uri": "https://localhost:8080/",
          "height": 445
        },
        "id": "YkDJ-WU93fb7",
        "outputId": "a7946262-57dc-43ca-f4f8-38e613631cf1"
      },
      "execution_count": null,
      "outputs": [
        {
          "output_type": "display_data",
          "data": {
            "text/plain": [
              "<Figure size 640x480 with 1 Axes>"
            ],
            "image/png": "[encoded data removed]"
          },
          "metadata": {}
        }
      ]
    },
    {
      "cell_type": "markdown",
      "source": [
        "Case Study: Data Cleansing - Part 2\n",
        "\n",
        "1.   removing outliers \n",
        "2.   checking duplicates data and remove them\n",
        "\n",
        "\n",
        "\n"
      ],
      "metadata": {
        "id": "A09Zv-Lm4_76"
      }
    },
    {
      "cell_type": "code",
      "source": [
        "import pandas as pd\n",
        "import numpy as np\n",
        "import io\n",
        "import pandas_profiling\n",
        "\n",
        "# Baca dataset uncleaned_raw.csv\n",
        "uncleaned_raw = pd.read_csv('https://storage.googleapis.com/dqlab-dataset/uncleaned_raw.csv')\n",
        "\n",
        "#Check IQR\n",
        "Q1 = uncleaned_raw['UnitPrice'].quantile(0.25)\n",
        "Q3 = uncleaned_raw['UnitPrice'].quantile(0.75)\n",
        "IQR = Q3 - Q1\n",
        "\n",
        "#removing outliers\n",
        "uncleaned_raw = uncleaned_raw[~((uncleaned_raw[['UnitPrice']] < (Q1 - 1.5 * IQR)) | (uncleaned_raw[['UnitPrice']] > (Q3 + 1.5 * IQR)))]\n",
        "\n",
        "#check for duplication\n",
        "print(uncleaned_raw.duplicated(subset=None))\n",
        "\n",
        "#remove duplication\n",
        "uncleaned_raw = uncleaned_raw.drop_duplicates()"
      ],
      "metadata": {
        "colab": {
          "base_uri": "https://localhost:8080/"
        },
        "id": "fL4UsN6Z5ER6",
        "outputId": "eddcc459-507b-433d-df82-534bba5df88b"
      },
      "execution_count": null,
      "outputs": [
        {
          "output_type": "stream",
          "name": "stdout",
          "text": [
            "0      False\n",
            "1      False\n",
            "2      False\n",
            "3      False\n",
            "4      False\n",
            "       ...  \n",
            "500     True\n",
            "501     True\n",
            "502     True\n",
            "503     True\n",
            "504     True\n",
            "Length: 505, dtype: bool\n"
          ]
        }
      ]
    },
    {
      "cell_type": "code",
      "source": [
        "import pandas as pd\n",
        "import numpy as np\n",
        "uncleaned_raw = pd.read_csv('https://storage.googleapis.com/dqlab-dataset/uncleaned_raw.csv')\n",
        "print(uncleaned_raw['Quantity'].describe())"
      ],
      "metadata": {
        "colab": {
          "base_uri": "https://localhost:8080/"
        },
        "id": "Q2zE1ISq6mMg",
        "outputId": "93a424d1-3f4f-4515-a6ac-777862f0678b"
      },
      "execution_count": null,
      "outputs": [
        {
          "output_type": "stream",
          "name": "stdout",
          "text": [
            "count      485.000000\n",
            "mean       177.593814\n",
            "std       2871.039379\n",
            "min         -1.000000\n",
            "25%          3.000000\n",
            "50%          6.000000\n",
            "75%         12.000000\n",
            "max      62000.000000\n",
            "Name: Quantity, dtype: float64\n"
          ]
        }
      ]
    }
  ]
}