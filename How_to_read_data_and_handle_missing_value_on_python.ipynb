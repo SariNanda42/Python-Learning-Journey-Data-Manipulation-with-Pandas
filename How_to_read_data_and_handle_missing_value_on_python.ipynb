{
  "nbformat": 4,
  "nbformat_minor": 0,
  "metadata": {
    "colab": {
      "name": "How to read data and handle missing value on python.ipynb",
      "provenance": [],
      "collapsed_sections": [],
      "authorship_tag": "ABX9TyNDosKnT3TEJni8T1RLY+fG",
      "include_colab_link": true
    },
    "kernelspec": {
      "name": "python3",
      "display_name": "Python 3"
    },
    "language_info": {
      "name": "python"
    }
  },
  "cells": [
    {
      "cell_type": "markdown",
      "metadata": {
        "id": "view-in-github",
        "colab_type": "text"
      },
      "source": [
        "<a href=\"https://colab.research.google.com/github/SariNanda42/My-Learning-Journey/blob/main/How_to_read_data_and_handle_missing_value_on_python.ipynb\" target=\"_parent\"><img src=\"https://colab.research.google.com/assets/colab-badge.svg\" alt=\"Open In Colab\"/></a>"
      ]
    },
    {
      "cell_type": "markdown",
      "source": [
        "**Read data using pandas and head**\n"
      ],
      "metadata": {
        "id": "y8wu6UfbPHeO"
      }
    },
    {
      "cell_type": "code",
      "source": [
        "#read data using pandas\n",
        "import pandas as pd\n",
        "csv_data = pd.read_csv('/content/sample_data/shopping_data.csv')\n",
        "print(csv_data)\n"
      ],
      "metadata": {
        "id": "5Dv6SoG0AnK3",
        "colab": {
          "base_uri": "https://localhost:8080/"
        },
        "outputId": "2db052bd-30d2-4faa-f469-47e5169b25f1"
      },
      "execution_count": null,
      "outputs": [
        {
          "output_type": "stream",
          "name": "stdout",
          "text": [
            "     CustomerID   Genre  Age  Annual Income (k$)  Spending Score (1-100)\n",
            "0             1    Male   19                  15                      39\n",
            "1             2    Male   21                  15                      81\n",
            "2             3  Female   20                  16                       6\n",
            "3             4  Female   23                  16                      77\n",
            "4             5  Female   31                  17                      40\n",
            "..          ...     ...  ...                 ...                     ...\n",
            "195         196  Female   35                 120                      79\n",
            "196         197  Female   45                 126                      28\n",
            "197         198    Male   32                 126                      74\n",
            "198         199    Male   32                 137                      18\n",
            "199         200    Male   30                 137                      83\n",
            "\n",
            "[200 rows x 5 columns]\n"
          ]
        }
      ]
    },
    {
      "cell_type": "code",
      "source": [
        "#read data using head\n",
        "print(csv_data.head())"
      ],
      "metadata": {
        "id": "NRCRkS0i0GzV",
        "outputId": "3f2d75e2-91fa-40e6-fe2b-f14892fbbecb",
        "colab": {
          "base_uri": "https://localhost:8080/"
        }
      },
      "execution_count": null,
      "outputs": [
        {
          "output_type": "stream",
          "name": "stdout",
          "text": [
            "   CustomerID   Genre  Age  Annual Income (k$)  Spending Score (1-100)\n",
            "0           1    Male   19                  15                      39\n",
            "1           2    Male   21                  15                      81\n",
            "2           3  Female   20                  16                       6\n",
            "3           4  Female   23                  16                      77\n",
            "4           5  Female   31                  17                      40\n"
          ]
        }
      ]
    },
    {
      "cell_type": "code",
      "source": [
        "#showing column data\n",
        "print(csv_data.columns)"
      ],
      "metadata": {
        "id": "E3G61m-u0Tpr",
        "outputId": "4a0179c3-1a92-488a-ca6c-e79989ea4a32",
        "colab": {
          "base_uri": "https://localhost:8080/"
        }
      },
      "execution_count": null,
      "outputs": [
        {
          "output_type": "stream",
          "name": "stdout",
          "text": [
            "Index(['CustomerID', 'Genre', 'Age', 'Annual Income (k$)',\n",
            "       'Spending Score (1-100)'],\n",
            "      dtype='object')\n"
          ]
        }
      ]
    },
    {
      "cell_type": "code",
      "source": [
        "#Access data based on column\n",
        "print(csv_data['Age'])"
      ],
      "metadata": {
        "id": "NcpoethF0f0-",
        "outputId": "957216dc-41b7-4581-b3f2-c246269fcd58",
        "colab": {
          "base_uri": "https://localhost:8080/"
        }
      },
      "execution_count": null,
      "outputs": [
        {
          "output_type": "stream",
          "name": "stdout",
          "text": [
            "0      19\n",
            "1      21\n",
            "2      20\n",
            "3      23\n",
            "4      31\n",
            "       ..\n",
            "195    35\n",
            "196    45\n",
            "197    32\n",
            "198    32\n",
            "199    30\n",
            "Name: Age, Length: 200, dtype: int64\n"
          ]
        }
      ]
    },
    {
      "cell_type": "code",
      "source": [
        "#Access data based on line\n",
        "print(csv_data.iloc[5])"
      ],
      "metadata": {
        "id": "UHu8vHYC1KYG",
        "outputId": "673a532e-1173-4ba8-b18a-91fdae7ea867",
        "colab": {
          "base_uri": "https://localhost:8080/"
        }
      },
      "execution_count": null,
      "outputs": [
        {
          "output_type": "stream",
          "name": "stdout",
          "text": [
            "CustomerID                     6\n",
            "Genre                     Female\n",
            "Age                           22\n",
            "Annual Income (k$)            17\n",
            "Spending Score (1-100)        76\n",
            "Name: 5, dtype: object\n"
          ]
        }
      ]
    },
    {
      "cell_type": "code",
      "source": [
        "#showing data within a certain range\n",
        "print(csv_data.iloc[10:20])"
      ],
      "metadata": {
        "id": "Q9qlz4a21Yr_",
        "outputId": "aff22f1c-aa56-4c57-fb3e-942dd02478c7",
        "colab": {
          "base_uri": "https://localhost:8080/"
        }
      },
      "execution_count": null,
      "outputs": [
        {
          "output_type": "stream",
          "name": "stdout",
          "text": [
            "    CustomerID   Genre  Age  Annual Income (k$)  Spending Score (1-100)\n",
            "10          11    Male   67                  19                      14\n",
            "11          12  Female   35                  19                      99\n",
            "12          13  Female   58                  20                      15\n",
            "13          14  Female   24                  20                      77\n",
            "14          15    Male   37                  20                      13\n",
            "15          16    Male   22                  20                      79\n",
            "16          17  Female   35                  21                      35\n",
            "17          18    Male   20                  21                      66\n",
            "18          19    Male   52                  23                      29\n",
            "19          20  Female   35                  23                      98\n"
          ]
        }
      ]
    },
    {
      "cell_type": "markdown",
      "source": [
        "**Showing a Statistic Info Using Numpy**"
      ],
      "metadata": {
        "id": "BJ-v6nHF1zpd"
      }
    },
    {
      "cell_type": "code",
      "source": [
        "#Showing statistic data info\n",
        "print(csv_data.describe(include='all'))"
      ],
      "metadata": {
        "id": "i6fHCdIj2BE6",
        "outputId": "9a3bc687-d493-4909-b8e8-b31e2036b3f7",
        "colab": {
          "base_uri": "https://localhost:8080/"
        }
      },
      "execution_count": null,
      "outputs": [
        {
          "output_type": "stream",
          "name": "stdout",
          "text": [
            "        CustomerID   Genre         Age  Annual Income (k$)  \\\n",
            "count   200.000000     200  200.000000          200.000000   \n",
            "unique         NaN       2         NaN                 NaN   \n",
            "top            NaN  Female         NaN                 NaN   \n",
            "freq           NaN     112         NaN                 NaN   \n",
            "mean    100.500000     NaN   38.850000           60.560000   \n",
            "std      57.879185     NaN   13.969007           26.264721   \n",
            "min       1.000000     NaN   18.000000           15.000000   \n",
            "25%      50.750000     NaN   28.750000           41.500000   \n",
            "50%     100.500000     NaN   36.000000           61.500000   \n",
            "75%     150.250000     NaN   49.000000           78.000000   \n",
            "max     200.000000     NaN   70.000000          137.000000   \n",
            "\n",
            "        Spending Score (1-100)  \n",
            "count               200.000000  \n",
            "unique                     NaN  \n",
            "top                        NaN  \n",
            "freq                       NaN  \n",
            "mean                 50.200000  \n",
            "std                  25.823522  \n",
            "min                   1.000000  \n",
            "25%                  34.750000  \n",
            "50%                  50.000000  \n",
            "75%                  73.000000  \n",
            "max                  99.000000  \n"
          ]
        }
      ]
    },
    {
      "cell_type": "code",
      "source": [
        "#showing statistic info just a numeric data\n",
        "print(csv_data.describe(exclude=['O']))"
      ],
      "metadata": {
        "id": "s-42R93y2rHx",
        "outputId": "77e14fa4-0182-44e4-dfb5-92831976210f",
        "colab": {
          "base_uri": "https://localhost:8080/"
        }
      },
      "execution_count": null,
      "outputs": [
        {
          "output_type": "stream",
          "name": "stdout",
          "text": [
            "       CustomerID         Age  Annual Income (k$)  Spending Score (1-100)\n",
            "count  200.000000  200.000000          200.000000              200.000000\n",
            "mean   100.500000   38.850000           60.560000               50.200000\n",
            "std     57.879185   13.969007           26.264721               25.823522\n",
            "min      1.000000   18.000000           15.000000                1.000000\n",
            "25%     50.750000   28.750000           41.500000               34.750000\n",
            "50%    100.500000   36.000000           61.500000               50.000000\n",
            "75%    150.250000   49.000000           78.000000               73.000000\n",
            "max    200.000000   70.000000          137.000000               99.000000\n"
          ]
        }
      ]
    },
    {
      "cell_type": "code",
      "source": [
        "#Checking Null Value\n",
        "print(csv_data.isnull().values.any())"
      ],
      "metadata": {
        "id": "Go1wRZBw4pdv",
        "outputId": "33b550ad-2aa7-4f1f-9177-aeb292e7b96c",
        "colab": {
          "base_uri": "https://localhost:8080/"
        }
      },
      "execution_count": null,
      "outputs": [
        {
          "output_type": "stream",
          "name": "stdout",
          "text": [
            "False\n"
          ]
        }
      ]
    },
    {
      "cell_type": "markdown",
      "source": [
        "Read Dataset - Tsv and Csv"
      ],
      "metadata": {
        "id": "TSGDMklDV2c1"
      }
    },
    {
      "cell_type": "code",
      "source": [
        "import pandas as pd\n",
        "# File CSV\n",
        "df_csv = pd.read_csv('https://storage.googleapis.com/dqlab-dataset/sample_csv.csv')\n",
        "print(df_csv.head(5))\n"
      ],
      "metadata": {
        "colab": {
          "base_uri": "https://localhost:8080/"
        },
        "id": "EtOt2aX9V5kz",
        "outputId": "7701d84e-0de7-40ca-d785-96a4e709c105"
      },
      "execution_count": null,
      "outputs": [
        {
          "output_type": "stream",
          "name": "stdout",
          "text": [
            "   order_id  order_date  customer_id             city     province product_id  \\\n",
            "0   1612339  2019-01-01        18055  Jakarta Selatan  DKI Jakarta      P0648   \n",
            "1   1612339  2019-01-01        18055  Jakarta Selatan  DKI Jakarta      P3826   \n",
            "2   1612339  2019-01-01        18055  Jakarta Selatan  DKI Jakarta      P1508   \n",
            "3   1612339  2019-01-01        18055  Jakarta Selatan  DKI Jakarta      P0520   \n",
            "4   1612339  2019-01-01        18055  Jakarta Selatan  DKI Jakarta      P1513   \n",
            "\n",
            "     brand  quantity  item_price  \n",
            "0  BRAND_C         4     1934000  \n",
            "1  BRAND_V         8      604000  \n",
            "2  BRAND_G        12      747000  \n",
            "3  BRAND_B        12      450000  \n",
            "4  BRAND_G         3     1500000  \n"
          ]
        }
      ]
    },
    {
      "cell_type": "code",
      "source": [
        "# File TSV\n",
        "df_tsv = pd.read_csv('https://storage.googleapis.com/dqlab-dataset/sample_tsv.tsv', sep='\\t')\n",
        "print(df_tsv.head(5))"
      ],
      "metadata": {
        "colab": {
          "base_uri": "https://localhost:8080/"
        },
        "id": "CPOeqTTgV-HV",
        "outputId": "c8aa008b-18fb-43e8-cbaf-87e76e8b10b9"
      },
      "execution_count": null,
      "outputs": [
        {
          "output_type": "stream",
          "name": "stdout",
          "text": [
            "   order_id  order_date  customer_id             city     province product_id  \\\n",
            "0   1612339  2019-01-01        18055  Jakarta Selatan  DKI Jakarta      P0648   \n",
            "1   1612339  2019-01-01        18055  Jakarta Selatan  DKI Jakarta      P3826   \n",
            "2   1612339  2019-01-01        18055  Jakarta Selatan  DKI Jakarta      P1508   \n",
            "3   1612339  2019-01-01        18055  Jakarta Selatan  DKI Jakarta      P0520   \n",
            "4   1612339  2019-01-01        18055  Jakarta Selatan  DKI Jakarta      P1513   \n",
            "\n",
            "     brand  quantity  item_price  \n",
            "0  BRAND_C         4     1934000  \n",
            "1  BRAND_V         8      604000  \n",
            "2  BRAND_G        12      747000  \n",
            "3  BRAND_B        12      450000  \n",
            "4  BRAND_G         3     1500000  \n"
          ]
        }
      ]
    },
    {
      "cell_type": "markdown",
      "source": [
        "Read Dataset Excel file"
      ],
      "metadata": {
        "id": "DMUaQeq9WEU1"
      }
    },
    {
      "cell_type": "code",
      "source": [
        "import pandas as pd\n",
        "df_excel = pd.read_excel('https://storage.googleapis.com/dqlab-dataset/sample_excel.xlsx', sheet_name=\"test\")\n",
        "print(df_excel.head(5))"
      ],
      "metadata": {
        "colab": {
          "base_uri": "https://localhost:8080/"
        },
        "id": "UGJpdK5CWGlI",
        "outputId": "68c13a35-73e7-450d-c476-1ba20a1c5676"
      },
      "execution_count": null,
      "outputs": [
        {
          "output_type": "stream",
          "name": "stdout",
          "text": [
            "   order_id  order_date  customer_id             city     province product_id  \\\n",
            "0   1612339  2019-01-01        18055  Jakarta Selatan  DKI Jakarta      P0648   \n",
            "1   1612339  2019-01-01        18055  Jakarta Selatan  DKI Jakarta      P3826   \n",
            "2   1612339  2019-01-01        18055  Jakarta Selatan  DKI Jakarta      P1508   \n",
            "3   1612339  2019-01-01        18055  Jakarta Selatan  DKI Jakarta      P0520   \n",
            "4   1612339  2019-01-01        18055  Jakarta Selatan  DKI Jakarta      P1513   \n",
            "\n",
            "     brand  quantity  item_price  \n",
            "0  BRAND_C         4     1934000  \n",
            "1  BRAND_V         8      604000  \n",
            "2  BRAND_G        12      747000  \n",
            "3  BRAND_B        12      450000  \n",
            "4  BRAND_G         3     1500000  \n"
          ]
        }
      ]
    },
    {
      "cell_type": "markdown",
      "source": [
        "Read Dataset from Json"
      ],
      "metadata": {
        "id": "rVZg9BkWWfKp"
      }
    },
    {
      "cell_type": "code",
      "source": [
        "import pandas as pd\n",
        "url = \"https://storage.googleapis.com/dqlab-dataset/covid2019-api-herokuapp-v2.json\"\n",
        "df_json = pd.read_json(url)\n",
        "print(df_json.head(10))"
      ],
      "metadata": {
        "colab": {
          "base_uri": "https://localhost:8080/"
        },
        "id": "C6vi8iC4WjWs",
        "outputId": "82c32fd2-e20d-4959-87b7-35bf68dd57a0"
      },
      "execution_count": null,
      "outputs": [
        {
          "output_type": "stream",
          "name": "stdout",
          "text": [
            "                                                data          dt          ts\n",
            "0  {'location': 'US', 'confirmed': 3363056, 'deat...  07-14-2020  1594684800\n",
            "1  {'location': 'Brazil', 'confirmed': 1884967, '...  07-14-2020  1594684800\n",
            "2  {'location': 'India', 'confirmed': 906752, 'de...  07-14-2020  1594684800\n",
            "3  {'location': 'Russia', 'confirmed': 732547, 'd...  07-14-2020  1594684800\n",
            "4  {'location': 'Peru', 'confirmed': 330123, 'dea...  07-14-2020  1594684800\n",
            "5  {'location': 'Chile', 'confirmed': 317657, 'de...  07-14-2020  1594684800\n",
            "6  {'location': 'Mexico', 'confirmed': 304435, 'd...  07-14-2020  1594684800\n",
            "7  {'location': 'United Kingdom', 'confirmed': 29...  07-14-2020  1594684800\n",
            "8  {'location': 'South Africa', 'confirmed': 2877...  07-14-2020  1594684800\n",
            "9  {'location': 'Iran', 'confirmed': 259652, 'dea...  07-14-2020  1594684800\n"
          ]
        }
      ]
    },
    {
      "cell_type": "markdown",
      "source": [
        "Handling Missing Value\n",
        "\n",
        "1.   Inspeksi Missing Value\n",
        "\n"
      ],
      "metadata": {
        "id": "oq4Wgm_yXBS_"
      }
    },
    {
      "cell_type": "code",
      "source": [
        "import pandas as pd\n",
        "missing_data = pd.read_csv('https://storage.googleapis.com/dqlab-dataset/datacovid19.csv')\n",
        "print(missing_data.info())"
      ],
      "metadata": {
        "colab": {
          "base_uri": "https://localhost:8080/"
        },
        "id": "TPb3Uw8GXHa2",
        "outputId": "8bd4f6f9-d28e-481d-adcf-7a0677f2f03e"
      },
      "execution_count": null,
      "outputs": [
        {
          "output_type": "stream",
          "name": "stdout",
          "text": [
            "<class 'pandas.core.frame.DataFrame'>\n",
            "RangeIndex: 1000 entries, 0 to 999\n",
            "Data columns (total 13 columns):\n",
            " #   Column          Non-Null Count  Dtype  \n",
            "---  ------          --------------  -----  \n",
            " 0   province_state  960 non-null    object \n",
            " 1   country_region  1000 non-null   object \n",
            " 2   date            1000 non-null   object \n",
            " 3   latitude        874 non-null    float64\n",
            " 4   longitude       874 non-null    float64\n",
            " 5   location_geom   874 non-null    object \n",
            " 6   confirmed       1000 non-null   int64  \n",
            " 7   deaths          999 non-null    float64\n",
            " 8   recovered       999 non-null    float64\n",
            " 9   active          949 non-null    float64\n",
            " 10  fips            949 non-null    float64\n",
            " 11  admin2          842 non-null    object \n",
            " 12  combined_key    0 non-null      float64\n",
            "dtypes: float64(7), int64(1), object(5)\n",
            "memory usage: 101.7+ KB\n",
            "None\n"
          ]
        }
      ]
    },
    {
      "cell_type": "code",
      "source": [
        "missing_data = missing_data.isna().sum()\n",
        "print(\"\\nJumlah missing value perkolom:\\n\", missing_data)"
      ],
      "metadata": {
        "colab": {
          "base_uri": "https://localhost:8080/"
        },
        "id": "Yy_MC6tTXivl",
        "outputId": "0ed02821-2289-4beb-eac6-cbd090227d5f"
      },
      "execution_count": null,
      "outputs": [
        {
          "output_type": "stream",
          "name": "stdout",
          "text": [
            "\n",
            "Jumlah missing value perkolom:\n",
            " province_state      40\n",
            "country_region       0\n",
            "date                 0\n",
            "latitude           126\n",
            "longitude          126\n",
            "location_geom      126\n",
            "confirmed            0\n",
            "deaths               1\n",
            "recovered            1\n",
            "active              51\n",
            "fips                51\n",
            "admin2             158\n",
            "combined_key      1000\n",
            "dtype: int64\n"
          ]
        }
      ]
    },
    {
      "cell_type": "markdown",
      "source": [
        "Handling Missing Value"
      ],
      "metadata": {
        "id": "e68FRt3NXqfo"
      }
    },
    {
      "cell_type": "code",
      "source": [
        "import pandas as pd\n",
        "df = pd.read_csv('https://storage.googleapis.com/dqlab-dataset/datacovid19.csv')\n",
        "print(\"Ukuran awal df: %d baris, %d kolom.\" %  df.shape)\n",
        "print(df.isna().sum())\n",
        "df = df.dropna(axis=1, how=\"all\")\n",
        "print(\"Ukuran data setelah pembuangan kolom dengan seluruh data missing value: %d baris, %d kolom.\" % df.shape)\n",
        "df = df.dropna(axis=0 , how = \"any\")\n",
        "print(\"Ukuran data setelah pembuangan baris yang memiliki sekurangnya 1 missing value: %d baris, %d kolom.\" % df.shape)"
      ],
      "metadata": {
        "colab": {
          "base_uri": "https://localhost:8080/"
        },
        "id": "JlD8k9ZPXtqP",
        "outputId": "0230a67c-f7cd-4fc6-aa9f-7cc7491184c0"
      },
      "execution_count": null,
      "outputs": [
        {
          "output_type": "stream",
          "name": "stdout",
          "text": [
            "Ukuran awal df: 1000 baris, 13 kolom.\n",
            "province_state      40\n",
            "country_region       0\n",
            "date                 0\n",
            "latitude           126\n",
            "longitude          126\n",
            "location_geom      126\n",
            "confirmed            0\n",
            "deaths               1\n",
            "recovered            1\n",
            "active              51\n",
            "fips                51\n",
            "admin2             158\n",
            "combined_key      1000\n",
            "dtype: int64\n",
            "Ukuran data setelah pembuangan kolom dengan seluruh data missing value: 1000 baris, 12 kolom.\n",
            "Ukuran data setelah pembuangan baris yang memiliki sekurangnya 1 missing value: 746 baris, 12 kolom.\n"
          ]
        }
      ]
    },
    {
      "cell_type": "markdown",
      "source": [
        "Handling Missing Value Part III mengisi missing value dengan data lain"
      ],
      "metadata": {
        "id": "RvFW7IiBY2Uo"
      }
    },
    {
      "cell_type": "code",
      "source": [
        "import pandas as pd\n",
        "df = pd.read_csv('https://storage.googleapis.com/dqlab-dataset/datacovid19.csv')\n",
        "# print unique value from province state\n",
        "print(df[\"province_state\"].unique())\n",
        "# fill province state with unknown province state\n",
        "df[\"province_state\"] = df[\"province_state\"].fillna(\"unknown_province_state\")\n",
        "print(df[\"province_state\"].unique())"
      ],
      "metadata": {
        "colab": {
          "base_uri": "https://localhost:8080/"
        },
        "id": "8Lj2aemEY3x-",
        "outputId": "51a65d2a-1644-45a3-9b8e-6ebcf6529590"
      },
      "execution_count": null,
      "outputs": [
        {
          "output_type": "stream",
          "name": "stdout",
          "text": [
            "[nan 'US' 'Guam' 'Iowa']\n",
            "['unknown_province_state' 'US' 'Guam' 'Iowa']\n"
          ]
        }
      ]
    },
    {
      "cell_type": "code",
      "source": [
        "import pandas as pd\n",
        "df = pd.read_csv('https://storage.googleapis.com/dqlab-dataset/datacovid19.csv')\n",
        "# print first value from mean and median\n",
        "print(\"Awal: mean = %f, median = %f.\" % (df[\"active\"].mean(), df[\"active\"].median()))\n",
        "# filling missing value\n",
        "df_median = df[\"active\"].fillna(df[\"active\"].median())\n",
        "# print value from median and mean after filling median\n",
        "print(\"Fillna median: mean = %f, median = %f.\" % (df_median.mean(), df_median.median()))\n",
        "# filling missing value with mean\n",
        "df_mean = df[\"active\"].fillna(df[\"active\"].mean())\n",
        "# print value from median and mean after filling mean\n",
        "print(\"Fillna mean: mean = %f, median = %f.\" % (df_mean.mean(),df_mean.median()))"
      ],
      "metadata": {
        "colab": {
          "base_uri": "https://localhost:8080/"
        },
        "id": "q0S3uYwRZnqb",
        "outputId": "085829f1-33dd-419e-8f72-f49fb486cd07"
      },
      "execution_count": null,
      "outputs": [
        {
          "output_type": "stream",
          "name": "stdout",
          "text": [
            "Awal: mean = 192.571128, median = 41.000000.\n",
            "Fillna median: mean = 184.841000, median = 41.000000.\n",
            "Fillna mean: mean = 192.571128, median = 49.000000.\n"
          ]
        }
      ]
    }
  ]
}