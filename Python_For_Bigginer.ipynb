{
  "nbformat": 4,
  "nbformat_minor": 0,
  "metadata": {
    "colab": {
      "name": "Python For Bigginer.ipynb",
      "provenance": [],
      "collapsed_sections": [],
      "authorship_tag": "ABX9TyPUp/tK0woi9AZKgoo2zL2y",
      "include_colab_link": true
    },
    "kernelspec": {
      "name": "python3",
      "display_name": "Python 3"
    },
    "language_info": {
      "name": "python"
    }
  },
  "cells": [
    {
      "cell_type": "markdown",
      "metadata": {
        "id": "view-in-github",
        "colab_type": "text"
      },
      "source": [
        "<a href=\"https://colab.research.google.com/github/SariNanda42/My-Learning-Journey/blob/main/Python_For_Bigginer.ipynb\" target=\"_parent\"><img src=\"https://colab.research.google.com/assets/colab-badge.svg\" alt=\"Open In Colab\"/></a>"
      ]
    },
    {
      "cell_type": "code",
      "execution_count": null,
      "metadata": {
        "colab": {
          "base_uri": "https://localhost:8080/"
        },
        "id": "Hs3WTKWpYuwZ",
        "outputId": "04bf0a8a-3d6e-40ff-c4f1-43adce1774fe"
      },
      "outputs": [
        {
          "output_type": "stream",
          "name": "stdout",
          "text": [
            "Hello World\n"
          ]
        }
      ],
      "source": [
        "print(\"Hello World\")"
      ]
    },
    {
      "cell_type": "code",
      "source": [
        "bilangan = 5\n",
        "bilangan2 =3\n",
        "print(bilangan+bilangan2)\n",
        "print(bilangan-bilangan2)"
      ],
      "metadata": {
        "colab": {
          "base_uri": "https://localhost:8080/"
        },
        "id": "AY_P4wpDZDPS",
        "outputId": "d05095d9-696e-46e0-efb2-691a91389ef3"
      },
      "execution_count": null,
      "outputs": [
        {
          "output_type": "stream",
          "name": "stdout",
          "text": [
            "8\n",
            "2\n"
          ]
        }
      ]
    },
    {
      "cell_type": "markdown",
      "source": [
        "*Variable*"
      ],
      "metadata": {
        "id": "JtQ-h1NiZPpd"
      }
    },
    {
      "cell_type": "code",
      "source": [
        "bilangan = 1\n",
        "_nanda = 3\n",
        "NANDA = 4"
      ],
      "metadata": {
        "id": "j4sXSPBDZR0q"
      },
      "execution_count": null,
      "outputs": []
    },
    {
      "cell_type": "markdown",
      "source": [
        "Tipe data dasar ( Null, Boolean, Numeric, Text)\n",
        "\n",
        "\n",
        "1.   Null = Nilai kosong (None)\n",
        "2.   Boolean = True/false\n",
        "3.   Numeric = data angka , int = untu bilangan bulat , float = untuk bilangan rill (bilangan koma)\n",
        "4.   Text = data text biasa\n",
        "\n",
        "\n",
        "\n",
        "\n",
        "\n",
        " \n",
        "\n",
        "\n"
      ],
      "metadata": {
        "id": "V96iW92VZdq8"
      }
    },
    {
      "cell_type": "markdown",
      "source": [
        "List dan Tuple"
      ],
      "metadata": {
        "id": "MflGDKlfaCA3"
      }
    },
    {
      "cell_type": "code",
      "source": [
        "#Contoh data List (data list bersifat mutable yang isinya dapat kita ubah)\n",
        "#mengisi data list\n",
        "list_1 = [1,2,3,4,'lima', 6]\n",
        "#Menampilkan isi list di urutan 1\n",
        "print(list_1 [0])\n",
        "print(list_1[4])\n",
        "#Mengganti isi data list pada urutan ke dua menjadi 'lima'\n",
        "list_1 [2] = 'lima'\n",
        "print(list_1)\n",
        "print(list_1[2])"
      ],
      "metadata": {
        "colab": {
          "base_uri": "https://localhost:8080/"
        },
        "id": "U83EvUzcZl8t",
        "outputId": "b4f349b0-e891-435a-969b-76a0e6e866ef"
      },
      "execution_count": null,
      "outputs": [
        {
          "output_type": "stream",
          "name": "stdout",
          "text": [
            "1\n",
            "lima\n",
            "[1, 2, 'lima', 4, 'lima', 6]\n",
            "lima\n"
          ]
        }
      ]
    },
    {
      "cell_type": "code",
      "source": [
        "#Contoh data Tuple (data tuple bersifat immutable tidak bisa di ubah isinya)\n",
        "nama_tahun = ('Januari', 'Februari', 'Maret', 'April', 'Mei', 'Juni', 'Junli', 'Agustus')\n",
        "print(nama_tahun[1])\n",
        "nama_tahun [2] = 'Desember'\n",
        "print(nama_tahun [2])"
      ],
      "metadata": {
        "colab": {
          "base_uri": "https://localhost:8080/",
          "height": 246
        },
        "id": "eemnxhx3aLnI",
        "outputId": "d54fb2e1-82ad-4278-8a0b-07f0876a84db"
      },
      "execution_count": null,
      "outputs": [
        {
          "output_type": "stream",
          "name": "stdout",
          "text": [
            "Februari\n"
          ]
        },
        {
          "output_type": "error",
          "ename": "TypeError",
          "evalue": "ignored",
          "traceback": [
            "\u001b[0;31m---------------------------------------------------------------------------\u001b[0m",
            "\u001b[0;31mTypeError\u001b[0m                                 Traceback (most recent call last)",
            "\u001b[0;32m<ipython-input-5-6012bad2f69d>\u001b[0m in \u001b[0;36m<module>\u001b[0;34m()\u001b[0m\n\u001b[1;32m      2\u001b[0m \u001b[0mnama_tahun\u001b[0m \u001b[0;34m=\u001b[0m \u001b[0;34m(\u001b[0m\u001b[0;34m'Januari'\u001b[0m\u001b[0;34m,\u001b[0m \u001b[0;34m'Februari'\u001b[0m\u001b[0;34m,\u001b[0m \u001b[0;34m'Maret'\u001b[0m\u001b[0;34m,\u001b[0m \u001b[0;34m'April'\u001b[0m\u001b[0;34m,\u001b[0m \u001b[0;34m'Mei'\u001b[0m\u001b[0;34m,\u001b[0m \u001b[0;34m'Juni'\u001b[0m\u001b[0;34m,\u001b[0m \u001b[0;34m'Junli'\u001b[0m\u001b[0;34m,\u001b[0m \u001b[0;34m'Agustus'\u001b[0m\u001b[0;34m)\u001b[0m\u001b[0;34m\u001b[0m\u001b[0;34m\u001b[0m\u001b[0m\n\u001b[1;32m      3\u001b[0m \u001b[0mprint\u001b[0m\u001b[0;34m(\u001b[0m\u001b[0mnama_tahun\u001b[0m\u001b[0;34m[\u001b[0m\u001b[0;36m1\u001b[0m\u001b[0;34m]\u001b[0m\u001b[0;34m)\u001b[0m\u001b[0;34m\u001b[0m\u001b[0;34m\u001b[0m\u001b[0m\n\u001b[0;32m----> 4\u001b[0;31m \u001b[0mnama_tahun\u001b[0m \u001b[0;34m[\u001b[0m\u001b[0;36m2\u001b[0m\u001b[0;34m]\u001b[0m \u001b[0;34m=\u001b[0m \u001b[0;34m'Desember'\u001b[0m\u001b[0;34m\u001b[0m\u001b[0;34m\u001b[0m\u001b[0m\n\u001b[0m\u001b[1;32m      5\u001b[0m \u001b[0mprint\u001b[0m\u001b[0;34m(\u001b[0m\u001b[0mnama_tahun\u001b[0m \u001b[0;34m[\u001b[0m\u001b[0;36m2\u001b[0m\u001b[0;34m]\u001b[0m\u001b[0;34m)\u001b[0m\u001b[0;34m\u001b[0m\u001b[0;34m\u001b[0m\u001b[0m\n",
            "\u001b[0;31mTypeError\u001b[0m: 'tuple' object does not support item assignment"
          ]
        }
      ]
    },
    {
      "cell_type": "markdown",
      "source": [
        "Set Type (Set dan Frozenset)"
      ],
      "metadata": {
        "id": "yWuaAkm-aXNg"
      }
    },
    {
      "cell_type": "code",
      "source": [
        "#Data Set : Diawali dan diakhiri tanda kurung kurawal dipisahan tanda koma, tipe data ini tidak mengizinkan adanya data yang sama\n",
        "Nama_besti_list = {'Nanda','Ecik', 'Rani','Lady','Emrin','Nanda','Rani'}\n",
        "print(Nama_besti_list)"
      ],
      "metadata": {
        "colab": {
          "base_uri": "https://localhost:8080/"
        },
        "id": "AQVsNny5aYcG",
        "outputId": "d758cec1-436f-4d2a-9391-4eecbf1d4fff"
      },
      "execution_count": null,
      "outputs": [
        {
          "output_type": "stream",
          "name": "stdout",
          "text": [
            "{'Ecik', 'Emrin', 'Nanda', 'Lady', 'Rani'}\n"
          ]
        }
      ]
    },
    {
      "cell_type": "markdown",
      "source": [
        "Contoh perbedaan data list, set, dan frozenset"
      ],
      "metadata": {
        "id": "e_XGaCsabJ0C"
      }
    },
    {
      "cell_type": "code",
      "source": [
        "#list\n",
        "Teman = ['Nanda','Desi','Rani','Emrin','Lady','Nanda','Rani']\n",
        "print(Teman)\n",
        "#Set\n",
        "Teman2 = {'Nanda','Rani','Nanda','Rani','Ecik'}\n",
        "print(Teman2)\n",
        "#frozenset\n",
        "Kawan = ({'Nanda','Desi','Rani','Emrin','Lady','Nanda','Rani'})\n",
        "print(Kawan)"
      ],
      "metadata": {
        "colab": {
          "base_uri": "https://localhost:8080/"
        },
        "id": "bg9hwtUubK38",
        "outputId": "04518b3f-a6a3-4c74-b7c9-5af9bb51c0ca"
      },
      "execution_count": null,
      "outputs": [
        {
          "output_type": "stream",
          "name": "stdout",
          "text": [
            "['Nanda', 'Desi', 'Rani', 'Emrin', 'Lady', 'Nanda', 'Rani']\n",
            "{'Nanda', 'Ecik', 'Rani'}\n",
            "{'Desi', 'Emrin', 'Nanda', 'Lady', 'Rani'}\n"
          ]
        }
      ]
    },
    {
      "cell_type": "code",
      "source": [
        "#Tipe data Mapping atau biasa disebut dictionary\n",
        "orang = {'Nama' : 'Budi', 'Pekerjaan' : 'Software Engginer',}\n",
        "print(orang['Nama'])\n",
        "print(orang['Pekerjaan'])"
      ],
      "metadata": {
        "colab": {
          "base_uri": "https://localhost:8080/"
        },
        "id": "1QtoNIYxbY9h",
        "outputId": "acb1f6a5-9786-4c5e-8289-9ff57a2fb887"
      },
      "execution_count": null,
      "outputs": [
        {
          "output_type": "stream",
          "name": "stdout",
          "text": [
            "Budi\n",
            "Software Engginer\n"
          ]
        }
      ]
    },
    {
      "cell_type": "code",
      "source": [
        "#contoh dictionary\n",
        "nama_barang_sepatu = {'Nama' : 'Sepatu Nike' , 'Harga' : 150000, 'Diskon' : 30000}\n",
        "nama_barang_baju = {'Nama' : 'Baju Uniqlo', 'Harga' : 80000, 'Diskon' : 8000}\n",
        "nama_barang_celana = {'Nama' : 'Celana Jeans', 'Harga' : 200000, 'Diskon' : 20000}\n",
        "#simpan kedalam data list\n",
        "daftar_belanja = [nama_barang_sepatu,nama_barang_baju,nama_barang_sepatu]\n",
        "#harga barang setelah diskon\n",
        "Sepatu = (nama_barang_sepatu['Harga'] - nama_barang_sepatu ['Diskon'])\n",
        "Baju = (nama_barang_baju['Harga']-nama_barang_baju ['Diskon'])\n",
        "Celana = (nama_barang_celana['Harga']- nama_barang_celana['Diskon'])\n",
        "Harga_total = (Sepatu + Baju + Celana)\n",
        "Harga_Pajak = (Harga_total * 1.1)\n",
        "print(Harga_Pajak)\n"
      ],
      "metadata": {
        "colab": {
          "base_uri": "https://localhost:8080/"
        },
        "id": "Vft80zLHbbGr",
        "outputId": "d3908aa0-2671-4ea9-b219-d280deb5f105"
      },
      "execution_count": null,
      "outputs": [
        {
          "output_type": "stream",
          "name": "stdout",
          "text": [
            "409200.00000000006\n"
          ]
        }
      ]
    },
    {
      "cell_type": "code",
      "source": [
        "bulan_pembelian = (\"januari\",\"februari\",\"maret\",\"april\",\"mei\",\"juni\",\"juli\",\"agustus\",\"oktober\",\"november\",\"desember\")\n",
        "print(bulan_pembelian[0])\n",
        "print(bulan_pembelian[1])\n",
        "print(bulan_pembelian[-1])\n",
        "print(bulan_pembelian[-2])"
      ],
      "metadata": {
        "colab": {
          "base_uri": "https://localhost:8080/"
        },
        "id": "Gt41NSoyd4Fc",
        "outputId": "a5d6ed8b-e37d-405b-c58d-e8e05066b92b"
      },
      "execution_count": null,
      "outputs": [
        {
          "output_type": "stream",
          "name": "stdout",
          "text": [
            "januari\n",
            "februari\n",
            "desember\n",
            "november\n"
          ]
        }
      ]
    },
    {
      "cell_type": "code",
      "source": [
        "#Mengakses list dan tuple slicing dengan mnggunakan rentang nilai indeks\n",
        "bulan_pembelian = ('Januari', 'Februari','Maret','April','Mei','Juni','Juli','Agustus','Spetember','Oktober','November','Desember')\n",
        "pertengahan_tahun = bulan_pembelian[4:8]\n",
        "print(pertengahan_tahun)\n",
        "awal_tahun = bulan_pembelian[:4]\n",
        "print(awal_tahun)\n",
        "akhir_tahun = bulan_pembelian[-4:]\n",
        "print(akhir_tahun)\n",
        "#cuting list/tuple using negatif indeks\n",
        "print(bulan_pembelian[-4:-1])"
      ],
      "metadata": {
        "colab": {
          "base_uri": "https://localhost:8080/"
        },
        "id": "TiX79g-Yd7Li",
        "outputId": "b26b6f81-e776-4bc7-cbda-32bdf19fad52"
      },
      "execution_count": null,
      "outputs": [
        {
          "output_type": "stream",
          "name": "stdout",
          "text": [
            "('Mei', 'Juni', 'Juli', 'Agustus')\n",
            "('Januari', 'Februari', 'Maret', 'April')\n",
            "('Spetember', 'Oktober', 'November', 'Desember')\n",
            "('Spetember', 'Oktober', 'November')\n"
          ]
        }
      ]
    },
    {
      "cell_type": "code",
      "source": [
        "#Combine list or tuple\n",
        "list_makanan = ['Gado-gado','Ayam Goreng','Rendang']\n",
        "list_minuman = ['Es Teh','Es Jeruk','Es Campur']\n",
        "list_menu = list_makanan + list_minuman\n",
        "print(list_menu)"
      ],
      "metadata": {
        "colab": {
          "base_uri": "https://localhost:8080/"
        },
        "id": "CfS63guHeDlb",
        "outputId": "fab08277-da22-4906-a28b-7835c1340237"
      },
      "execution_count": null,
      "outputs": [
        {
          "output_type": "stream",
          "name": "stdout",
          "text": [
            "['Gado-gado', 'Ayam Goreng', 'Rendang', 'Es Teh', 'Es Jeruk', 'Es Campur']\n"
          ]
        }
      ]
    },
    {
      "cell_type": "markdown",
      "source": [
        "list Manipulation (append(),clear(),copy(),count(),extend())"
      ],
      "metadata": {
        "id": "d8i4ecFKeTNp"
      }
    },
    {
      "cell_type": "code",
      "source": [
        "#.append\n",
        "print(\">>> Fitur.append()\")\n",
        "list_makanan = ['Gado-gado','Ayam Goreng','Rendang']\n",
        "list_makanan.append('Ketoprak')\n",
        "print(list_makanan)"
      ],
      "metadata": {
        "colab": {
          "base_uri": "https://localhost:8080/"
        },
        "id": "m0Wm--ozeVFv",
        "outputId": "d1f88942-7bcb-4c9e-9659-d1d67f4f428d"
      },
      "execution_count": null,
      "outputs": [
        {
          "output_type": "stream",
          "name": "stdout",
          "text": [
            ">>> Fitur.append()\n",
            "['Gado-gado', 'Ayam Goreng', 'Rendang', 'Ketoprak']\n"
          ]
        }
      ]
    },
    {
      "cell_type": "code",
      "source": [
        "#.clear\n",
        "print(\">>> Fitur.clear()\")\n",
        "list_makanan = ['Gado-gado','Ayam Goreng', 'Rendang']\n",
        "list_makanan.clear()\n",
        "print(list_makanan)"
      ],
      "metadata": {
        "colab": {
          "base_uri": "https://localhost:8080/"
        },
        "id": "NgU3PEIxegOM",
        "outputId": "7e8cd945-1f7c-4849-c378-bbad55db4f0f"
      },
      "execution_count": null,
      "outputs": [
        {
          "output_type": "stream",
          "name": "stdout",
          "text": [
            ">>> Fitur.clear()\n",
            "[]\n"
          ]
        }
      ]
    },
    {
      "cell_type": "code",
      "source": [
        "#.copy\n",
        "print(\">>> Fitur.copy()\")\n",
        "list_makanan1 = ['Gado-gado','Ayam Goreng','Rendang']\n",
        "list_makanan2 = list_makanan1.copy()\n",
        "list_makanan3 = list_makanan1\n",
        "list_makanan2.append('Opor')\n",
        "list_makanan1.append('Ketoprak')\n",
        "print(list_makanan2)\n",
        "print(list_makanan1)"
      ],
      "metadata": {
        "colab": {
          "base_uri": "https://localhost:8080/"
        },
        "id": "TBH94jlyelxB",
        "outputId": "cc0dc499-1b7c-42c5-d286-0f3f01728984"
      },
      "execution_count": null,
      "outputs": [
        {
          "output_type": "stream",
          "name": "stdout",
          "text": [
            ">>> Fitur.copy()\n",
            "['Gado-gado', 'Ayam Goreng', 'Rendang', 'Opor']\n",
            "['Gado-gado', 'Ayam Goreng', 'Rendang', 'Ketoprak']\n"
          ]
        }
      ]
    },
    {
      "cell_type": "code",
      "source": [
        "#.count\n",
        "print(\">>> Fitur. count()\")\n",
        "list_nama = ['Nanda','Nanda','Rani','Rani','Rani','Nanda','Nanda']\n",
        "jumlah_nama1 = list_nama.count('Nanda')\n",
        "jumlah_nama = list_nama.count('Rani')\n",
        "print(jumlah_nama1)\n",
        "print(jumlah_nama)"
      ],
      "metadata": {
        "colab": {
          "base_uri": "https://localhost:8080/"
        },
        "id": "vbijnJahevM9",
        "outputId": "48f051a3-1cb4-40c7-f8e2-3831f21d7836"
      },
      "execution_count": null,
      "outputs": [
        {
          "output_type": "stream",
          "name": "stdout",
          "text": [
            ">>> Fitur. count()\n",
            "4\n",
            "3\n"
          ]
        }
      ]
    },
    {
      "cell_type": "code",
      "source": [
        "#.extend\n",
        "print(\">>> Fitur.extend()\")\n",
        "list_makanan = ['Gado-Gado','Ayam Goreng','Rendang']\n",
        "list_minuman = ['Boba','Es Teh','Cappucino']\n",
        "list_makanan.extend(list_minuman)\n",
        "print(list_makanan)"
      ],
      "metadata": {
        "colab": {
          "base_uri": "https://localhost:8080/"
        },
        "id": "DQZ8o-7ZezLb",
        "outputId": "4474a1b3-5b85-48bf-a850-63103b977fd9"
      },
      "execution_count": null,
      "outputs": [
        {
          "output_type": "stream",
          "name": "stdout",
          "text": [
            ">>> Fitur.extend()\n",
            "['Gado-Gado', 'Ayam Goreng', 'Rendang', 'Boba', 'Es Teh', 'Cappucino']\n"
          ]
        }
      ]
    },
    {
      "cell_type": "markdown",
      "source": [
        "list manipulation index(), insert(), pop(), remove(), reverse(), and sort()"
      ],
      "metadata": {
        "id": "dDuHzehoe7y4"
      }
    },
    {
      "cell_type": "code",
      "source": [
        "#.index\n",
        "print(\">>> Fitur.index()\")\n",
        "list_score = ['Budi','Sudi','Budi','Budi','Budi','Sud','Sud']\n",
        "list_pertama_sudi = list_score.index('Sudi') + 1\n",
        "print(list_pertama_sudi)"
      ],
      "metadata": {
        "colab": {
          "base_uri": "https://localhost:8080/"
        },
        "id": "9bPEghRTe94O",
        "outputId": "021345c8-b1c5-4f9f-db0a-5c138fe52c4f"
      },
      "execution_count": null,
      "outputs": [
        {
          "output_type": "stream",
          "name": "stdout",
          "text": [
            ">>> Fitur.index()\n",
            "2\n"
          ]
        }
      ]
    },
    {
      "cell_type": "code",
      "source": [
        "#.insert\n",
        "print(\">>> Fitur.insert()\")\n",
        "list_score = ['Budi','Sud','Budi','Budi','Sud']\n",
        "list_score.insert(3, 'Sud')\n",
        "print(list_score)"
      ],
      "metadata": {
        "colab": {
          "base_uri": "https://localhost:8080/"
        },
        "id": "Jw6mtyuYfBBo",
        "outputId": "ed1fa5d6-a2f7-40fa-ac86-2c74f0ee89bd"
      },
      "execution_count": null,
      "outputs": [
        {
          "output_type": "stream",
          "name": "stdout",
          "text": [
            ">>> Fitur.insert()\n",
            "['Budi', 'Sud', 'Budi', 'Sud', 'Budi', 'Sud']\n"
          ]
        }
      ]
    },
    {
      "cell_type": "code",
      "source": [
        "#.pop()\n",
        "print(\">>> Fitur.pop()\")\n",
        "list_menu = ['Gado-gado','Ayam Goreng','Ayam Pop']\n",
        "list_menu.pop(1)\n",
        "print(list_menu)"
      ],
      "metadata": {
        "colab": {
          "base_uri": "https://localhost:8080/"
        },
        "id": "v2E8ze5NfoxV",
        "outputId": "af3a5bd3-79f3-41a0-a46f-4cf3c2ffb323"
      },
      "execution_count": null,
      "outputs": [
        {
          "output_type": "stream",
          "name": "stdout",
          "text": [
            ">>> Fitur.pop()\n",
            "['Gado-gado', 'Ayam Pop']\n"
          ]
        }
      ]
    },
    {
      "cell_type": "code",
      "source": [
        "#.remove()\n",
        "print(\">>> Fitur.remove()\")\n",
        "list_menu = ['Ayam Goreng','Ayam Bakar','Gado-gado','Ketoprak','Kerak Telor']\n",
        "list_menu.remove('Ketoprak')\n",
        "print(list_menu)"
      ],
      "metadata": {
        "colab": {
          "base_uri": "https://localhost:8080/"
        },
        "id": "t9GcPZ_vftwu",
        "outputId": "2e5e3da9-eeb7-4601-bbd0-8546db808b0d"
      },
      "execution_count": null,
      "outputs": [
        {
          "output_type": "stream",
          "name": "stdout",
          "text": [
            ">>> Fitur.remove()\n",
            "['Ayam Goreng', 'Ayam Bakar', 'Gado-gado', 'Kerak Telor']\n"
          ]
        }
      ]
    },
    {
      "cell_type": "code",
      "source": [
        "#.reverse()\n",
        "print(\">>> Fitur.reverse()\")\n",
        "list_menu = ['Ayam Goreng','Ayam Bakar','Gado-gado','Ketoprak','Kerak Telor']\n",
        "list_menu.reverse()\n",
        "print(list_menu)"
      ],
      "metadata": {
        "colab": {
          "base_uri": "https://localhost:8080/"
        },
        "id": "anbsT9MnfyQZ",
        "outputId": "4248248a-8dfa-436f-9c6d-196108366cc8"
      },
      "execution_count": null,
      "outputs": [
        {
          "output_type": "stream",
          "name": "stdout",
          "text": [
            ">>> Fitur.reverse()\n",
            "['Kerak Telor', 'Ketoprak', 'Gado-gado', 'Ayam Bakar', 'Ayam Goreng']\n"
          ]
        }
      ]
    },
    {
      "cell_type": "code",
      "source": [
        "#.sort()\n",
        "print(\">>> Fitur.sort()\")\n",
        "list_menu = [5,6,7,6,7,1,2,3]\n",
        "list_menu.sort()\n",
        "print(list_menu)\n",
        "list_menu.sort(reverse=True)\n",
        "print(list_menu)"
      ],
      "metadata": {
        "colab": {
          "base_uri": "https://localhost:8080/"
        },
        "id": "EP2y_PcJf5yc",
        "outputId": "5eefb2c7-8212-40bf-fce2-20494565a5f1"
      },
      "execution_count": null,
      "outputs": [
        {
          "output_type": "stream",
          "name": "stdout",
          "text": [
            ">>> Fitur.sort()\n",
            "[1, 2, 3, 5, 6, 6, 7, 7]\n",
            "[7, 7, 6, 6, 5, 3, 2, 1]\n"
          ]
        }
      ]
    },
    {
      "cell_type": "markdown",
      "source": [
        "Tuple Manipulation"
      ],
      "metadata": {
        "id": "4ZOSS5YQgrPl"
      }
    },
    {
      "cell_type": "code",
      "source": [
        "#.count\n",
        "print(\">>> Fitur.count()\")\n",
        "tuple_score = ('Budi','Sud','Budi','Budi','Budi','Sud','Sud')\n",
        "score_budi = tuple_score.count('Budi')\n",
        "score_sud = tuple_score.count('Sud')\n",
        "print(score_budi)\n",
        "print(score_sud)"
      ],
      "metadata": {
        "colab": {
          "base_uri": "https://localhost:8080/"
        },
        "id": "BUYtU9RegsPX",
        "outputId": "d8b6d431-e16e-446f-eb6c-1fa1bc47e4aa"
      },
      "execution_count": null,
      "outputs": [
        {
          "output_type": "stream",
          "name": "stdout",
          "text": [
            ">>> Fitur.count()\n",
            "4\n",
            "3\n"
          ]
        }
      ]
    },
    {
      "cell_type": "code",
      "source": [
        "#.index\n",
        "print(\">>> Fitur.Index()\")\n",
        "tuple_score = ('Budi','Sud','Sud','Budi','Sud','Budi','Sud')\n",
        "score_pertama_sud = tuple_score.index('Sud')+2\n",
        "print(score_pertama_sud)"
      ],
      "metadata": {
        "colab": {
          "base_uri": "https://localhost:8080/"
        },
        "id": "4TFkMhHFgylZ",
        "outputId": "88a56245-6338-43c7-8ae4-fd3eba964542"
      },
      "execution_count": null,
      "outputs": [
        {
          "output_type": "stream",
          "name": "stdout",
          "text": [
            ">>> Fitur.Index()\n",
            "3\n"
          ]
        }
      ]
    },
    {
      "cell_type": "markdown",
      "source": [
        "Set Manipulation Part"
      ],
      "metadata": {
        "id": "rVq6ECD0hEKq"
      }
    },
    {
      "cell_type": "code",
      "source": [
        "#.add()\n",
        "print(\">>> Fitur.add()\")\n",
        "set_buah = {'Jeruk','Apel','Anggur'}\n",
        "set_buah.add('Melon')\n",
        "print(set_buah)"
      ],
      "metadata": {
        "colab": {
          "base_uri": "https://localhost:8080/"
        },
        "id": "2o6oUHNahE3O",
        "outputId": "10bb0d28-7542-48d3-c214-9f3039b690ce"
      },
      "execution_count": null,
      "outputs": [
        {
          "output_type": "stream",
          "name": "stdout",
          "text": [
            ">>> Fitur.add()\n",
            "{'Jeruk', 'Anggur', 'Melon', 'Apel'}\n"
          ]
        }
      ]
    },
    {
      "cell_type": "code",
      "source": [
        "#.clear\n",
        "print(\">>> Fitur.clear()\")\n",
        "set_buah = {'Jeruk','Apel','Anggur'}\n",
        "set_buah.clear()\n",
        "print(set_buah)"
      ],
      "metadata": {
        "colab": {
          "base_uri": "https://localhost:8080/"
        },
        "id": "cAdI9xPlhIDo",
        "outputId": "49eb2137-ced0-4293-a3e4-f05ec85c8c4a"
      },
      "execution_count": null,
      "outputs": [
        {
          "output_type": "stream",
          "name": "stdout",
          "text": [
            ">>> Fitur.clear()\n",
            "set()\n"
          ]
        }
      ]
    },
    {
      "cell_type": "code",
      "source": [
        "#.copy\n",
        "print(\">>> Fitur.copy()\")\n",
        "set_buah1 = {'Jeruk','Apel','Anggur'}\n",
        "set_buah2 = set_buah1\n",
        "set_buah3 = set_buah1.copy()\n",
        "set_buah2.add('Rambutan')\n",
        "set_buah3.add('Mengkudu')\n",
        "print(set_buah2)\n",
        "print(set_buah3)"
      ],
      "metadata": {
        "colab": {
          "base_uri": "https://localhost:8080/"
        },
        "id": "VaKISfaHhKeg",
        "outputId": "09a46091-9977-4440-ed76-dd28eff499fd"
      },
      "execution_count": null,
      "outputs": [
        {
          "output_type": "stream",
          "name": "stdout",
          "text": [
            ">>> Fitur.copy()\n",
            "{'Jeruk', 'Rambutan', 'Anggur', 'Apel'}\n",
            "{'Jeruk', 'Mengkudu', 'Anggur', 'Apel'}\n"
          ]
        }
      ]
    },
    {
      "cell_type": "code",
      "source": [
        "#.remove \n",
        "print(\">>> Fitur.remove()\")\n",
        "parcel = {'Jeruk','Mengkudu','Apel'}\n",
        "parcel.remove('Apel')\n",
        "print(parcel)"
      ],
      "metadata": {
        "colab": {
          "base_uri": "https://localhost:8080/"
        },
        "id": "SS0Gkax2ifpw",
        "outputId": "bdd11911-2148-486b-e56f-d278729240e9"
      },
      "execution_count": null,
      "outputs": [
        {
          "output_type": "stream",
          "name": "stdout",
          "text": [
            ">>> Fitur.remove()\n",
            "{'Jeruk', 'Mengkudu'}\n"
          ]
        }
      ]
    },
    {
      "cell_type": "markdown",
      "source": [
        "Dictionary Manipulation"
      ],
      "metadata": {
        "id": "26_CjrdMinNX"
      }
    },
    {
      "cell_type": "code",
      "source": [
        "#.clear\n",
        "print(\">>> Fitur.clear()\")\n",
        "info_karyawan = {'nama':'Anidia', 'nik':'12345', 'pekerjaan':'Bisnis Girl'}\n",
        "info_karyawan.clear()\n",
        "print(info_karyawan)"
      ],
      "metadata": {
        "colab": {
          "base_uri": "https://localhost:8080/"
        },
        "id": "nVU6rPfnioV-",
        "outputId": "a60cfc5c-84b3-4c58-9116-846f3bf18bd1"
      },
      "execution_count": null,
      "outputs": [
        {
          "output_type": "stream",
          "name": "stdout",
          "text": [
            ">>> Fitur.clear()\n",
            "{}\n"
          ]
        }
      ]
    },
    {
      "cell_type": "code",
      "source": [
        "#.copy\n",
        "print(\">>> Fitur.copy()\")\n",
        "info_karyawan1 = {'nama':'Anidia','nik':'12345','pekerjaan':'Bisnis Girl'}\n",
        "info_karyawan2 = info_karyawan1.copy()\n",
        "info_karyawan2['nama'] = 'Nanda'\n",
        "info_karyawan2['nik'] = '56789'\n",
        "info_karyawan2['pekerjaan'] = 'Data Scienctist'\n",
        "print(info_karyawan1)\n",
        "print(info_karyawan2)"
      ],
      "metadata": {
        "colab": {
          "base_uri": "https://localhost:8080/"
        },
        "id": "IZIF0ttviwSb",
        "outputId": "0ba42cb4-c7d4-4974-cf90-3c31b683155b"
      },
      "execution_count": null,
      "outputs": [
        {
          "output_type": "stream",
          "name": "stdout",
          "text": [
            ">>> Fitur.copy()\n",
            "{'nama': 'Anidia', 'nik': '12345', 'pekerjaan': 'Bisnis Girl'}\n",
            "{'nama': 'Nanda', 'nik': '56789', 'pekerjaan': 'Data Scienctist'}\n"
          ]
        }
      ]
    },
    {
      "cell_type": "code",
      "source": [
        "#.keys\n",
        "print(\">>> Fitur.keys()\")\n",
        "info_karyawan = {'nama':'Nanda','nik':'5789','pekerjaan':'Data Scientist'}\n",
        "kunci_akses = list(info_karyawan.keys())\n",
        "print(kunci_akses)"
      ],
      "metadata": {
        "colab": {
          "base_uri": "https://localhost:8080/"
        },
        "id": "biTBJrXkjBae",
        "outputId": "274427cc-858d-4d6b-fc40-f961f468774b"
      },
      "execution_count": null,
      "outputs": [
        {
          "output_type": "stream",
          "name": "stdout",
          "text": [
            ">>> Fitur.keys()\n",
            "['nama', 'nik', 'pekerjaan']\n"
          ]
        }
      ]
    },
    {
      "cell_type": "code",
      "source": [
        "#.values\n",
        "print(\">>> Fitur.values()\")\n",
        "value_dict = list(info_karyawan.values())\n",
        "print(value_dict)"
      ],
      "metadata": {
        "colab": {
          "base_uri": "https://localhost:8080/"
        },
        "id": "AdPmFxc8jLeC",
        "outputId": "44cf36db-bbe5-49b7-dc87-135dfb3c2d71"
      },
      "execution_count": null,
      "outputs": [
        {
          "output_type": "stream",
          "name": "stdout",
          "text": [
            ">>> Fitur.values()\n",
            "['Nanda', '5789', 'Data Scientist']\n"
          ]
        }
      ]
    },
    {
      "cell_type": "markdown",
      "source": [
        "Penggabungan, pemecahan, dan penggantian string"
      ],
      "metadata": {
        "id": "eDkTiqAiloXP"
      }
    },
    {
      "cell_type": "code",
      "source": [
        "#.split() = memecah sebuah string berdasarkan string lainnya dalam sebuah list\n",
        "print(\">>> Fitur.split()\")\n",
        "frasa = \"ani dan budi dan wati dan johan dan bejo\"\n",
        "karakter = frasa.split(\"dan\") #memisahkan berdasarkan karakter \n",
        "print(karakter)\n",
        "spasi = frasa.split(\" \") #berdasarkan spasi\n",
        "print(spasi)"
      ],
      "metadata": {
        "colab": {
          "base_uri": "https://localhost:8080/"
        },
        "id": "uzOIglJ0lp77",
        "outputId": "f6288b20-fe2c-4e0a-98d5-81318979f5c5"
      },
      "execution_count": null,
      "outputs": [
        {
          "output_type": "stream",
          "name": "stdout",
          "text": [
            ">>> Fitur.split()\n",
            "['ani ', ' budi ', ' wati ', ' johan ', ' bejo']\n",
            "['ani', 'dan', 'budi', 'dan', 'wati', 'dan', 'johan', 'dan', 'bejo']\n"
          ]
        }
      ]
    },
    {
      "cell_type": "code",
      "source": [
        "#.join() = menggabungkan sebuah list yang berisikan string \n",
        "print(\">>> Fitur.join()\")\n",
        "pemisah = \" dan \"\n",
        "karakter = [\"Ricky\",\"Petter\",\"Jordan\"]\n",
        "print(pemisah.join(karakter))\n",
        "frasa = \" \".join(karakter)\n",
        "print(frasa)"
      ],
      "metadata": {
        "colab": {
          "base_uri": "https://localhost:8080/"
        },
        "id": "t0S0GVdIlvkj",
        "outputId": "7546ff7b-aea2-4a08-d4be-c7a1317abcd5"
      },
      "execution_count": null,
      "outputs": [
        {
          "output_type": "stream",
          "name": "stdout",
          "text": [
            ">>> Fitur.join()\n",
            "Ricky dan Petter dan Jordan\n",
            "Ricky Petter Jordan\n"
          ]
        }
      ]
    },
    {
      "cell_type": "code",
      "source": [
        "#.replace = mmenggantikan suatu string tertentu dengan string lainnya\n",
        "print(\">>> Fitur.replace()\")\n",
        "nama_buah = \"apel malang adalah apel yang paling enak, apel segar, apel sehat\"\n",
        "nama_buah = nama_buah.replace('apel',\"jeruk\")\n",
        "print(nama_buah)"
      ],
      "metadata": {
        "colab": {
          "base_uri": "https://localhost:8080/"
        },
        "id": "B3qqjpF4mJfw",
        "outputId": "5dab13a2-cfd0-42d2-92d9-77945e25c6d5"
      },
      "execution_count": null,
      "outputs": [
        {
          "output_type": "stream",
          "name": "stdout",
          "text": [
            ">>> Fitur.replace()\n",
            "jeruk malang adalah jeruk yang paling enak, jeruk segar, jeruk sehat\n"
          ]
        }
      ]
    }
  ]
}
